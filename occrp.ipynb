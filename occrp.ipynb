{
 "cells": [
  {
   "cell_type": "markdown",
   "id": "75922827-b8fa-4cae-9378-47976e141c7a",
   "metadata": {},
   "source": [
    "# Analysis of \"Azerbaijani Laundromat\" transaction data"
   ]
  },
  {
   "cell_type": "markdown",
   "id": "f70677c5-06bf-441d-b659-b02e10efdea8",
   "metadata": {},
   "source": [
    "## set up environment"
   ]
  },
  {
   "cell_type": "markdown",
   "id": "cd71e9de-eb63-41d9-b90e-1d8f745d2b93",
   "metadata": {},
   "source": [
    "Load the library dependencies"
   ]
  },
  {
   "cell_type": "code",
   "execution_count": 1,
   "id": "4272d417-ded4-4a28-9e26-acecbd7fdc9e",
   "metadata": {
    "execution": {
     "iopub.execute_input": "2025-02-23T07:25:12.757431Z",
     "iopub.status.busy": "2025-02-23T07:25:12.757263Z",
     "iopub.status.idle": "2025-02-23T07:25:13.398216Z",
     "shell.execute_reply": "2025-02-23T07:25:13.397926Z",
     "shell.execute_reply.started": "2025-02-23T07:25:12.757412Z"
    }
   },
   "outputs": [],
   "source": [
    "from collections import defaultdict\n",
    "from datetime import datetime, timedelta\n",
    "import itertools\n",
    "import pathlib\n",
    "import statistics\n",
    "import typing\n",
    "\n",
    "from icecream import ic\n",
    "from matplotlib.ticker import FuncFormatter\n",
    "import matplotlib.pyplot as plt\n",
    "import networkx as nx\n",
    "import pandas as pd\n",
    "import pyvis\n",
    "import scipy\n",
    "import seaborn as sns\n",
    "import watermark"
   ]
  },
  {
   "cell_type": "markdown",
   "id": "b212ce85-06f8-4f54-a21a-818090ccadf3",
   "metadata": {},
   "source": [
    "Show a watermark of the OS, hardware, language environment, and dependent library versions."
   ]
  },
  {
   "cell_type": "code",
   "execution_count": 2,
   "id": "b0dbe92a-ed37-4a39-98bb-ce5c4ee07bc0",
   "metadata": {
    "execution": {
     "iopub.execute_input": "2025-02-23T07:25:13.398639Z",
     "iopub.status.busy": "2025-02-23T07:25:13.398528Z",
     "iopub.status.idle": "2025-02-23T07:25:13.414176Z",
     "shell.execute_reply": "2025-02-23T07:25:13.413853Z",
     "shell.execute_reply.started": "2025-02-23T07:25:13.398633Z"
    }
   },
   "outputs": [
    {
     "name": "stdout",
     "output_type": "stream",
     "text": [
      "Last updated: 2025-02-22T23:25:13.399293-08:00\n",
      "\n",
      "Python implementation: CPython\n",
      "Python version       : 3.13.2\n",
      "IPython version      : 8.32.0\n",
      "\n",
      "Compiler    : Clang 16.0.0 (clang-1600.0.26.6)\n",
      "OS          : Darwin\n",
      "Release     : 23.6.0\n",
      "Machine     : arm64\n",
      "Processor   : arm\n",
      "CPU cores   : 14\n",
      "Architecture: 64bit\n",
      "\n",
      "seaborn   : 0.13.2\n",
      "networkx  : 3.4.2\n",
      "scipy     : 1.15.2\n",
      "pandas    : 2.2.3\n",
      "matplotlib: 3.10.0\n",
      "watermark : 2.5.0\n",
      "pyvis     : 0.3.2\n",
      "\n"
     ]
    }
   ],
   "source": [
    "%load_ext watermark\n",
    "%watermark\n",
    "%watermark --iversions"
   ]
  },
  {
   "cell_type": "markdown",
   "id": "2447b630-0913-4791-b2aa-3f8828433fc7",
   "metadata": {},
   "source": [
    "Configure `pandas`"
   ]
  },
  {
   "cell_type": "code",
   "execution_count": 3,
   "id": "afe2ea5f-cba2-4588-a9ad-6699d02cfe87",
   "metadata": {
    "execution": {
     "iopub.execute_input": "2025-02-23T07:25:13.414849Z",
     "iopub.status.busy": "2025-02-23T07:25:13.414751Z",
     "iopub.status.idle": "2025-02-23T07:25:13.416909Z",
     "shell.execute_reply": "2025-02-23T07:25:13.416648Z",
     "shell.execute_reply.started": "2025-02-23T07:25:13.414839Z"
    }
   },
   "outputs": [],
   "source": [
    "pd.set_option(\"display.max_rows\", None)"
   ]
  },
  {
   "cell_type": "markdown",
   "id": "acf7d589-2af6-4fc5-a2a9-165850db7677",
   "metadata": {},
   "source": [
    "## load the money transfer data"
   ]
  },
  {
   "cell_type": "markdown",
   "id": "a479bf3c-6b43-4796-9f65-0e6211920189",
   "metadata": {},
   "source": [
    "Load the OCCRP data for the \"Azerbaijani Laundromat\" leaked bank transactions <https://github.com/cj2001/senzing_occrp_mapping_demo/blob/main/occrp_17k.csv>"
   ]
  },
  {
   "cell_type": "code",
   "execution_count": 4,
   "id": "164cfe7e-a6e9-49e9-8b02-248cd288c1d8",
   "metadata": {
    "execution": {
     "iopub.execute_input": "2025-02-23T07:25:13.417325Z",
     "iopub.status.busy": "2025-02-23T07:25:13.417233Z",
     "iopub.status.idle": "2025-02-23T07:25:13.457140Z",
     "shell.execute_reply": "2025-02-23T07:25:13.456846Z",
     "shell.execute_reply.started": "2025-02-23T07:25:13.417312Z"
    }
   },
   "outputs": [],
   "source": [
    "occrp_file: pathlib.Path = pathlib.Path(\"occrp_17k.csv\")\n",
    "df_orig: pd.DataFrame = pd.read_csv(occrp_file)"
   ]
  },
  {
   "cell_type": "code",
   "execution_count": 5,
   "id": "5474d93d-e6b3-4050-9069-30e5852c8702",
   "metadata": {
    "execution": {
     "iopub.execute_input": "2025-02-23T07:25:13.457674Z",
     "iopub.status.busy": "2025-02-23T07:25:13.457589Z",
     "iopub.status.idle": "2025-02-23T07:25:13.465579Z",
     "shell.execute_reply": "2025-02-23T07:25:13.465373Z",
     "shell.execute_reply.started": "2025-02-23T07:25:13.457667Z"
    }
   },
   "outputs": [
    {
     "data": {
      "text/html": [
       "<div>\n",
       "<style scoped>\n",
       "    .dataframe tbody tr th:only-of-type {\n",
       "        vertical-align: middle;\n",
       "    }\n",
       "\n",
       "    .dataframe tbody tr th {\n",
       "        vertical-align: top;\n",
       "    }\n",
       "\n",
       "    .dataframe thead th {\n",
       "        text-align: right;\n",
       "    }\n",
       "</style>\n",
       "<table border=\"1\" class=\"dataframe\">\n",
       "  <thead>\n",
       "    <tr style=\"text-align: right;\">\n",
       "      <th></th>\n",
       "      <th>payer_name</th>\n",
       "      <th>payer_jurisdiction</th>\n",
       "      <th>payer_account</th>\n",
       "      <th>source_file</th>\n",
       "      <th>amount_orig</th>\n",
       "      <th>id</th>\n",
       "      <th>beneficiary_type</th>\n",
       "      <th>beneficiary_core</th>\n",
       "      <th>amount_orig_currency</th>\n",
       "      <th>beneficiary_name</th>\n",
       "      <th>...</th>\n",
       "      <th>beneficiary_name_norm</th>\n",
       "      <th>payer_core</th>\n",
       "      <th>beneficiary_account</th>\n",
       "      <th>purpose</th>\n",
       "      <th>date</th>\n",
       "      <th>amount_usd</th>\n",
       "      <th>amount_eur</th>\n",
       "      <th>payer_type</th>\n",
       "      <th>payer_name_norm</th>\n",
       "      <th>payer_bank_country</th>\n",
       "    </tr>\n",
       "  </thead>\n",
       "  <tbody>\n",
       "    <tr>\n",
       "      <th>0</th>\n",
       "      <td>AZARBAYCAN METANOL KOMPANI MMC</td>\n",
       "      <td>AZ</td>\n",
       "      <td>33817018409333311204</td>\n",
       "      <td>pdf/LCM ALLIANCE Account statement 30.06.12-31...</td>\n",
       "      <td>535470.00</td>\n",
       "      <td>6049</td>\n",
       "      <td>Company</td>\n",
       "      <td>True</td>\n",
       "      <td>USD</td>\n",
       "      <td>LCM ALLIANCE LLP</td>\n",
       "      <td>...</td>\n",
       "      <td>LCM ALLIANCE LLP</td>\n",
       "      <td>False</td>\n",
       "      <td>EE27 3300 3335 0561 0002</td>\n",
       "      <td>1206295100052180 OCT4121800021 ADVANCE PAYM FO...</td>\n",
       "      <td>2012-06-30</td>\n",
       "      <td>535470</td>\n",
       "      <td>$431,762.31</td>\n",
       "      <td>Company</td>\n",
       "      <td>AZARBAYCAN METANOL KOMPANI MMC</td>\n",
       "      <td>33</td>\n",
       "    </tr>\n",
       "    <tr>\n",
       "      <th>1</th>\n",
       "      <td>LCM ALLIANCE LLP</td>\n",
       "      <td>GB</td>\n",
       "      <td>EE27 3300 3335 0561 0002</td>\n",
       "      <td>pdf/LCM ALLIANCE Account statement 30.06.12-31...</td>\n",
       "      <td>-535000.00</td>\n",
       "      <td>6050</td>\n",
       "      <td>Company</td>\n",
       "      <td>False</td>\n",
       "      <td>USD</td>\n",
       "      <td>MOBILA LLP</td>\n",
       "      <td>...</td>\n",
       "      <td>MOBILA LLP</td>\n",
       "      <td>True</td>\n",
       "      <td>333504500003</td>\n",
       "      <td>1207035026699176 INVOICE.No 6215 DD 25.05.2012</td>\n",
       "      <td>2012-07-03</td>\n",
       "      <td>535000</td>\n",
       "      <td>$423,688.44</td>\n",
       "      <td>Company</td>\n",
       "      <td>LCM ALLIANCE LLP</td>\n",
       "      <td>EE</td>\n",
       "    </tr>\n",
       "    <tr>\n",
       "      <th>2</th>\n",
       "      <td>SKN ELECTRICAL SERVICES LIMITEDACCO</td>\n",
       "      <td>GB</td>\n",
       "      <td>20100374548222</td>\n",
       "      <td>pdf/METASTAR Account statement 30.06.12-31.12....</td>\n",
       "      <td>90535.19</td>\n",
       "      <td>10623</td>\n",
       "      <td>Company</td>\n",
       "      <td>True</td>\n",
       "      <td>USD</td>\n",
       "      <td>METASTAR INVEST LLP</td>\n",
       "      <td>...</td>\n",
       "      <td>METASTAR INVEST LLP</td>\n",
       "      <td>False</td>\n",
       "      <td>EE77 3300 3334 8704 0004</td>\n",
       "      <td>1207065103089249   /FEE/USD4,81</td>\n",
       "      <td>2012-07-06</td>\n",
       "      <td>90536</td>\n",
       "      <td>$71,698.53</td>\n",
       "      <td>Company</td>\n",
       "      <td>SKN ELECTRICAL SERVICES LIMITED</td>\n",
       "      <td>20</td>\n",
       "    </tr>\n",
       "    <tr>\n",
       "      <th>3</th>\n",
       "      <td>METASTAR INVEST LLP</td>\n",
       "      <td>GB</td>\n",
       "      <td>EE77 3300 3334 8704 0004</td>\n",
       "      <td>pdf/METASTAR Account statement 30.06.12-31.12....</td>\n",
       "      <td>-90520.00</td>\n",
       "      <td>15589</td>\n",
       "      <td>Company</td>\n",
       "      <td>False</td>\n",
       "      <td>USD</td>\n",
       "      <td>INMAXO CAPITAL CORP</td>\n",
       "      <td>...</td>\n",
       "      <td>INMAXO CAPITAL CORP.</td>\n",
       "      <td>True</td>\n",
       "      <td>333455870002</td>\n",
       "      <td>1207095022358525 DOGOVOR ZAYMA</td>\n",
       "      <td>2012-07-09</td>\n",
       "      <td>90520</td>\n",
       "      <td>$71,686.50</td>\n",
       "      <td>Company</td>\n",
       "      <td>METASTAR INVEST LLP</td>\n",
       "      <td>EE</td>\n",
       "    </tr>\n",
       "    <tr>\n",
       "      <th>4</th>\n",
       "      <td>METASTAR INVEST LLP</td>\n",
       "      <td>GB</td>\n",
       "      <td>EE77 3300 3334 8704 0004</td>\n",
       "      <td>pdf/METASTAR Account statement 30.06.12-31.12....</td>\n",
       "      <td>-60.00</td>\n",
       "      <td>10624</td>\n",
       "      <td>Company</td>\n",
       "      <td>False</td>\n",
       "      <td>USD</td>\n",
       "      <td>INMAXO CAPITAL CORP</td>\n",
       "      <td>...</td>\n",
       "      <td>INMAXO CAPITAL CORP.</td>\n",
       "      <td>True</td>\n",
       "      <td>333455870002</td>\n",
       "      <td>1207135024578077 DOGOVOR ZAYMA</td>\n",
       "      <td>2012-07-13</td>\n",
       "      <td>60</td>\n",
       "      <td>$47.52</td>\n",
       "      <td>Company</td>\n",
       "      <td>METASTAR INVEST LLP</td>\n",
       "      <td>EE</td>\n",
       "    </tr>\n",
       "  </tbody>\n",
       "</table>\n",
       "<p>5 rows × 23 columns</p>\n",
       "</div>"
      ],
      "text/plain": [
       "                            payer_name payer_jurisdiction  \\\n",
       "0       AZARBAYCAN METANOL KOMPANI MMC                 AZ   \n",
       "1                     LCM ALLIANCE LLP                 GB   \n",
       "2  SKN ELECTRICAL SERVICES LIMITEDACCO                 GB   \n",
       "3                  METASTAR INVEST LLP                 GB   \n",
       "4                  METASTAR INVEST LLP                 GB   \n",
       "\n",
       "              payer_account  \\\n",
       "0      33817018409333311204   \n",
       "1  EE27 3300 3335 0561 0002   \n",
       "2            20100374548222   \n",
       "3  EE77 3300 3334 8704 0004   \n",
       "4  EE77 3300 3334 8704 0004   \n",
       "\n",
       "                                         source_file  amount_orig     id  \\\n",
       "0  pdf/LCM ALLIANCE Account statement 30.06.12-31...    535470.00   6049   \n",
       "1  pdf/LCM ALLIANCE Account statement 30.06.12-31...   -535000.00   6050   \n",
       "2  pdf/METASTAR Account statement 30.06.12-31.12....     90535.19  10623   \n",
       "3  pdf/METASTAR Account statement 30.06.12-31.12....    -90520.00  15589   \n",
       "4  pdf/METASTAR Account statement 30.06.12-31.12....       -60.00  10624   \n",
       "\n",
       "  beneficiary_type  beneficiary_core amount_orig_currency  \\\n",
       "0          Company              True                  USD   \n",
       "1          Company             False                  USD   \n",
       "2          Company              True                  USD   \n",
       "3          Company             False                  USD   \n",
       "4          Company             False                  USD   \n",
       "\n",
       "      beneficiary_name  ... beneficiary_name_norm payer_core  \\\n",
       "0     LCM ALLIANCE LLP  ...      LCM ALLIANCE LLP      False   \n",
       "1           MOBILA LLP  ...            MOBILA LLP       True   \n",
       "2  METASTAR INVEST LLP  ...   METASTAR INVEST LLP      False   \n",
       "3  INMAXO CAPITAL CORP  ...  INMAXO CAPITAL CORP.       True   \n",
       "4  INMAXO CAPITAL CORP  ...  INMAXO CAPITAL CORP.       True   \n",
       "\n",
       "        beneficiary_account  \\\n",
       "0  EE27 3300 3335 0561 0002   \n",
       "1              333504500003   \n",
       "2  EE77 3300 3334 8704 0004   \n",
       "3              333455870002   \n",
       "4              333455870002   \n",
       "\n",
       "                                             purpose        date amount_usd  \\\n",
       "0  1206295100052180 OCT4121800021 ADVANCE PAYM FO...  2012-06-30     535470   \n",
       "1     1207035026699176 INVOICE.No 6215 DD 25.05.2012  2012-07-03     535000   \n",
       "2                    1207065103089249   /FEE/USD4,81  2012-07-06      90536   \n",
       "3                     1207095022358525 DOGOVOR ZAYMA  2012-07-09      90520   \n",
       "4                     1207135024578077 DOGOVOR ZAYMA  2012-07-13         60   \n",
       "\n",
       "    amount_eur payer_type                  payer_name_norm payer_bank_country  \n",
       "0  $431,762.31    Company   AZARBAYCAN METANOL KOMPANI MMC                 33  \n",
       "1  $423,688.44    Company                 LCM ALLIANCE LLP                 EE  \n",
       "2   $71,698.53    Company  SKN ELECTRICAL SERVICES LIMITED                 20  \n",
       "3   $71,686.50    Company              METASTAR INVEST LLP                 EE  \n",
       "4       $47.52    Company              METASTAR INVEST LLP                 EE  \n",
       "\n",
       "[5 rows x 23 columns]"
      ]
     },
     "execution_count": 5,
     "metadata": {},
     "output_type": "execute_result"
    }
   ],
   "source": [
    "df_orig.head()"
   ]
  },
  {
   "cell_type": "code",
   "execution_count": 6,
   "id": "816d33f3-0a9d-4d89-923d-e0c2f2360d45",
   "metadata": {
    "execution": {
     "iopub.execute_input": "2025-02-23T07:25:13.466983Z",
     "iopub.status.busy": "2025-02-23T07:25:13.466890Z",
     "iopub.status.idle": "2025-02-23T07:25:13.468901Z",
     "shell.execute_reply": "2025-02-23T07:25:13.468696Z",
     "shell.execute_reply.started": "2025-02-23T07:25:13.466976Z"
    }
   },
   "outputs": [
    {
     "data": {
      "text/plain": [
       "Index(['payer_name', 'payer_jurisdiction', 'payer_account', 'source_file',\n",
       "       'amount_orig', 'id', 'beneficiary_type', 'beneficiary_core',\n",
       "       'amount_orig_currency', 'beneficiary_name', 'beneficiary_jurisdiction',\n",
       "       'investigation', 'beneficiary_bank_country', 'beneficiary_name_norm',\n",
       "       'payer_core', 'beneficiary_account', 'purpose', 'date', 'amount_usd',\n",
       "       'amount_eur', 'payer_type', 'payer_name_norm', 'payer_bank_country'],\n",
       "      dtype='object')"
      ]
     },
     "execution_count": 6,
     "metadata": {},
     "output_type": "execute_result"
    }
   ],
   "source": [
    "df_orig.columns"
   ]
  },
  {
   "cell_type": "markdown",
   "id": "4210a479-1a33-4416-a734-248edf592ac0",
   "metadata": {},
   "source": [
    "reduce the dataframe to just the slice needed for this analysis"
   ]
  },
  {
   "cell_type": "code",
   "execution_count": 7,
   "id": "364b82ce-b57b-4a6b-9501-eff3ebae3c85",
   "metadata": {
    "execution": {
     "iopub.execute_input": "2025-02-23T07:25:13.469307Z",
     "iopub.status.busy": "2025-02-23T07:25:13.469237Z",
     "iopub.status.idle": "2025-02-23T07:25:13.479832Z",
     "shell.execute_reply": "2025-02-23T07:25:13.479608Z",
     "shell.execute_reply.started": "2025-02-23T07:25:13.469300Z"
    }
   },
   "outputs": [
    {
     "data": {
      "text/html": [
       "<div>\n",
       "<style scoped>\n",
       "    .dataframe tbody tr th:only-of-type {\n",
       "        vertical-align: middle;\n",
       "    }\n",
       "\n",
       "    .dataframe tbody tr th {\n",
       "        vertical-align: top;\n",
       "    }\n",
       "\n",
       "    .dataframe thead th {\n",
       "        text-align: right;\n",
       "    }\n",
       "</style>\n",
       "<table border=\"1\" class=\"dataframe\">\n",
       "  <thead>\n",
       "    <tr style=\"text-align: right;\">\n",
       "      <th></th>\n",
       "      <th>date</th>\n",
       "      <th>amount_orig</th>\n",
       "      <th>payer_name</th>\n",
       "      <th>beneficiary_name</th>\n",
       "      <th>purpose</th>\n",
       "    </tr>\n",
       "  </thead>\n",
       "  <tbody>\n",
       "    <tr>\n",
       "      <th>0</th>\n",
       "      <td>2012-06-30</td>\n",
       "      <td>535470.00</td>\n",
       "      <td>AZARBAYCAN METANOL KOMPANI MMC</td>\n",
       "      <td>LCM ALLIANCE LLP</td>\n",
       "      <td>1206295100052180 OCT4121800021 ADVANCE PAYM FO...</td>\n",
       "    </tr>\n",
       "    <tr>\n",
       "      <th>2</th>\n",
       "      <td>2012-07-06</td>\n",
       "      <td>90535.19</td>\n",
       "      <td>SKN ELECTRICAL SERVICES LIMITEDACCO</td>\n",
       "      <td>METASTAR INVEST LLP</td>\n",
       "      <td>1207065103089249   /FEE/USD4,81</td>\n",
       "    </tr>\n",
       "    <tr>\n",
       "      <th>5</th>\n",
       "      <td>2012-07-13</td>\n",
       "      <td>189352.15</td>\n",
       "      <td>INMAXO CAPITAL CORP.</td>\n",
       "      <td>METASTAR INVEST LLP</td>\n",
       "      <td>CONTRACT N 001 DD 24.12.2009</td>\n",
       "    </tr>\n",
       "    <tr>\n",
       "      <th>6</th>\n",
       "      <td>2012-07-13</td>\n",
       "      <td>225850.00</td>\n",
       "      <td>INMAXO CAPITAL CORP.</td>\n",
       "      <td>METASTAR INVEST LLP</td>\n",
       "      <td>1207135026233261 CONTRACT N 001 DD 24.12.2009</td>\n",
       "    </tr>\n",
       "    <tr>\n",
       "      <th>21</th>\n",
       "      <td>2012-07-16</td>\n",
       "      <td>150000.00</td>\n",
       "      <td>MOBILA LLP</td>\n",
       "      <td>METASTAR INVEST LLP</td>\n",
       "      <td>1207165026198353 INVOICE.No 69 DD 13.07.2012</td>\n",
       "    </tr>\n",
       "  </tbody>\n",
       "</table>\n",
       "</div>"
      ],
      "text/plain": [
       "         date  amount_orig                           payer_name  \\\n",
       "0  2012-06-30    535470.00       AZARBAYCAN METANOL KOMPANI MMC   \n",
       "2  2012-07-06     90535.19  SKN ELECTRICAL SERVICES LIMITEDACCO   \n",
       "5  2012-07-13    189352.15                 INMAXO CAPITAL CORP.   \n",
       "6  2012-07-13    225850.00                 INMAXO CAPITAL CORP.   \n",
       "21 2012-07-16    150000.00                           MOBILA LLP   \n",
       "\n",
       "       beneficiary_name                                            purpose  \n",
       "0      LCM ALLIANCE LLP  1206295100052180 OCT4121800021 ADVANCE PAYM FO...  \n",
       "2   METASTAR INVEST LLP                    1207065103089249   /FEE/USD4,81  \n",
       "5   METASTAR INVEST LLP                       CONTRACT N 001 DD 24.12.2009  \n",
       "6   METASTAR INVEST LLP      1207135026233261 CONTRACT N 001 DD 24.12.2009  \n",
       "21  METASTAR INVEST LLP       1207165026198353 INVOICE.No 69 DD 13.07.2012  "
      ]
     },
     "execution_count": 7,
     "metadata": {},
     "output_type": "execute_result"
    }
   ],
   "source": [
    "cols_keep: typing.List[ str ] = [\n",
    "    \"date\",\n",
    "    \"amount_orig\",\n",
    "    \"payer_name\",\n",
    "    \"beneficiary_name\",\n",
    "    \"purpose\",\n",
    "    ]\n",
    "\n",
    "diff: typing.Set[ str ] = set(df_orig.columns) - set(cols_keep)\n",
    "    \n",
    "df: pd.DataFrame = df_orig.drop(\n",
    "    diff,\n",
    "    axis = 1,\n",
    "    inplace = False,\n",
    ").sort_values(by = \"date\").reindex(columns = cols_keep)\n",
    "\n",
    "df = df[df[\"amount_orig\"] >= 0]\n",
    "df.date = pd.to_datetime(df.date)\n",
    "\n",
    "df.head()"
   ]
  },
  {
   "cell_type": "code",
   "execution_count": 8,
   "id": "f3af5540-a8f1-4143-8891-451e387d7b4f",
   "metadata": {
    "execution": {
     "iopub.execute_input": "2025-02-23T07:25:13.480374Z",
     "iopub.status.busy": "2025-02-23T07:25:13.480242Z",
     "iopub.status.idle": "2025-02-23T07:25:13.491323Z",
     "shell.execute_reply": "2025-02-23T07:25:13.490964Z",
     "shell.execute_reply.started": "2025-02-23T07:25:13.480362Z"
    }
   },
   "outputs": [],
   "source": [
    "azeri_file: pathlib.Path = pathlib.Path(\"azeri.csv\")\n",
    "df.to_csv(azeri_file, sep = \"\\t\", encoding = \"utf-8\")"
   ]
  },
  {
   "cell_type": "markdown",
   "id": "285e8463-d41c-4896-85c1-be36f1edf995",
   "metadata": {},
   "source": [
    "## descriptive statistics"
   ]
  },
  {
   "cell_type": "code",
   "execution_count": 9,
   "id": "ba0e121a-e0e2-47d2-bf68-cb5856d7149d",
   "metadata": {
    "execution": {
     "iopub.execute_input": "2025-02-23T07:25:13.491814Z",
     "iopub.status.busy": "2025-02-23T07:25:13.491737Z",
     "iopub.status.idle": "2025-02-23T07:25:13.499657Z",
     "shell.execute_reply": "2025-02-23T07:25:13.499462Z",
     "shell.execute_reply.started": "2025-02-23T07:25:13.491805Z"
    }
   },
   "outputs": [
    {
     "data": {
      "text/html": [
       "<div>\n",
       "<style scoped>\n",
       "    .dataframe tbody tr th:only-of-type {\n",
       "        vertical-align: middle;\n",
       "    }\n",
       "\n",
       "    .dataframe tbody tr th {\n",
       "        vertical-align: top;\n",
       "    }\n",
       "\n",
       "    .dataframe thead th {\n",
       "        text-align: right;\n",
       "    }\n",
       "</style>\n",
       "<table border=\"1\" class=\"dataframe\">\n",
       "  <thead>\n",
       "    <tr style=\"text-align: right;\">\n",
       "      <th></th>\n",
       "      <th>date</th>\n",
       "      <th>amount_orig</th>\n",
       "      <th>payer_name</th>\n",
       "      <th>beneficiary_name</th>\n",
       "      <th>purpose</th>\n",
       "    </tr>\n",
       "  </thead>\n",
       "  <tbody>\n",
       "    <tr>\n",
       "      <th>count</th>\n",
       "      <td>4069</td>\n",
       "      <td>4.069000e+03</td>\n",
       "      <td>4069</td>\n",
       "      <td>4069</td>\n",
       "      <td>4069</td>\n",
       "    </tr>\n",
       "    <tr>\n",
       "      <th>mean</th>\n",
       "      <td>2013-06-24 13:09:11.191939072</td>\n",
       "      <td>7.512028e+05</td>\n",
       "      <td>NaN</td>\n",
       "      <td>NaN</td>\n",
       "      <td>NaN</td>\n",
       "    </tr>\n",
       "    <tr>\n",
       "      <th>min</th>\n",
       "      <td>2012-06-30 00:00:00</td>\n",
       "      <td>6.600000e-01</td>\n",
       "      <td>NaN</td>\n",
       "      <td>NaN</td>\n",
       "      <td>NaN</td>\n",
       "    </tr>\n",
       "    <tr>\n",
       "      <th>max</th>\n",
       "      <td>2014-12-31 00:00:00</td>\n",
       "      <td>2.055997e+07</td>\n",
       "      <td>NaN</td>\n",
       "      <td>NaN</td>\n",
       "      <td>NaN</td>\n",
       "    </tr>\n",
       "    <tr>\n",
       "      <th>std</th>\n",
       "      <td>NaN</td>\n",
       "      <td>1.206048e+06</td>\n",
       "      <td>NaN</td>\n",
       "      <td>NaN</td>\n",
       "      <td>NaN</td>\n",
       "    </tr>\n",
       "    <tr>\n",
       "      <th>freq</th>\n",
       "      <td>NaN</td>\n",
       "      <td>NaN</td>\n",
       "      <td>530</td>\n",
       "      <td>1708</td>\n",
       "      <td>37</td>\n",
       "    </tr>\n",
       "    <tr>\n",
       "      <th>unique</th>\n",
       "      <td>NaN</td>\n",
       "      <td>NaN</td>\n",
       "      <td>437</td>\n",
       "      <td>4</td>\n",
       "      <td>3781</td>\n",
       "    </tr>\n",
       "  </tbody>\n",
       "</table>\n",
       "</div>"
      ],
      "text/plain": [
       "                                 date   amount_orig payer_name  \\\n",
       "count                            4069  4.069000e+03       4069   \n",
       "mean    2013-06-24 13:09:11.191939072  7.512028e+05        NaN   \n",
       "min               2012-06-30 00:00:00  6.600000e-01        NaN   \n",
       "max               2014-12-31 00:00:00  2.055997e+07        NaN   \n",
       "std                               NaN  1.206048e+06        NaN   \n",
       "freq                              NaN           NaN        530   \n",
       "unique                            NaN           NaN        437   \n",
       "\n",
       "       beneficiary_name purpose  \n",
       "count              4069    4069  \n",
       "mean                NaN     NaN  \n",
       "min                 NaN     NaN  \n",
       "max                 NaN     NaN  \n",
       "std                 NaN     NaN  \n",
       "freq               1708      37  \n",
       "unique                4    3781  "
      ]
     },
     "execution_count": 9,
     "metadata": {},
     "output_type": "execute_result"
    }
   ],
   "source": [
    "df.describe(include = \"all\").loc[[ \"count\", \"mean\", \"min\", \"max\", \"std\", \"freq\", \"unique\", ]]"
   ]
  },
  {
   "cell_type": "markdown",
   "id": "ae0ce45c-ee39-41ae-b41b-7125f344146a",
   "metadata": {},
   "source": [
    "## network visualization"
   ]
  },
  {
   "cell_type": "code",
   "execution_count": 10,
   "id": "0c2b45a1-ca50-4658-b461-9be9e3a3da9f",
   "metadata": {
    "execution": {
     "iopub.execute_input": "2025-02-23T07:25:13.500126Z",
     "iopub.status.busy": "2025-02-23T07:25:13.499999Z",
     "iopub.status.idle": "2025-02-23T07:25:13.507581Z",
     "shell.execute_reply": "2025-02-23T07:25:13.507305Z",
     "shell.execute_reply.started": "2025-02-23T07:25:13.500119Z"
    }
   },
   "outputs": [],
   "source": [
    "graph: nx.DiGraph = nx.DiGraph()\n",
    "\n",
    "net: pyvis.network.Network = pyvis.network.Network(\n",
    "    directed = True,\n",
    "    notebook = True,\n",
    "    cdn_resources = \"in_line\",\n",
    "    height = \"900px\", \n",
    "    width = \"100%\",\n",
    ")\n",
    "\n",
    "edge_xact: dict = defaultdict(list)"
   ]
  },
  {
   "cell_type": "code",
   "execution_count": 11,
   "id": "0df20808-a6f1-4d8d-af88-3bf22d45a1c6",
   "metadata": {
    "execution": {
     "iopub.execute_input": "2025-02-23T07:25:13.508041Z",
     "iopub.status.busy": "2025-02-23T07:25:13.507969Z",
     "iopub.status.idle": "2025-02-23T07:25:13.510161Z",
     "shell.execute_reply": "2025-02-23T07:25:13.509928Z",
     "shell.execute_reply.started": "2025-02-23T07:25:13.508034Z"
    }
   },
   "outputs": [],
   "source": [
    "def render_graph (\n",
    "    graph: nx.DiGraph,\n",
    "    ) -> pyvis.network.Network:\n",
    "    \"\"\"\n",
    "    Generate a `PyVis` network visualization from the DiGraph\n",
    "    \"\"\"\n",
    "    net: pyvis.network.Network = pyvis.network.Network(\n",
    "        notebook = True,\n",
    "        cdn_resources = \"in_line\",\n",
    "        height = \"900px\", \n",
    "        width = \"100%\",\n",
    "    )\n",
    "\n",
    "    # calculate the _betweenness centrality_ measures for each country\n",
    "    for node_id, rank in nx.betweenness_centrality(graph, weight = \"weight\").items():\n",
    "        graph.nodes[node_id][\"value\"] = rank\n",
    "    \n",
    "    # load the network and adjust attributes for visualization\n",
    "    net.from_nx(graph)\n",
    "\n",
    "    for node in net.nodes:\n",
    "        node[\"label\"] = node[\"name\"]\n",
    "        node[\"title\"] = node[\"name\"]\n",
    "        node[\"color\"] = \"#BDC561\"\n",
    "\n",
    "    for edge in net.edges:\n",
    "        #edge[\"value\"] = edge[\"width\"]\n",
    "        pass\n",
    "\n",
    "    return net"
   ]
  },
  {
   "cell_type": "markdown",
   "id": "334867d5-2dc2-44b4-9eff-025e4c2e8a47",
   "metadata": {},
   "source": [
    "construct graphs both in `NetworkX` for analysis and `PyVis` for visualization"
   ]
  },
  {
   "cell_type": "code",
   "execution_count": 12,
   "id": "228420d8-9aad-49d4-a88a-42f978b9698d",
   "metadata": {
    "execution": {
     "iopub.execute_input": "2025-02-23T07:25:13.510485Z",
     "iopub.status.busy": "2025-02-23T07:25:13.510426Z",
     "iopub.status.idle": "2025-02-23T07:25:13.583830Z",
     "shell.execute_reply": "2025-02-23T07:25:13.583597Z",
     "shell.execute_reply.started": "2025-02-23T07:25:13.510476Z"
    }
   },
   "outputs": [],
   "source": [
    "node_names: list = []\n",
    "\n",
    "for index, row in df.iterrows():\n",
    "    src_label: str = row[\"payer_name\"]\n",
    "    dst_label: str = row[\"beneficiary_name\"]\n",
    "\n",
    "    if src_label not in node_names:\n",
    "        node_names.append(src_label)\n",
    "        src_id: int = node_names.index(src_label)\n",
    "\n",
    "        graph.add_node(\n",
    "            src_id,\n",
    "            name = src_label,\n",
    "        )            \n",
    "    else:\n",
    "        src_id = node_names.index(src_label)\n",
    "\n",
    "\n",
    "    if dst_label not in node_names:\n",
    "        node_names.append(dst_label)\n",
    "        dst_id: int = node_names.index(dst_label)\n",
    "\n",
    "        graph.add_node(\n",
    "            dst_id,\n",
    "            name = dst_label,\n",
    "        )\n",
    "    else:\n",
    "        dst_id = node_names.index(dst_label)\n",
    "\n",
    "    graph.add_edge(\n",
    "        src_id,\n",
    "        dst_id,\n",
    "    )\n",
    "\n",
    "    edge_xact[ (src_id, dst_id) ].append({\n",
    "        \"amount\": row[\"amount_orig\"],\n",
    "        \"date\": datetime.fromisoformat(str(row[\"date\"])),\n",
    "    })    "
   ]
  },
  {
   "cell_type": "markdown",
   "id": "d6143c26-da3f-4bd0-9e3a-866e9fe09104",
   "metadata": {},
   "source": [
    "visualize the network of shell corps involved"
   ]
  },
  {
   "cell_type": "code",
   "execution_count": 13,
   "id": "f0ad2d29-411c-49fe-94d1-68118807194b",
   "metadata": {
    "execution": {
     "iopub.execute_input": "2025-02-23T07:25:13.584284Z",
     "iopub.status.busy": "2025-02-23T07:25:13.584211Z",
     "iopub.status.idle": "2025-02-23T07:25:13.648282Z",
     "shell.execute_reply": "2025-02-23T07:25:13.648035Z",
     "shell.execute_reply.started": "2025-02-23T07:25:13.584277Z"
    }
   },
   "outputs": [
    {
     "name": "stdout",
     "output_type": "stream",
     "text": [
      "occrp.html\n"
     ]
    },
    {
     "data": {
      "text/html": [
       "\n",
       "        <iframe\n",
       "            width=\"100%\"\n",
       "            height=\"900px\"\n",
       "            src=\"occrp.html\"\n",
       "            frameborder=\"0\"\n",
       "            allowfullscreen\n",
       "            \n",
       "        ></iframe>\n",
       "        "
      ],
      "text/plain": [
       "<IPython.lib.display.IFrame at 0x12278acf0>"
      ]
     },
     "execution_count": 13,
     "metadata": {},
     "output_type": "execute_result"
    }
   ],
   "source": [
    "net: pyvis.network.Network = render_graph(graph)\n",
    "\n",
    "net.force_atlas_2based()\n",
    "net.show_buttons(filter_ = [ \"layout\", \"physics\" ])\n",
    "\n",
    "#net.toggle_physics(True)\n",
    "net.prep_notebook()\n",
    "net.show(\"occrp.html\")"
   ]
  },
  {
   "cell_type": "markdown",
   "id": "a3b14286-f1c0-4895-97d0-fcd0fc85272e",
   "metadata": {},
   "source": [
    "## inter-arrival modeling"
   ]
  },
  {
   "cell_type": "markdown",
   "id": "c3a68ea6-6ef5-46a7-a4ce-f2fee601ce65",
   "metadata": {},
   "source": [
    "describe the distributions of transaction inter-arrival times and amounts"
   ]
  },
  {
   "cell_type": "code",
   "execution_count": 14,
   "id": "b7222874-cf87-4e1f-abda-a2e70531aebf",
   "metadata": {
    "execution": {
     "iopub.execute_input": "2025-02-23T07:25:13.648848Z",
     "iopub.status.busy": "2025-02-23T07:25:13.648778Z",
     "iopub.status.idle": "2025-02-23T07:25:13.655997Z",
     "shell.execute_reply": "2025-02-23T07:25:13.655743Z",
     "shell.execute_reply.started": "2025-02-23T07:25:13.648842Z"
    },
    "scrolled": true
   },
   "outputs": [
    {
     "data": {
      "text/html": [
       "<div>\n",
       "<style scoped>\n",
       "    .dataframe tbody tr th:only-of-type {\n",
       "        vertical-align: middle;\n",
       "    }\n",
       "\n",
       "    .dataframe tbody tr th {\n",
       "        vertical-align: top;\n",
       "    }\n",
       "\n",
       "    .dataframe thead th {\n",
       "        text-align: right;\n",
       "    }\n",
       "</style>\n",
       "<table border=\"1\" class=\"dataframe\">\n",
       "  <thead>\n",
       "    <tr style=\"text-align: right;\">\n",
       "      <th></th>\n",
       "      <th>src_id</th>\n",
       "      <th>dst_id</th>\n",
       "      <th>median_amount</th>\n",
       "      <th>total_amount</th>\n",
       "      <th>inter_arrival</th>\n",
       "    </tr>\n",
       "  </thead>\n",
       "  <tbody>\n",
       "    <tr>\n",
       "      <th>0</th>\n",
       "      <td>0</td>\n",
       "      <td>1</td>\n",
       "      <td>109510.00</td>\n",
       "      <td>1511916.50</td>\n",
       "      <td>39.750000</td>\n",
       "    </tr>\n",
       "    <tr>\n",
       "      <th>1</th>\n",
       "      <td>2</td>\n",
       "      <td>3</td>\n",
       "      <td>10101.00</td>\n",
       "      <td>110063.19</td>\n",
       "      <td>59.500000</td>\n",
       "    </tr>\n",
       "    <tr>\n",
       "      <th>2</th>\n",
       "      <td>4</td>\n",
       "      <td>3</td>\n",
       "      <td>189352.15</td>\n",
       "      <td>415231.08</td>\n",
       "      <td>1.500000</td>\n",
       "    </tr>\n",
       "    <tr>\n",
       "      <th>3</th>\n",
       "      <td>5</td>\n",
       "      <td>3</td>\n",
       "      <td>300000.00</td>\n",
       "      <td>4729714.00</td>\n",
       "      <td>1.916667</td>\n",
       "    </tr>\n",
       "    <tr>\n",
       "      <th>4</th>\n",
       "      <td>6</td>\n",
       "      <td>3</td>\n",
       "      <td>50000.00</td>\n",
       "      <td>12747647.00</td>\n",
       "      <td>3.629310</td>\n",
       "    </tr>\n",
       "  </tbody>\n",
       "</table>\n",
       "</div>"
      ],
      "text/plain": [
       "   src_id  dst_id  median_amount  total_amount  inter_arrival\n",
       "0       0       1      109510.00    1511916.50      39.750000\n",
       "1       2       3       10101.00     110063.19      59.500000\n",
       "2       4       3      189352.15     415231.08       1.500000\n",
       "3       5       3      300000.00    4729714.00       1.916667\n",
       "4       6       3       50000.00   12747647.00       3.629310"
      ]
     },
     "execution_count": 14,
     "metadata": {},
     "output_type": "execute_result"
    }
   ],
   "source": [
    "summary_data: list = []\n",
    "\n",
    "for edge, dat in edge_xact.items():\n",
    "    if len(dat) > 1:\n",
    "        dates: list = sorted([\n",
    "            xact[\"date\"]\n",
    "            for xact in dat\n",
    "        ], reverse = False)\n",
    "\n",
    "        inter_arrival: list = [\n",
    "            (pair[1] - pair[0]).days\n",
    "            for pair in itertools.pairwise(dates)\n",
    "        ]\n",
    "\n",
    "        amounts: list = [\n",
    "            xact[\"amount\"]\n",
    "            for xact in dat\n",
    "        ]\n",
    "\n",
    "        summary_data.append({\n",
    "            \"src_id\": edge[0],\n",
    "            \"dst_id\": edge[1],\n",
    "            \"median_amount\": statistics.median(amounts),\n",
    "            \"total_amount\": sum(amounts),\n",
    "            \"inter_arrival\": statistics.mean(inter_arrival),\n",
    "        })\n",
    "\n",
    "df_summary: pd.DataFrame = pd.DataFrame.from_dict(\n",
    "    summary_data,\n",
    "    orient = \"columns\"\n",
    ")\n",
    "\n",
    "df_summary.head()"
   ]
  },
  {
   "cell_type": "code",
   "execution_count": 15,
   "id": "5c9b347e-2f18-4f59-b882-7d119e0f6bcf",
   "metadata": {
    "execution": {
     "iopub.execute_input": "2025-02-23T07:25:13.656473Z",
     "iopub.status.busy": "2025-02-23T07:25:13.656399Z",
     "iopub.status.idle": "2025-02-23T07:25:13.663015Z",
     "shell.execute_reply": "2025-02-23T07:25:13.662782Z",
     "shell.execute_reply.started": "2025-02-23T07:25:13.656466Z"
    }
   },
   "outputs": [
    {
     "data": {
      "text/html": [
       "<div>\n",
       "<style scoped>\n",
       "    .dataframe tbody tr th:only-of-type {\n",
       "        vertical-align: middle;\n",
       "    }\n",
       "\n",
       "    .dataframe tbody tr th {\n",
       "        vertical-align: top;\n",
       "    }\n",
       "\n",
       "    .dataframe thead th {\n",
       "        text-align: right;\n",
       "    }\n",
       "</style>\n",
       "<table border=\"1\" class=\"dataframe\">\n",
       "  <thead>\n",
       "    <tr style=\"text-align: right;\">\n",
       "      <th></th>\n",
       "      <th>src_id</th>\n",
       "      <th>dst_id</th>\n",
       "      <th>median_amount</th>\n",
       "      <th>total_amount</th>\n",
       "      <th>inter_arrival</th>\n",
       "    </tr>\n",
       "  </thead>\n",
       "  <tbody>\n",
       "    <tr>\n",
       "      <th>count</th>\n",
       "      <td>252.000000</td>\n",
       "      <td>252.000000</td>\n",
       "      <td>2.520000e+02</td>\n",
       "      <td>2.520000e+02</td>\n",
       "      <td>252.000000</td>\n",
       "    </tr>\n",
       "    <tr>\n",
       "      <th>mean</th>\n",
       "      <td>173.626984</td>\n",
       "      <td>40.829365</td>\n",
       "      <td>3.798608e+05</td>\n",
       "      <td>1.161657e+07</td>\n",
       "      <td>21.156845</td>\n",
       "    </tr>\n",
       "    <tr>\n",
       "      <th>std</th>\n",
       "      <td>126.250130</td>\n",
       "      <td>101.164882</td>\n",
       "      <td>5.301957e+05</td>\n",
       "      <td>8.014517e+07</td>\n",
       "      <td>32.745006</td>\n",
       "    </tr>\n",
       "    <tr>\n",
       "      <th>min</th>\n",
       "      <td>0.000000</td>\n",
       "      <td>1.000000</td>\n",
       "      <td>1.100000e+02</td>\n",
       "      <td>2.200000e+02</td>\n",
       "      <td>0.000000</td>\n",
       "    </tr>\n",
       "    <tr>\n",
       "      <th>25%</th>\n",
       "      <td>64.750000</td>\n",
       "      <td>1.000000</td>\n",
       "      <td>6.717762e+04</td>\n",
       "      <td>3.476025e+05</td>\n",
       "      <td>3.000000</td>\n",
       "    </tr>\n",
       "    <tr>\n",
       "      <th>50%</th>\n",
       "      <td>157.500000</td>\n",
       "      <td>1.000000</td>\n",
       "      <td>1.963890e+05</td>\n",
       "      <td>1.408894e+06</td>\n",
       "      <td>8.708333</td>\n",
       "    </tr>\n",
       "    <tr>\n",
       "      <th>75%</th>\n",
       "      <td>268.000000</td>\n",
       "      <td>3.000000</td>\n",
       "      <td>4.762237e+05</td>\n",
       "      <td>4.850007e+06</td>\n",
       "      <td>25.569444</td>\n",
       "    </tr>\n",
       "    <tr>\n",
       "      <th>max</th>\n",
       "      <td>433.000000</td>\n",
       "      <td>302.000000</td>\n",
       "      <td>4.000000e+06</td>\n",
       "      <td>1.239991e+09</td>\n",
       "      <td>211.000000</td>\n",
       "    </tr>\n",
       "  </tbody>\n",
       "</table>\n",
       "</div>"
      ],
      "text/plain": [
       "           src_id      dst_id  median_amount  total_amount  inter_arrival\n",
       "count  252.000000  252.000000   2.520000e+02  2.520000e+02     252.000000\n",
       "mean   173.626984   40.829365   3.798608e+05  1.161657e+07      21.156845\n",
       "std    126.250130  101.164882   5.301957e+05  8.014517e+07      32.745006\n",
       "min      0.000000    1.000000   1.100000e+02  2.200000e+02       0.000000\n",
       "25%     64.750000    1.000000   6.717762e+04  3.476025e+05       3.000000\n",
       "50%    157.500000    1.000000   1.963890e+05  1.408894e+06       8.708333\n",
       "75%    268.000000    3.000000   4.762237e+05  4.850007e+06      25.569444\n",
       "max    433.000000  302.000000   4.000000e+06  1.239991e+09     211.000000"
      ]
     },
     "execution_count": 15,
     "metadata": {},
     "output_type": "execute_result"
    }
   ],
   "source": [
    "df_summary.describe()"
   ]
  },
  {
   "cell_type": "markdown",
   "id": "0e360787-8af8-423f-b9ea-07929026e00c",
   "metadata": {},
   "source": [
    "## simple graph analytics"
   ]
  },
  {
   "cell_type": "markdown",
   "id": "8e5d12b2-18f7-4aca-8e76-88b082f8cf54",
   "metadata": {},
   "source": [
    "now we have some descriptive stats to use for modeling a simulation of these kinds of transactions; let's look into other potential parameters for simulation, based on graph analytics"
   ]
  },
  {
   "cell_type": "code",
   "execution_count": 16,
   "id": "eab0c463-1e86-4a15-9662-af5213a27828",
   "metadata": {
    "execution": {
     "iopub.execute_input": "2025-02-23T07:25:13.663452Z",
     "iopub.status.busy": "2025-02-23T07:25:13.663367Z",
     "iopub.status.idle": "2025-02-23T07:25:13.692809Z",
     "shell.execute_reply": "2025-02-23T07:25:13.692587Z",
     "shell.execute_reply.started": "2025-02-23T07:25:13.663443Z"
    },
    "scrolled": true
   },
   "outputs": [
    {
     "data": {
      "text/plain": [
       "4"
      ]
     },
     "execution_count": 16,
     "metadata": {},
     "output_type": "execute_result"
    }
   ],
   "source": [
    "nx.diameter(graph.to_undirected())"
   ]
  },
  {
   "cell_type": "code",
   "execution_count": 17,
   "id": "ea3950d5-853f-4f61-9a61-654941d2f5ef",
   "metadata": {
    "execution": {
     "iopub.execute_input": "2025-02-23T07:25:13.693289Z",
     "iopub.status.busy": "2025-02-23T07:25:13.693172Z",
     "iopub.status.idle": "2025-02-23T07:25:13.695482Z",
     "shell.execute_reply": "2025-02-23T07:25:13.695235Z",
     "shell.execute_reply.started": "2025-02-23T07:25:13.693282Z"
    }
   },
   "outputs": [
    {
     "data": {
      "text/plain": [
       "0.0025297587806772616"
      ]
     },
     "execution_count": 17,
     "metadata": {},
     "output_type": "execute_result"
    }
   ],
   "source": [
    "nx.density(graph)"
   ]
  },
  {
   "cell_type": "code",
   "execution_count": 18,
   "id": "a5939b30-6a60-43fb-8827-ae6abb608c6d",
   "metadata": {
    "execution": {
     "iopub.execute_input": "2025-02-23T07:25:13.695928Z",
     "iopub.status.busy": "2025-02-23T07:25:13.695844Z",
     "iopub.status.idle": "2025-02-23T07:25:13.697968Z",
     "shell.execute_reply": "2025-02-23T07:25:13.697754Z",
     "shell.execute_reply.started": "2025-02-23T07:25:13.695919Z"
    }
   },
   "outputs": [
    {
     "data": {
      "text/plain": [
       "273"
      ]
     },
     "execution_count": 18,
     "metadata": {},
     "output_type": "execute_result"
    }
   ],
   "source": [
    "node_degree: typing.List[ int ] = dict(nx.degree(graph)).values()\n",
    "max(node_degree)"
   ]
  },
  {
   "cell_type": "code",
   "execution_count": 19,
   "id": "4dfdc232-c581-48a4-84bd-a57bf09b226e",
   "metadata": {
    "execution": {
     "iopub.execute_input": "2025-02-23T07:25:13.698407Z",
     "iopub.status.busy": "2025-02-23T07:25:13.698295Z",
     "iopub.status.idle": "2025-02-23T07:25:13.700591Z",
     "shell.execute_reply": "2025-02-23T07:25:13.700347Z",
     "shell.execute_reply.started": "2025-02-23T07:25:13.698400Z"
    }
   },
   "outputs": [
    {
     "name": "stdout",
     "output_type": "stream",
     "text": [
      "  1 273 {'name': 'LCM ALLIANCE LLP', 'value': 0.001608140883686597, 'size': 10, 'degree': 273}\n",
      "  3 134 {'name': 'METASTAR INVEST LLP', 'value': 0.0005457133818411895, 'size': 10, 'degree': 134}\n",
      "302  61 {'name': 'HILUX SERVICES LP', 'value': 0.0007487082146999895, 'size': 10, 'degree': 61}\n",
      "298  20 {'name': 'POLUX MANAGEMENT LP', 'value': 0.0006880733944954129, 'size': 10, 'degree': 20}\n",
      " 17   4 {'name': 'GLOBECOM TRADE L.P', 'value': 0.0, 'size': 10, 'degree': 4}\n",
      " 66   4 {'name': 'RIVERLANE LLP', 'value': 0.0, 'size': 10, 'degree': 4}\n",
      "  7   3 {'name': 'DANSKE BANK A/S EESTI FILIAAL', 'value': 0.0, 'size': 10, 'degree': 3}\n",
      " 11   3 {'name': 'DEUTDEFFXXX', 'value': 0.0, 'size': 10, 'degree': 3}\n",
      "107   3 {'name': 'WILLROCK UNITED LLP', 'value': 0.0, 'size': 10, 'degree': 3}\n",
      "170   3 {'name': 'MOLONEY TRADE LLP', 'value': 0.0, 'size': 10, 'degree': 3}\n",
      "375   3 {'name': 'REDPARK SALES CORP', 'value': 0.0, 'size': 10, 'degree': 3}\n"
     ]
    }
   ],
   "source": [
    "for node_id, degree in sorted(nx.degree(graph), key = lambda x: x[1], reverse = True):\n",
    "    graph.nodes[node_id][\"degree\"] = degree\n",
    "\n",
    "    if degree >= 3:\n",
    "        print(f\"{node_id:3} {degree:3}\", graph.nodes[node_id])"
   ]
  },
  {
   "cell_type": "code",
   "execution_count": 20,
   "id": "6d1e4407-fd7c-4826-81b3-70896b30fb5c",
   "metadata": {
    "execution": {
     "iopub.execute_input": "2025-02-23T07:25:13.701139Z",
     "iopub.status.busy": "2025-02-23T07:25:13.701024Z",
     "iopub.status.idle": "2025-02-23T07:25:13.831416Z",
     "shell.execute_reply": "2025-02-23T07:25:13.831158Z",
     "shell.execute_reply.started": "2025-02-23T07:25:13.701130Z"
    }
   },
   "outputs": [
    {
     "data": {
      "image/png": "[encoded data removed]",
      "text/plain": [
       "<Figure size 500x200 with 1 Axes>"
      ]
     },
     "metadata": {},
     "output_type": "display_data"
    }
   ],
   "source": [
    "fig, ax = plt.subplots(figsize = (5, 2))\n",
    "plt.rcParams[\"font.family\"] = \"sans-serif\"\n",
    "\n",
    "y = sns.histplot(node_degree)\n",
    "y.tick_params(axis = \"y\", size = 9, colors = \"gray\")\n",
    "y.bar_label(y.containers[0], padding = 3, color = \"gray\", fontsize = 7)\n",
    "\n",
    "plt.xlabel(\"node degree\", size = 10, fontstyle = \"italic\")\n",
    "plt.ylabel(\"count\", size = 10, fontstyle = \"italic\")\n",
    "\n",
    "sns.despine(bottom = True, left = True)\n",
    "plt.yscale(\"log\")\n",
    "\n",
    "plt.legend([], [], frameon = False);"
   ]
  },
  {
   "cell_type": "code",
   "execution_count": 21,
   "id": "78ee1097-4ef7-4314-9f9c-df7b6c0f39fa",
   "metadata": {
    "execution": {
     "iopub.execute_input": "2025-02-23T07:25:13.834564Z",
     "iopub.status.busy": "2025-02-23T07:25:13.834434Z",
     "iopub.status.idle": "2025-02-23T07:25:13.839730Z",
     "shell.execute_reply": "2025-02-23T07:25:13.839492Z",
     "shell.execute_reply.started": "2025-02-23T07:25:13.834557Z"
    }
   },
   "outputs": [],
   "source": [
    "for node_id in graph.nodes():\n",
    "    graph.nodes[node_id][\"volume\"] = 0\n",
    "    graph.nodes[node_id][\"credits\"] = 0\n",
    "    graph.nodes[node_id][\"debits\"] = 0\n",
    "\n",
    "for index, row in df_summary.iterrows():\n",
    "    src_id: int = row[\"src_id\"]\n",
    "    dst_id: int = row[\"dst_id\"]\n",
    "    amount: float = float(row[\"total_amount\"])\n",
    "\n",
    "    graph.nodes[src_id][\"volume\"] += amount\n",
    "    graph.nodes[src_id][\"debits\"] += amount\n",
    "\n",
    "    graph.nodes[dst_id][\"volume\"] += amount\n",
    "    graph.nodes[dst_id][\"credits\"] += amount\n",
    "\n",
    "for node_id in graph.nodes():\n",
    "    graph.nodes[node_id][\"balance\"] = graph.nodes[node_id][\"credits\"] - graph.nodes[node_id][\"debits\"]"
   ]
  },
  {
   "cell_type": "code",
   "execution_count": 22,
   "id": "d39521cd-8b73-453e-a15f-0a0319995595",
   "metadata": {
    "execution": {
     "iopub.execute_input": "2025-02-23T07:25:13.840142Z",
     "iopub.status.busy": "2025-02-23T07:25:13.840081Z",
     "iopub.status.idle": "2025-02-23T07:25:13.844907Z",
     "shell.execute_reply": "2025-02-23T07:25:13.844648Z",
     "shell.execute_reply.started": "2025-02-23T07:25:13.840135Z"
    }
   },
   "outputs": [
    {
     "data": {
      "text/html": [
       "<div>\n",
       "<style scoped>\n",
       "    .dataframe tbody tr th:only-of-type {\n",
       "        vertical-align: middle;\n",
       "    }\n",
       "\n",
       "    .dataframe tbody tr th {\n",
       "        vertical-align: top;\n",
       "    }\n",
       "\n",
       "    .dataframe thead th {\n",
       "        text-align: right;\n",
       "    }\n",
       "</style>\n",
       "<table border=\"1\" class=\"dataframe\">\n",
       "  <thead>\n",
       "    <tr style=\"text-align: right;\">\n",
       "      <th></th>\n",
       "      <th>name</th>\n",
       "      <th>value</th>\n",
       "      <th>size</th>\n",
       "      <th>degree</th>\n",
       "      <th>volume</th>\n",
       "      <th>credits</th>\n",
       "      <th>debits</th>\n",
       "      <th>balance</th>\n",
       "    </tr>\n",
       "  </thead>\n",
       "  <tbody>\n",
       "    <tr>\n",
       "      <th>0</th>\n",
       "      <td>AZARBAYCAN METANOL KOMPANI MMC</td>\n",
       "      <td>0.000000</td>\n",
       "      <td>10</td>\n",
       "      <td>1</td>\n",
       "      <td>1.511916e+06</td>\n",
       "      <td>0.000000e+00</td>\n",
       "      <td>1511916.50</td>\n",
       "      <td>-1.511916e+06</td>\n",
       "    </tr>\n",
       "    <tr>\n",
       "      <th>1</th>\n",
       "      <td>LCM ALLIANCE LLP</td>\n",
       "      <td>0.001608</td>\n",
       "      <td>10</td>\n",
       "      <td>273</td>\n",
       "      <td>7.926534e+08</td>\n",
       "      <td>7.842097e+08</td>\n",
       "      <td>8443707.00</td>\n",
       "      <td>7.757660e+08</td>\n",
       "    </tr>\n",
       "    <tr>\n",
       "      <th>2</th>\n",
       "      <td>SKN ELECTRICAL SERVICES LIMITEDACCO</td>\n",
       "      <td>0.000000</td>\n",
       "      <td>10</td>\n",
       "      <td>1</td>\n",
       "      <td>1.100632e+05</td>\n",
       "      <td>0.000000e+00</td>\n",
       "      <td>110063.19</td>\n",
       "      <td>-1.100632e+05</td>\n",
       "    </tr>\n",
       "    <tr>\n",
       "      <th>3</th>\n",
       "      <td>METASTAR INVEST LLP</td>\n",
       "      <td>0.000546</td>\n",
       "      <td>10</td>\n",
       "      <td>134</td>\n",
       "      <td>4.236822e+08</td>\n",
       "      <td>3.498216e+08</td>\n",
       "      <td>73860598.00</td>\n",
       "      <td>2.759610e+08</td>\n",
       "    </tr>\n",
       "    <tr>\n",
       "      <th>4</th>\n",
       "      <td>INMAXO CAPITAL CORP.</td>\n",
       "      <td>0.000000</td>\n",
       "      <td>10</td>\n",
       "      <td>1</td>\n",
       "      <td>4.152311e+05</td>\n",
       "      <td>0.000000e+00</td>\n",
       "      <td>415231.08</td>\n",
       "      <td>-4.152311e+05</td>\n",
       "    </tr>\n",
       "  </tbody>\n",
       "</table>\n",
       "</div>"
      ],
      "text/plain": [
       "                                  name     value  size  degree        volume  \\\n",
       "0       AZARBAYCAN METANOL KOMPANI MMC  0.000000    10       1  1.511916e+06   \n",
       "1                     LCM ALLIANCE LLP  0.001608    10     273  7.926534e+08   \n",
       "2  SKN ELECTRICAL SERVICES LIMITEDACCO  0.000000    10       1  1.100632e+05   \n",
       "3                  METASTAR INVEST LLP  0.000546    10     134  4.236822e+08   \n",
       "4                 INMAXO CAPITAL CORP.  0.000000    10       1  4.152311e+05   \n",
       "\n",
       "        credits       debits       balance  \n",
       "0  0.000000e+00   1511916.50 -1.511916e+06  \n",
       "1  7.842097e+08   8443707.00  7.757660e+08  \n",
       "2  0.000000e+00    110063.19 -1.100632e+05  \n",
       "3  3.498216e+08  73860598.00  2.759610e+08  \n",
       "4  0.000000e+00    415231.08 -4.152311e+05  "
      ]
     },
     "execution_count": 22,
     "metadata": {},
     "output_type": "execute_result"
    }
   ],
   "source": [
    "nodes_dat: typing.List[ dict ] = [\n",
    "    dat\n",
    "    for _, dat in graph.nodes(data = True)\n",
    "]\n",
    "\n",
    "df_nodes: pd.DataFrame = pd.DataFrame.from_dict(\n",
    "    nodes_dat,\n",
    "    orient = \"columns\"\n",
    ")\n",
    "\n",
    "df_nodes.head()"
   ]
  },
  {
   "cell_type": "code",
   "execution_count": 23,
   "id": "cf366c8a-7875-41e7-8794-c793a0056ee6",
   "metadata": {
    "execution": {
     "iopub.execute_input": "2025-02-23T07:25:13.845452Z",
     "iopub.status.busy": "2025-02-23T07:25:13.845364Z",
     "iopub.status.idle": "2025-02-23T07:25:13.853063Z",
     "shell.execute_reply": "2025-02-23T07:25:13.852807Z",
     "shell.execute_reply.started": "2025-02-23T07:25:13.845445Z"
    }
   },
   "outputs": [
    {
     "data": {
      "text/html": [
       "<div>\n",
       "<style scoped>\n",
       "    .dataframe tbody tr th:only-of-type {\n",
       "        vertical-align: middle;\n",
       "    }\n",
       "\n",
       "    .dataframe tbody tr th {\n",
       "        vertical-align: top;\n",
       "    }\n",
       "\n",
       "    .dataframe thead th {\n",
       "        text-align: right;\n",
       "    }\n",
       "</style>\n",
       "<table border=\"1\" class=\"dataframe\">\n",
       "  <thead>\n",
       "    <tr style=\"text-align: right;\">\n",
       "      <th></th>\n",
       "      <th>value</th>\n",
       "      <th>size</th>\n",
       "      <th>degree</th>\n",
       "      <th>volume</th>\n",
       "      <th>credits</th>\n",
       "      <th>debits</th>\n",
       "      <th>balance</th>\n",
       "    </tr>\n",
       "  </thead>\n",
       "  <tbody>\n",
       "    <tr>\n",
       "      <th>count</th>\n",
       "      <td>437.000000</td>\n",
       "      <td>437.0</td>\n",
       "      <td>437.000000</td>\n",
       "      <td>4.370000e+02</td>\n",
       "      <td>4.370000e+02</td>\n",
       "      <td>4.370000e+02</td>\n",
       "      <td>4.370000e+02</td>\n",
       "    </tr>\n",
       "    <tr>\n",
       "      <th>mean</th>\n",
       "      <td>0.000008</td>\n",
       "      <td>10.0</td>\n",
       "      <td>2.205950</td>\n",
       "      <td>1.339759e+07</td>\n",
       "      <td>6.698797e+06</td>\n",
       "      <td>6.698797e+06</td>\n",
       "      <td>-1.909531e-09</td>\n",
       "    </tr>\n",
       "    <tr>\n",
       "      <th>std</th>\n",
       "      <td>0.000094</td>\n",
       "      <td>0.0</td>\n",
       "      <td>14.766024</td>\n",
       "      <td>1.111983e+08</td>\n",
       "      <td>8.234222e+07</td>\n",
       "      <td>7.045104e+07</td>\n",
       "      <td>1.054614e+08</td>\n",
       "    </tr>\n",
       "    <tr>\n",
       "      <th>min</th>\n",
       "      <td>0.000000</td>\n",
       "      <td>10.0</td>\n",
       "      <td>1.000000</td>\n",
       "      <td>0.000000e+00</td>\n",
       "      <td>0.000000e+00</td>\n",
       "      <td>0.000000e+00</td>\n",
       "      <td>-1.452793e+09</td>\n",
       "    </tr>\n",
       "    <tr>\n",
       "      <th>25%</th>\n",
       "      <td>0.000000</td>\n",
       "      <td>10.0</td>\n",
       "      <td>1.000000</td>\n",
       "      <td>0.000000e+00</td>\n",
       "      <td>0.000000e+00</td>\n",
       "      <td>0.000000e+00</td>\n",
       "      <td>-1.313250e+06</td>\n",
       "    </tr>\n",
       "    <tr>\n",
       "      <th>50%</th>\n",
       "      <td>0.000000</td>\n",
       "      <td>10.0</td>\n",
       "      <td>1.000000</td>\n",
       "      <td>4.128350e+03</td>\n",
       "      <td>0.000000e+00</td>\n",
       "      <td>4.128350e+03</td>\n",
       "      <td>0.000000e+00</td>\n",
       "    </tr>\n",
       "    <tr>\n",
       "      <th>75%</th>\n",
       "      <td>0.000000</td>\n",
       "      <td>10.0</td>\n",
       "      <td>1.000000</td>\n",
       "      <td>1.425239e+06</td>\n",
       "      <td>0.000000e+00</td>\n",
       "      <td>1.425239e+06</td>\n",
       "      <td>0.000000e+00</td>\n",
       "    </tr>\n",
       "    <tr>\n",
       "      <th>max</th>\n",
       "      <td>0.001608</td>\n",
       "      <td>10.0</td>\n",
       "      <td>273.000000</td>\n",
       "      <td>1.538163e+09</td>\n",
       "      <td>1.458096e+09</td>\n",
       "      <td>1.452793e+09</td>\n",
       "      <td>1.378030e+09</td>\n",
       "    </tr>\n",
       "  </tbody>\n",
       "</table>\n",
       "</div>"
      ],
      "text/plain": [
       "            value   size      degree        volume       credits  \\\n",
       "count  437.000000  437.0  437.000000  4.370000e+02  4.370000e+02   \n",
       "mean     0.000008   10.0    2.205950  1.339759e+07  6.698797e+06   \n",
       "std      0.000094    0.0   14.766024  1.111983e+08  8.234222e+07   \n",
       "min      0.000000   10.0    1.000000  0.000000e+00  0.000000e+00   \n",
       "25%      0.000000   10.0    1.000000  0.000000e+00  0.000000e+00   \n",
       "50%      0.000000   10.0    1.000000  4.128350e+03  0.000000e+00   \n",
       "75%      0.000000   10.0    1.000000  1.425239e+06  0.000000e+00   \n",
       "max      0.001608   10.0  273.000000  1.538163e+09  1.458096e+09   \n",
       "\n",
       "             debits       balance  \n",
       "count  4.370000e+02  4.370000e+02  \n",
       "mean   6.698797e+06 -1.909531e-09  \n",
       "std    7.045104e+07  1.054614e+08  \n",
       "min    0.000000e+00 -1.452793e+09  \n",
       "25%    0.000000e+00 -1.313250e+06  \n",
       "50%    4.128350e+03  0.000000e+00  \n",
       "75%    1.425239e+06  0.000000e+00  \n",
       "max    1.452793e+09  1.378030e+09  "
      ]
     },
     "execution_count": 23,
     "metadata": {},
     "output_type": "execute_result"
    }
   ],
   "source": [
    "df_nodes.describe()"
   ]
  },
  {
   "cell_type": "code",
   "execution_count": 24,
   "id": "0602912a-faf6-455c-aeb4-0abc4974cc54",
   "metadata": {
    "execution": {
     "iopub.execute_input": "2025-02-23T07:25:13.853593Z",
     "iopub.status.busy": "2025-02-23T07:25:13.853503Z",
     "iopub.status.idle": "2025-02-23T07:25:13.986895Z",
     "shell.execute_reply": "2025-02-23T07:25:13.986609Z",
     "shell.execute_reply.started": "2025-02-23T07:25:13.853587Z"
    }
   },
   "outputs": [
    {
     "data": {
      "image/png": "[encoded data removed]",
      "text/plain": [
       "<Figure size 640x480 with 1 Axes>"
      ]
     },
     "metadata": {},
     "output_type": "display_data"
    }
   ],
   "source": [
    "x: list = df_nodes[\"degree\"].to_list()\n",
    "y: list = df_nodes[\"volume\"].to_list()\n",
    "labels: list = df_nodes[\"name\"].to_list()\n",
    "\n",
    "sns.scatterplot(data = df_nodes, x = \"degree\", y = \"volume\")\n",
    "\n",
    "plt.yscale(\"log\")\n",
    "plt.xscale(\"log\")\n",
    "\n",
    "for i, label in enumerate(labels):\n",
    "    if x[i] > 2:\n",
    "        plt.annotate(label, (x[i], y[i]), alpha = 0.3, fontsize = 7)\n",
    "\n",
    "plt.show()"
   ]
  },
  {
   "cell_type": "code",
   "execution_count": 25,
   "id": "49944c46-c174-47bd-ab83-f3d780e152bd",
   "metadata": {
    "execution": {
     "iopub.execute_input": "2025-02-23T07:25:13.987369Z",
     "iopub.status.busy": "2025-02-23T07:25:13.987301Z",
     "iopub.status.idle": "2025-02-23T07:25:14.346173Z",
     "shell.execute_reply": "2025-02-23T07:25:14.345899Z",
     "shell.execute_reply.started": "2025-02-23T07:25:13.987362Z"
    }
   },
   "outputs": [
    {
     "data": {
      "image/png": "[encoded data removed]",
      "text/plain": [
       "<Figure size 640x480 with 1 Axes>"
      ]
     },
     "metadata": {},
     "output_type": "display_data"
    }
   ],
   "source": [
    "x: list = df_nodes[\"volume\"].to_list()\n",
    "y: list = df_nodes[\"debits\"].to_list()\n",
    "labels: list = df_nodes[\"name\"].to_list()\n",
    "\n",
    "sns.scatterplot(data = df_nodes, x = \"volume\", y = \"debits\")\n",
    "\n",
    "for i, label in enumerate(labels):\n",
    "    plt.annotate(label, (x[i], y[i]), alpha = 0.3, fontsize = 7)\n",
    "\n",
    "plt.show()"
   ]
  },
  {
   "cell_type": "code",
   "execution_count": 26,
   "id": "1dec9fa8-f74a-484c-9fa4-a09cf016e7c3",
   "metadata": {
    "execution": {
     "iopub.execute_input": "2025-02-23T07:25:14.346931Z",
     "iopub.status.busy": "2025-02-23T07:25:14.346763Z",
     "iopub.status.idle": "2025-02-23T07:25:14.708253Z",
     "shell.execute_reply": "2025-02-23T07:25:14.707994Z",
     "shell.execute_reply.started": "2025-02-23T07:25:14.346916Z"
    }
   },
   "outputs": [
    {
     "data": {
      "image/png": "[encoded data removed]",
      "text/plain": [
       "<Figure size 640x480 with 1 Axes>"
      ]
     },
     "metadata": {},
     "output_type": "display_data"
    }
   ],
   "source": [
    "x: list = df_nodes[\"degree\"].to_list()\n",
    "y: list = df_nodes[\"balance\"].to_list()\n",
    "labels: list = df_nodes[\"name\"].to_list()\n",
    "\n",
    "sns.scatterplot(data = df_nodes, x = \"degree\", y = \"balance\")\n",
    "\n",
    "for i, label in enumerate(labels):\n",
    "    plt.annotate(label, (x[i], y[i]), alpha = 0.3, fontsize = 7)\n",
    "\n",
    "plt.show()"
   ]
  },
  {
   "cell_type": "markdown",
   "id": "ad7a9996-2be1-43b8-a23d-8bc84368fc49",
   "metadata": {},
   "source": [
    "insights:\n",
    "  * a sparse graph\n",
    "  * not wide, diameter = 4\n",
    "  * power law distribution on node degree\n",
    "  * the funds appear to have sourced mostly through \"BAKTELEKOM MMC\", then drained through \"LCM\", \"HILUX\", \"POLUX\", and \"METASTAR\""
   ]
  },
  {
   "cell_type": "markdown",
   "id": "07686732-0a93-47de-9f98-1f1277489030",
   "metadata": {},
   "source": [
    "## components and paths"
   ]
  },
  {
   "cell_type": "code",
   "execution_count": 27,
   "id": "04eccdd0-ca3f-413a-8d14-737726c8f431",
   "metadata": {
    "execution": {
     "iopub.execute_input": "2025-02-23T07:25:14.708749Z",
     "iopub.status.busy": "2025-02-23T07:25:14.708651Z",
     "iopub.status.idle": "2025-02-23T07:25:14.713326Z",
     "shell.execute_reply": "2025-02-23T07:25:14.713077Z",
     "shell.execute_reply.started": "2025-02-23T07:25:14.708734Z"
    }
   },
   "outputs": [
    {
     "name": "stdout",
     "output_type": "stream",
     "text": [
      "{0, 1, 2, 3, 4, 5, 6, 7, 8, 9, 10, 11, 12, 13, 14, 15, 16, 17, 18, 19, 20, 21, 22, 23, 24, 25, 26, 27, 28, 29, 30, 31, 32, 33, 34, 35, 36, 37, 38, 39, 40, 41, 42, 43, 44, 45, 46, 47, 48, 49, 50, 51, 52, 53, 54, 55, 56, 57, 58, 59, 60, 61, 62, 63, 64, 65, 66, 67, 68, 69, 70, 71, 72, 73, 74, 75, 76, 77, 78, 79, 80, 81, 82, 83, 84, 85, 86, 87, 88, 89, 90, 91, 92, 93, 94, 95, 96, 97, 98, 99, 100, 101, 102, 103, 104, 105, 106, 107, 108, 109, 110, 111, 112, 113, 114, 115, 116, 117, 118, 119, 120, 121, 122, 123, 124, 125, 126, 127, 128, 129, 130, 131, 132, 133, 134, 135, 136, 137, 138, 139, 140, 141, 142, 143, 144, 145, 146, 147, 148, 149, 150, 151, 152, 153, 154, 155, 156, 157, 158, 159, 160, 161, 162, 163, 164, 165, 166, 167, 168, 169, 170, 171, 172, 173, 174, 175, 176, 177, 178, 179, 180, 181, 182, 183, 184, 185, 186, 187, 188, 189, 190, 191, 192, 193, 194, 195, 196, 197, 198, 199, 200, 201, 202, 203, 204, 205, 206, 207, 208, 209, 210, 211, 212, 213, 214, 215, 216, 217, 218, 219, 220, 221, 222, 223, 224, 225, 226, 227, 228, 229, 230, 231, 232, 233, 234, 235, 236, 237, 238, 239, 240, 241, 242, 243, 244, 245, 246, 247, 248, 249, 250, 251, 252, 253, 254, 255, 256, 257, 258, 259, 260, 261, 262, 263, 264, 265, 266, 267, 268, 269, 270, 271, 272, 273, 274, 275, 276, 277, 278, 279, 280, 281, 282, 283, 284, 285, 286, 287, 288, 289, 290, 291, 292, 293, 294, 295, 296, 297, 298, 299, 300, 301, 302, 303, 304, 305, 306, 307, 308, 309, 310, 311, 312, 313, 314, 315, 316, 317, 318, 319, 320, 321, 322, 323, 324, 325, 326, 327, 328, 329, 330, 331, 332, 333, 334, 335, 336, 337, 338, 339, 340, 341, 342, 343, 344, 345, 346, 347, 348, 349, 350, 351, 352, 353, 354, 355, 356, 357, 358, 359, 360, 361, 362, 363, 364, 365, 366, 367, 368, 369, 370, 371, 372, 373, 374, 375, 376, 377, 378, 379, 380, 381, 382, 383, 384, 385, 386, 387, 388, 389, 390, 391, 392, 393, 394, 395, 396, 397, 398, 399, 400, 401, 402, 403, 404, 405, 406, 407, 408, 409, 410, 411, 412, 413, 414, 415, 416, 417, 418, 419, 420, 421, 422, 423, 424, 425, 426, 427, 428, 429, 430, 431, 432, 433, 434, 435, 436}\n"
     ]
    }
   ],
   "source": [
    "for clique in nx.connected_components(graph.to_undirected()):\n",
    "    print(clique)"
   ]
  },
  {
   "cell_type": "code",
   "execution_count": 28,
   "id": "ea07af77-f5f4-4ff3-8c24-75c5e973f11a",
   "metadata": {
    "execution": {
     "iopub.execute_input": "2025-02-23T07:25:14.713931Z",
     "iopub.status.busy": "2025-02-23T07:25:14.713810Z",
     "iopub.status.idle": "2025-02-23T07:25:14.790711Z",
     "shell.execute_reply": "2025-02-23T07:25:14.790440Z",
     "shell.execute_reply.started": "2025-02-23T07:25:14.713922Z"
    }
   },
   "outputs": [],
   "source": [
    "path_counts: typing.List[ int ] = [\n",
    "    len(path[1]) + 1\n",
    "    for path in nx.all_pairs_all_shortest_paths(graph)\n",
    "]"
   ]
  },
  {
   "cell_type": "code",
   "execution_count": 29,
   "id": "a3131783-74bb-457c-b4a1-db045e2e8c89",
   "metadata": {
    "execution": {
     "iopub.execute_input": "2025-02-23T07:25:14.791232Z",
     "iopub.status.busy": "2025-02-23T07:25:14.791151Z",
     "iopub.status.idle": "2025-02-23T07:25:14.861480Z",
     "shell.execute_reply": "2025-02-23T07:25:14.861239Z",
     "shell.execute_reply.started": "2025-02-23T07:25:14.791224Z"
    },
    "scrolled": true
   },
   "outputs": [
    {
     "data": {
      "image/png": "[encoded data removed]",
      "text/plain": [
       "<Figure size 500x200 with 1 Axes>"
      ]
     },
     "metadata": {},
     "output_type": "display_data"
    }
   ],
   "source": [
    "fig, ax = plt.subplots(figsize = (5, 2))\n",
    "plt.rcParams[\"font.family\"] = \"sans-serif\"\n",
    "\n",
    "y = sns.histplot(path_counts)\n",
    "y.tick_params(axis = \"y\", size = 9, colors = \"gray\")\n",
    "y.bar_label(y.containers[0], padding = 3, color = \"gray\", fontsize = 7)\n",
    "\n",
    "plt.xlabel(\"path length\", size = 10, fontstyle = \"italic\")\n",
    "plt.ylabel(\"count\", size = 10, fontstyle = \"italic\")\n",
    "\n",
    "plt.axvline(x = statistics.median(path_counts), color = \"red\", lw = 5, alpha = 0.3)\n",
    "\n",
    "plt.gca().xaxis.set_major_formatter(FuncFormatter(lambda x, _: int(x)))\n",
    "y.set(xticks = range(min(path_counts), max(path_counts) + 1))\n",
    "\n",
    "sns.despine(bottom = True, left = True)\n",
    "plt.yscale(\"log\")\n",
    "\n",
    "plt.legend([], [], frameon = False);"
   ]
  },
  {
   "cell_type": "markdown",
   "id": "27b89ca4-e0f5-4f90-a891-18496f909b43",
   "metadata": {},
   "source": [
    "insights:\n",
    "\n",
    "  * fully connected graph, avg path length = 4"
   ]
  },
  {
   "cell_type": "markdown",
   "id": "431c83cc-99dc-4621-ab00-3208868cb45a",
   "metadata": {
    "collapsed": true,
    "execution": {
     "iopub.execute_input": "2025-02-22T18:05:25.422591Z",
     "iopub.status.busy": "2025-02-22T18:05:25.421835Z",
     "iopub.status.idle": "2025-02-22T18:05:25.431535Z",
     "shell.execute_reply": "2025-02-22T18:05:25.430982Z",
     "shell.execute_reply.started": "2025-02-22T18:05:25.422555Z"
    },
    "jupyter": {
     "outputs_hidden": true
    }
   },
   "source": [
    "## triadic census"
   ]
  },
  {
   "cell_type": "code",
   "execution_count": 30,
   "id": "dacd2eb0-4fe2-4282-9a40-585453141818",
   "metadata": {
    "execution": {
     "iopub.execute_input": "2025-02-23T07:25:14.862100Z",
     "iopub.status.busy": "2025-02-23T07:25:14.861990Z",
     "iopub.status.idle": "2025-02-23T07:25:14.965307Z",
     "shell.execute_reply": "2025-02-23T07:25:14.965039Z",
     "shell.execute_reply.started": "2025-02-23T07:25:14.862088Z"
    }
   },
   "outputs": [
    {
     "name": "stdout",
     "output_type": "stream",
     "text": [
      "triad   003: 13652536 occurrences\n",
      "triad   012:  113313 occurrences\n",
      "triad  021U:   46815 occurrences\n",
      "triad   102:     425 occurrences\n",
      "triad  111D:     411 occurrences\n",
      "triad  120D:      33 occurrences\n",
      "triad  021D:      19 occurrences\n",
      "triad  021C:      15 occurrences\n",
      "triad  030T:       2 occurrences\n",
      "triad  111U:       1 occurrences\n"
     ]
    }
   ],
   "source": [
    "for triad, occurrences in sorted(nx.triadic_census(graph).items(), key = lambda x: x[1], reverse = True):\n",
    "    if occurrences > 0:\n",
    "        print(f\"triad {triad:>5}: {occurrences:7d} occurrences\")"
   ]
  },
  {
   "cell_type": "markdown",
   "id": "f275b154-6320-4928-bfa4-89feb3fd1538",
   "metadata": {
    "execution": {
     "iopub.execute_input": "2025-02-22T23:57:23.373603Z",
     "iopub.status.busy": "2025-02-22T23:57:23.373208Z",
     "iopub.status.idle": "2025-02-22T23:57:23.378425Z",
     "shell.execute_reply": "2025-02-22T23:57:23.377409Z",
     "shell.execute_reply.started": "2025-02-22T23:57:23.373581Z"
    }
   },
   "source": [
    "<img\n",
    " src=\"https://figures.semanticscholar.org/6ebe86cdf25f3b58dd98dd9c1c00c3f5c2491734/2-Figure1-1.png\"\n",
    " style=\"height:500px\"\n",
    "/>"
   ]
  },
  {
   "cell_type": "markdown",
   "id": "7d625455-67d3-4d92-b4c6-8ecfdce20bfc",
   "metadata": {},
   "source": [
    "insights:\n",
    "\n",
    "  * do the many `021U` triads indicate \"burst in beneficiaries\" AML tradecraft pattern?"
   ]
  },
  {
   "cell_type": "markdown",
   "id": "e3b6bc9b-3020-43d7-afd4-f738ef92f2d4",
   "metadata": {},
   "source": [
    "## flow analysis"
   ]
  },
  {
   "cell_type": "code",
   "execution_count": 31,
   "id": "d5832592-44ff-4e92-a8a0-7bdc38c83260",
   "metadata": {
    "execution": {
     "iopub.execute_input": "2025-02-23T07:25:14.965820Z",
     "iopub.status.busy": "2025-02-23T07:25:14.965745Z",
     "iopub.status.idle": "2025-02-23T07:25:15.027338Z",
     "shell.execute_reply": "2025-02-23T07:25:15.027095Z",
     "shell.execute_reply.started": "2025-02-23T07:25:14.965813Z"
    }
   },
   "outputs": [
    {
     "data": {
      "text/plain": [
       "0.9896265560165975"
      ]
     },
     "execution_count": 31,
     "metadata": {},
     "output_type": "execute_result"
    }
   ],
   "source": [
    "nx.flow_hierarchy(graph)"
   ]
  },
  {
   "cell_type": "code",
   "execution_count": 32,
   "id": "a62ba335-b535-4710-969f-a765549a5855",
   "metadata": {
    "execution": {
     "iopub.execute_input": "2025-02-23T07:25:15.027811Z",
     "iopub.status.busy": "2025-02-23T07:25:15.027717Z",
     "iopub.status.idle": "2025-02-23T07:25:15.058868Z",
     "shell.execute_reply": "2025-02-23T07:25:15.058527Z",
     "shell.execute_reply.started": "2025-02-23T07:25:15.027803Z"
    }
   },
   "outputs": [
    {
     "name": "stdout",
     "output_type": "stream",
     "text": [
      "17 {'name': 'GLOBECOM TRADE L.P', 'value': 0.0, 'size': 10, 'degree': 4, 'volume': 15165112.0, 'credits': 0, 'debits': 15165112.0, 'balance': -15165112.0}\n",
      "66 {'name': 'RIVERLANE LLP', 'value': 0.0, 'size': 10, 'degree': 4, 'volume': 82016410.99000001, 'credits': 0, 'debits': 82016410.99000001, 'balance': -82016410.99000001}\n"
     ]
    }
   ],
   "source": [
    "for node_id in nx.center(graph.to_undirected()):\n",
    "    print(node_id, graph.nodes[node_id])"
   ]
  },
  {
   "cell_type": "code",
   "execution_count": 33,
   "id": "dbfbe667-db85-4fbe-a5d8-981721efaf36",
   "metadata": {
    "execution": {
     "iopub.execute_input": "2025-02-23T07:25:15.059485Z",
     "iopub.status.busy": "2025-02-23T07:25:15.059380Z",
     "iopub.status.idle": "2025-02-23T07:25:15.147144Z",
     "shell.execute_reply": "2025-02-23T07:25:15.146888Z",
     "shell.execute_reply.started": "2025-02-23T07:25:15.059474Z"
    }
   },
   "outputs": [
    {
     "name": "stderr",
     "output_type": "stream",
     "text": [
      "ic| pos_bal: 0, neg_bal: 208, zed_bal: 215\n"
     ]
    }
   ],
   "source": [
    "pos_bal: int = 0\n",
    "neg_bal: int = 0\n",
    "zed_bal: int = 0\n",
    "\n",
    "for node_id in nx.periphery(graph.to_undirected()):\n",
    "    dat: dict = graph.nodes[node_id]\n",
    "\n",
    "    if dat[\"balance\"] > 0:\n",
    "        pos_bal += 1\n",
    "    elif dat[\"balance\"] < 0:\n",
    "        neg_bal += 1\n",
    "    else:\n",
    "        zed_bal += 1\n",
    "\n",
    "ic(pos_bal, neg_bal, zed_bal);"
   ]
  },
  {
   "cell_type": "code",
   "execution_count": 34,
   "id": "590be1f0-9872-4c40-a307-630e0f306c40",
   "metadata": {
    "execution": {
     "iopub.execute_input": "2025-02-23T07:25:15.147692Z",
     "iopub.status.busy": "2025-02-23T07:25:15.147631Z",
     "iopub.status.idle": "2025-02-23T07:25:15.149899Z",
     "shell.execute_reply": "2025-02-23T07:25:15.149552Z",
     "shell.execute_reply.started": "2025-02-23T07:25:15.147686Z"
    }
   },
   "outputs": [
    {
     "data": {
      "text/plain": [
       "437"
      ]
     },
     "execution_count": 34,
     "metadata": {},
     "output_type": "execute_result"
    }
   ],
   "source": [
    "len(graph.nodes)"
   ]
  },
  {
   "cell_type": "code",
   "execution_count": 35,
   "id": "d4914c31-2670-43cc-ae97-9926794927c4",
   "metadata": {
    "execution": {
     "iopub.execute_input": "2025-02-23T07:25:15.150310Z",
     "iopub.status.busy": "2025-02-23T07:25:15.150239Z",
     "iopub.status.idle": "2025-02-23T07:25:15.180617Z",
     "shell.execute_reply": "2025-02-23T07:25:15.180325Z",
     "shell.execute_reply.started": "2025-02-23T07:25:15.150303Z"
    }
   },
   "outputs": [
    {
     "data": {
      "text/plain": [
       "423"
      ]
     },
     "execution_count": 35,
     "metadata": {},
     "output_type": "execute_result"
    }
   ],
   "source": [
    "len(list(nx.periphery(graph.to_undirected())))"
   ]
  },
  {
   "cell_type": "code",
   "execution_count": 36,
   "id": "6129dbe8-3e18-4c3d-aed3-7e357483e213",
   "metadata": {
    "execution": {
     "iopub.execute_input": "2025-02-23T07:25:15.181135Z",
     "iopub.status.busy": "2025-02-23T07:25:15.181049Z",
     "iopub.status.idle": "2025-02-23T07:25:15.211241Z",
     "shell.execute_reply": "2025-02-23T07:25:15.211010Z",
     "shell.execute_reply.started": "2025-02-23T07:25:15.181124Z"
    }
   },
   "outputs": [
    {
     "name": "stdout",
     "output_type": "stream",
     "text": [
      "  1 {'name': 'LCM ALLIANCE LLP', 'value': 0.001608140883686597, 'size': 10, 'degree': 273, 'volume': 792653368.8799999, 'credits': 784209661.8799999, 'debits': 8443707.0, 'balance': 775765954.8799999}\n",
      "302 {'name': 'HILUX SERVICES LP', 'value': 0.0007487082146999895, 'size': 10, 'degree': 61, 'volume': 1538162666.2199998, 'credits': 1458096291.0399997, 'debits': 80066375.18, 'balance': 1378029915.8599997}\n",
      "298 {'name': 'POLUX MANAGEMENT LP', 'value': 0.0006880733944954129, 'size': 10, 'degree': 20, 'volume': 352811832.13, 'credits': 335246788.13, 'debits': 17565044.0, 'balance': 317681744.13}\n",
      "  3 {'name': 'METASTAR INVEST LLP', 'value': 0.0005457133818411895, 'size': 10, 'degree': 134, 'volume': 423682242.37999994, 'credits': 349821644.3799999, 'debits': 73860598.0, 'balance': 275961046.3799999}\n",
      " 66 {'name': 'RIVERLANE LLP', 'value': 0.0, 'size': 10, 'degree': 4, 'volume': 82016410.99000001, 'credits': 0, 'debits': 82016410.99000001, 'balance': -82016410.99000001}\n",
      "  7 {'name': 'DANSKE BANK A/S EESTI FILIAAL', 'value': 0.0, 'size': 10, 'degree': 3, 'volume': 4799052.71, 'credits': 0, 'debits': 4799052.71, 'balance': -4799052.71}\n",
      "170 {'name': 'MOLONEY TRADE LLP', 'value': 0.0, 'size': 10, 'degree': 3, 'volume': 15478265.0, 'credits': 0, 'debits': 15478265.0, 'balance': -15478265.0}\n",
      " 11 {'name': 'DEUTDEFFXXX', 'value': 0.0, 'size': 10, 'degree': 3, 'volume': 3260845.29, 'credits': 0, 'debits': 3260845.29, 'balance': -3260845.29}\n",
      "107 {'name': 'WILLROCK UNITED LLP', 'value': 0.0, 'size': 10, 'degree': 3, 'volume': 11501000.0, 'credits': 0, 'debits': 11501000.0, 'balance': -11501000.0}\n",
      "205 {'name': 'HARDWARE SYSTEM LLP', 'value': 0.0, 'size': 10, 'degree': 2, 'volume': 2163508.0, 'credits': 0, 'debits': 2163508.0, 'balance': -2163508.0}\n",
      " 17 {'name': 'GLOBECOM TRADE L.P', 'value': 0.0, 'size': 10, 'degree': 4, 'volume': 15165112.0, 'credits': 0, 'debits': 15165112.0, 'balance': -15165112.0}\n",
      "241 {'name': 'BONDWEST LLP', 'value': 0.0, 'size': 10, 'degree': 2, 'volume': 7200000.0, 'credits': 0, 'debits': 7200000.0, 'balance': -7200000.0}\n",
      "147 {'name': 'DELFRONT IMPORT LLP', 'value': 0.0, 'size': 10, 'degree': 2, 'volume': 18845446.0, 'credits': 0, 'debits': 18845446.0, 'balance': -18845446.0}\n",
      "375 {'name': 'REDPARK SALES CORP', 'value': 0.0, 'size': 10, 'degree': 3, 'volume': 2226020.0, 'credits': 0, 'debits': 2226020.0, 'balance': -2226020.0}\n"
     ]
    }
   ],
   "source": [
    "non_periph: set = set(graph.nodes) - set(nx.periphery(graph.to_undirected()))\n",
    "\n",
    "details: dict = {\n",
    "    node_id: graph.nodes[node_id]\n",
    "    for node_id in non_periph\n",
    "}\n",
    "\n",
    "for node_id, dat in sorted(details.items(), key = lambda pair: pair[1][\"value\"], reverse = True):\n",
    "    print(f\"{node_id:3}\", dat)"
   ]
  },
  {
   "cell_type": "markdown",
   "id": "57a9d17e-3aac-41e2-bad6-6ddb50b025be",
   "metadata": {},
   "source": [
    "let's keep track of these intermediary nodes in particular, which don't rank as high in centrality -- what is flowing through them?"
   ]
  },
  {
   "cell_type": "code",
   "execution_count": 37,
   "id": "b27368e5-6839-4d1b-9fad-5613e103de90",
   "metadata": {
    "execution": {
     "iopub.execute_input": "2025-02-23T07:25:15.211735Z",
     "iopub.status.busy": "2025-02-23T07:25:15.211658Z",
     "iopub.status.idle": "2025-02-23T07:25:15.213253Z",
     "shell.execute_reply": "2025-02-23T07:25:15.212992Z",
     "shell.execute_reply.started": "2025-02-23T07:25:15.211728Z"
    }
   },
   "outputs": [],
   "source": [
    "intermed: typing.Set[ int ] = non_periph - set([ 1, 302, 298, 3, ])"
   ]
  },
  {
   "cell_type": "markdown",
   "id": "04b7bb4c-ce5a-4113-ab40-e0c975884ee1",
   "metadata": {},
   "source": [
    "insights:\n",
    "\n",
    "  * nodes in the periphery are split between negative balance (initial sources for funds) and zero balance (intermediaries to hide eventual end outflows) though none end with a positive balance\n",
    "\n",
    "  * 10 intermediary nodes don't rank as high in centrality as the 4 main shell companies mentioned in the investigative journalism articles\n",
    "     * these 10 are in the computed \"center\" of the graph\n",
    "     * what patterns of transactions flow through these?"
   ]
  },
  {
   "cell_type": "markdown",
   "id": "44a18916-c7b0-413c-af3e-d3e7580e8276",
   "metadata": {},
   "source": [
    "## directed flows"
   ]
  },
  {
   "cell_type": "code",
   "execution_count": 38,
   "id": "f41e0d69-009e-4298-954f-2660e558b9cb",
   "metadata": {
    "execution": {
     "iopub.execute_input": "2025-02-23T07:25:15.213623Z",
     "iopub.status.busy": "2025-02-23T07:25:15.213559Z",
     "iopub.status.idle": "2025-02-23T07:25:15.215484Z",
     "shell.execute_reply": "2025-02-23T07:25:15.215268Z",
     "shell.execute_reply.started": "2025-02-23T07:25:15.213616Z"
    }
   },
   "outputs": [
    {
     "name": "stdout",
     "output_type": "stream",
     "text": [
      "272 in degree   1 LCM ALLIANCE LLP\n",
      "132 in degree   3 METASTAR INVEST LLP\n",
      " 18 in degree 298 POLUX MANAGEMENT LP\n",
      " 60 in degree 302 HILUX SERVICES LP\n"
     ]
    }
   ],
   "source": [
    "for node_id in graph.nodes():\n",
    "    deg: int = graph.in_degree(node_id)\n",
    "\n",
    "    if deg > 0:\n",
    "        dat = graph.nodes[node_id]\n",
    "        print(f\"{deg:3} in degree {node_id:3}\", dat[\"name\"])"
   ]
  },
  {
   "cell_type": "code",
   "execution_count": 39,
   "id": "92c0b413-5a80-4fe7-bfb5-e634dae843ed",
   "metadata": {
    "execution": {
     "iopub.execute_input": "2025-02-23T07:25:15.215909Z",
     "iopub.status.busy": "2025-02-23T07:25:15.215837Z",
     "iopub.status.idle": "2025-02-23T07:25:15.217648Z",
     "shell.execute_reply": "2025-02-23T07:25:15.217458Z",
     "shell.execute_reply.started": "2025-02-23T07:25:15.215901Z"
    }
   },
   "outputs": [],
   "source": [
    "for node_id in graph.nodes():\n",
    "    graph.nodes[node_id][\"out_deg\"] = graph.out_degree(node_id)"
   ]
  },
  {
   "cell_type": "code",
   "execution_count": 40,
   "id": "93be74bd-bb87-4570-85c3-97cbd0ebbdee",
   "metadata": {
    "execution": {
     "iopub.execute_input": "2025-02-23T07:25:15.218015Z",
     "iopub.status.busy": "2025-02-23T07:25:15.217960Z",
     "iopub.status.idle": "2025-02-23T07:25:15.222577Z",
     "shell.execute_reply": "2025-02-23T07:25:15.222381Z",
     "shell.execute_reply.started": "2025-02-23T07:25:15.218008Z"
    }
   },
   "outputs": [
    {
     "data": {
      "text/html": [
       "<div>\n",
       "<style scoped>\n",
       "    .dataframe tbody tr th:only-of-type {\n",
       "        vertical-align: middle;\n",
       "    }\n",
       "\n",
       "    .dataframe tbody tr th {\n",
       "        vertical-align: top;\n",
       "    }\n",
       "\n",
       "    .dataframe thead th {\n",
       "        text-align: right;\n",
       "    }\n",
       "</style>\n",
       "<table border=\"1\" class=\"dataframe\">\n",
       "  <thead>\n",
       "    <tr style=\"text-align: right;\">\n",
       "      <th></th>\n",
       "      <th>node_id</th>\n",
       "      <th>name</th>\n",
       "      <th>out_deg</th>\n",
       "      <th>balance</th>\n",
       "      <th>volume</th>\n",
       "      <th>credits</th>\n",
       "      <th>debits</th>\n",
       "    </tr>\n",
       "  </thead>\n",
       "  <tbody>\n",
       "    <tr>\n",
       "      <th>0</th>\n",
       "      <td>0</td>\n",
       "      <td>AZARBAYCAN METANOL KOMPANI MMC</td>\n",
       "      <td>1</td>\n",
       "      <td>-1.511916e+06</td>\n",
       "      <td>1.511916e+06</td>\n",
       "      <td>0.000000e+00</td>\n",
       "      <td>1511916.50</td>\n",
       "    </tr>\n",
       "    <tr>\n",
       "      <th>1</th>\n",
       "      <td>1</td>\n",
       "      <td>LCM ALLIANCE LLP</td>\n",
       "      <td>1</td>\n",
       "      <td>7.757660e+08</td>\n",
       "      <td>7.926534e+08</td>\n",
       "      <td>7.842097e+08</td>\n",
       "      <td>8443707.00</td>\n",
       "    </tr>\n",
       "    <tr>\n",
       "      <th>2</th>\n",
       "      <td>2</td>\n",
       "      <td>SKN ELECTRICAL SERVICES LIMITEDACCO</td>\n",
       "      <td>1</td>\n",
       "      <td>-1.100632e+05</td>\n",
       "      <td>1.100632e+05</td>\n",
       "      <td>0.000000e+00</td>\n",
       "      <td>110063.19</td>\n",
       "    </tr>\n",
       "    <tr>\n",
       "      <th>3</th>\n",
       "      <td>3</td>\n",
       "      <td>METASTAR INVEST LLP</td>\n",
       "      <td>2</td>\n",
       "      <td>2.759610e+08</td>\n",
       "      <td>4.236822e+08</td>\n",
       "      <td>3.498216e+08</td>\n",
       "      <td>73860598.00</td>\n",
       "    </tr>\n",
       "    <tr>\n",
       "      <th>4</th>\n",
       "      <td>4</td>\n",
       "      <td>INMAXO CAPITAL CORP.</td>\n",
       "      <td>1</td>\n",
       "      <td>-4.152311e+05</td>\n",
       "      <td>4.152311e+05</td>\n",
       "      <td>0.000000e+00</td>\n",
       "      <td>415231.08</td>\n",
       "    </tr>\n",
       "  </tbody>\n",
       "</table>\n",
       "</div>"
      ],
      "text/plain": [
       "   node_id                                 name  out_deg       balance  \\\n",
       "0        0       AZARBAYCAN METANOL KOMPANI MMC        1 -1.511916e+06   \n",
       "1        1                     LCM ALLIANCE LLP        1  7.757660e+08   \n",
       "2        2  SKN ELECTRICAL SERVICES LIMITEDACCO        1 -1.100632e+05   \n",
       "3        3                  METASTAR INVEST LLP        2  2.759610e+08   \n",
       "4        4                 INMAXO CAPITAL CORP.        1 -4.152311e+05   \n",
       "\n",
       "         volume       credits       debits  \n",
       "0  1.511916e+06  0.000000e+00   1511916.50  \n",
       "1  7.926534e+08  7.842097e+08   8443707.00  \n",
       "2  1.100632e+05  0.000000e+00    110063.19  \n",
       "3  4.236822e+08  3.498216e+08  73860598.00  \n",
       "4  4.152311e+05  0.000000e+00    415231.08  "
      ]
     },
     "execution_count": 40,
     "metadata": {},
     "output_type": "execute_result"
    }
   ],
   "source": [
    "flows_dat: list = [\n",
    "    {\n",
    "        \"node_id\": node_id,\n",
    "        \"name\": dat[\"name\"],\n",
    "        \"out_deg\": dat[\"out_deg\"],\n",
    "        \"balance\": dat[\"balance\"],\n",
    "        \"volume\": dat[\"volume\"],\n",
    "        \"credits\": dat[\"credits\"],\n",
    "        \"debits\": dat[\"debits\"],\n",
    "    }\n",
    "    for node_id, dat in graph.nodes(data = True)\n",
    "    if dat[\"out_deg\"] > 0\n",
    "]\n",
    "\n",
    "df_flows: pd.DataFrame = pd.DataFrame.from_dict(\n",
    "    flows_dat,\n",
    "    orient = \"columns\"\n",
    ")\n",
    "\n",
    "df_flows.head()"
   ]
  },
  {
   "cell_type": "code",
   "execution_count": 41,
   "id": "dd3f9bc4-9c55-43e1-87d7-735f1dd97ffc",
   "metadata": {
    "execution": {
     "iopub.execute_input": "2025-02-23T07:25:15.223103Z",
     "iopub.status.busy": "2025-02-23T07:25:15.223026Z",
     "iopub.status.idle": "2025-02-23T07:25:15.290095Z",
     "shell.execute_reply": "2025-02-23T07:25:15.289837Z",
     "shell.execute_reply.started": "2025-02-23T07:25:15.223097Z"
    }
   },
   "outputs": [
    {
     "data": {
      "image/png": "[encoded data removed]",
      "text/plain": [
       "<Figure size 500x100 with 1 Axes>"
      ]
     },
     "metadata": {},
     "output_type": "display_data"
    }
   ],
   "source": [
    "dat = df_flows[\"out_deg\"].to_list()\n",
    "\n",
    "fig, ax = plt.subplots(figsize = (5, 1))\n",
    "plt.rcParams[\"font.family\"] = \"sans-serif\"\n",
    "\n",
    "y = sns.histplot(dat)\n",
    "y.tick_params(axis = \"y\", size = 9, colors = \"gray\")\n",
    "y.bar_label(y.containers[0], padding = 3, color = \"gray\", fontsize = 7)\n",
    "\n",
    "plt.xlabel(\"out degree\", size = 10, fontstyle = \"italic\")\n",
    "plt.ylabel(\"count\", size = 10, fontstyle = \"italic\")\n",
    "\n",
    "plt.gca().xaxis.set_major_formatter(FuncFormatter(lambda x, _: int(x)))\n",
    "y.set(xticks = range(min(dat), max(dat) + 1))\n",
    "\n",
    "sns.despine(bottom = True, left = True)\n",
    "plt.yscale(\"log\")\n",
    "\n",
    "plt.legend([], [], frameon = False);"
   ]
  },
  {
   "cell_type": "code",
   "execution_count": 42,
   "id": "b1e94937-89cc-4a50-9760-aad0fa10fbb2",
   "metadata": {
    "execution": {
     "iopub.execute_input": "2025-02-23T07:25:15.290709Z",
     "iopub.status.busy": "2025-02-23T07:25:15.290607Z",
     "iopub.status.idle": "2025-02-23T07:25:15.646787Z",
     "shell.execute_reply": "2025-02-23T07:25:15.646534Z",
     "shell.execute_reply.started": "2025-02-23T07:25:15.290702Z"
    }
   },
   "outputs": [
    {
     "data": {
      "image/png": "[encoded data removed]",
      "text/plain": [
       "<Figure size 640x480 with 1 Axes>"
      ]
     },
     "metadata": {},
     "output_type": "display_data"
    }
   ],
   "source": [
    "x: list = df_flows[\"out_deg\"].to_list()\n",
    "y: list = df_flows[\"balance\"].to_list()\n",
    "labels: list = df_flows[\"name\"].to_list()\n",
    "\n",
    "sns.scatterplot(data = df_flows, x = \"out_deg\", y = \"balance\")\n",
    "\n",
    "for i, label in enumerate(labels):\n",
    "    plt.annotate(label, (x[i], y[i]), alpha = 0.3, fontsize = 7)\n",
    "\n",
    "plt.show()"
   ]
  },
  {
   "cell_type": "markdown",
   "id": "39f9080c-6133-4cb6-9eb7-1e03af4e1c8a",
   "metadata": {},
   "source": [
    "here are the shell companies which had more funds transferred out than transferred in"
   ]
  },
  {
   "cell_type": "code",
   "execution_count": 43,
   "id": "ffb30c07-5758-4b4b-ae24-80eb7f316309",
   "metadata": {
    "execution": {
     "iopub.execute_input": "2025-02-23T07:25:15.647224Z",
     "iopub.status.busy": "2025-02-23T07:25:15.647143Z",
     "iopub.status.idle": "2025-02-23T07:25:15.947959Z",
     "shell.execute_reply": "2025-02-23T07:25:15.947683Z",
     "shell.execute_reply.started": "2025-02-23T07:25:15.647217Z"
    },
    "scrolled": true
   },
   "outputs": [
    {
     "data": {
      "image/png": "[encoded data removed]",
      "text/plain": [
       "<Figure size 640x480 with 1 Axes>"
      ]
     },
     "metadata": {},
     "output_type": "display_data"
    }
   ],
   "source": [
    "x: list = df_flows[\"out_deg\"].to_list()\n",
    "y: list = df_flows[\"debits\"].to_list()\n",
    "labels: list = df_flows[\"name\"].to_list()\n",
    "\n",
    "sns.scatterplot(data = df_flows, x = \"out_deg\", y = \"debits\")\n",
    "\n",
    "for i, label in enumerate(labels):\n",
    "    plt.annotate(label, (x[i], y[i]), alpha = 0.3, fontsize = 7)\n",
    "\n",
    "plt.yscale(\"log\")\n",
    "plt.show()"
   ]
  },
  {
   "cell_type": "markdown",
   "id": "605f098a-1c12-42bf-a14e-0318ef87bdac",
   "metadata": {},
   "source": [
    "## summary"
   ]
  },
  {
   "cell_type": "markdown",
   "id": "078a36e7-378d-4a5e-a56d-1fcd24af2e1f",
   "metadata": {},
   "source": [
    "take-aways:\n",
    "\n",
    " * this is a relatively sparse graph with `diameter = 4`\n",
    " * power law distribution on node degree, `max node degree = 273`\n",
    " * fully connected, `avg path length = 4`\n",
    " * 423 nodes of 437 total are in the periphery, while 10 are in the computed \"center\"\n",
    " * periphery nodes split between negative balance (multiple sources for funds) and zero balance (intermediaries to hide the eventual end outflows); none end with a positive balance\n",
    "\n",
    "questions:\n",
    "\n",
    " * do the many `021U` triads indicate \"burst in beneficiaries\" AML tradecraft patterns?"
   ]
  },
  {
   "cell_type": "markdown",
   "id": "e7ef6090-fb33-4827-9458-c4dcd1183ba9",
   "metadata": {},
   "source": [
    "OCCRP analysis and the subsequent investigative journalism articles mention the 4 top shell companies involved in the \"Azerbaijani Laundromat\", in order of centrality: \"LCM\", \"HILUX\", \"POLUX\", \"METASTAR\". \n",
    "\n",
    "`NetworkX` identifies 423 nodes out of a 437 total as \"peripheral\", so then what kind of patterns occur involving the other intermediate shell companies?\n",
    "\n",
    "The remaining 10 shell companies of interest about tradecraft patterns are located approximately at the computed \"center\" of the graph:\n",
    "\n",
    "  * \"DANSKE BANK A/S EESTI FILIAAL\"\n",
    "  * \"RIVERLANE LLP\"\n",
    "  * \"GLOBECOM TRADE L.P\"\n",
    "  * \"MOLONEY TRADE LLP\"\n",
    "  * \"DEUTDEFFXXX\"\n",
    "  * \"WILLROCK UNITED LLP\"\n",
    "  * \"HARDWARE SYSTEM LLP\"\n",
    "  * \"BONDWEST LLP\"\n",
    "  * \"DELFRONT IMPORT LLP\"\n",
    "  * \"REDPARK SALES CORP\"\n",
    "\n",
    "Note that the leaked transaction data came from an Estonian branch of Danske Bank, which is one of these intermediary nodes identified: \"DANSKE BANK A/S EESTI FILIAAL\" https://thebanks.eu/banks/13002\n",
    "\n",
    "These intermediaries appear to be where initial inflows of funds primarily were sourced?\n",
    "\n",
    "Orders of magnitude larger amounts of funds appear to have sourced into \"BAKTELEKOM MMC\" plus another ~200 companies in the periphery (to a lesser extent) then drained mostly out of \"LCM\", \"HILUX\", \"POLUX\", and \"METASTAR\""
   ]
  }
 ],
 "metadata": {
  "kernelspec": {
   "display_name": "Python 3 (ipykernel)",
   "language": "python",
   "name": "python3"
  },
  "language_info": {
   "codemirror_mode": {
    "name": "ipython",
    "version": 3
   },
   "file_extension": ".py",
   "mimetype": "text/x-python",
   "name": "python",
   "nbconvert_exporter": "python",
   "pygments_lexer": "ipython3",
   "version": "3.13.2"
  }
 },
 "nbformat": 4,
 "nbformat_minor": 5
}
