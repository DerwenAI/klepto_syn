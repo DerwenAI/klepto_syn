{
 "cells": [
  {
   "cell_type": "markdown",
   "id": "75922827-b8fa-4cae-9378-47976e141c7a",
   "metadata": {},
   "source": [
    "# Analysis of \"Azerbaijani Laundromat\" transaction data"
   ]
  },
  {
   "cell_type": "markdown",
   "id": "f70677c5-06bf-441d-b659-b02e10efdea8",
   "metadata": {},
   "source": [
    "## set up environment"
   ]
  },
  {
   "cell_type": "markdown",
   "id": "cd71e9de-eb63-41d9-b90e-1d8f745d2b93",
   "metadata": {},
   "source": [
    "Load the library dependencies"
   ]
  },
  {
   "cell_type": "code",
   "execution_count": 1,
   "id": "4272d417-ded4-4a28-9e26-acecbd7fdc9e",
   "metadata": {
    "execution": {
     "iopub.execute_input": "2025-02-23T00:56:58.749254Z",
     "iopub.status.busy": "2025-02-23T00:56:58.748724Z",
     "iopub.status.idle": "2025-02-23T00:56:59.434105Z",
     "shell.execute_reply": "2025-02-23T00:56:59.433827Z",
     "shell.execute_reply.started": "2025-02-23T00:56:58.749229Z"
    }
   },
   "outputs": [],
   "source": [
    "from collections import defaultdict\n",
    "from datetime import datetime, timedelta\n",
    "import itertools\n",
    "import pathlib\n",
    "import statistics\n",
    "import typing\n",
    "\n",
    "from icecream import ic\n",
    "from matplotlib.ticker import FuncFormatter\n",
    "import matplotlib.pyplot as plt\n",
    "import networkx as nx\n",
    "import pandas as pd\n",
    "import pyvis\n",
    "import scipy\n",
    "import seaborn as sns\n",
    "import watermark"
   ]
  },
  {
   "cell_type": "markdown",
   "id": "b212ce85-06f8-4f54-a21a-818090ccadf3",
   "metadata": {},
   "source": [
    "Show a watermark of the OS, hardware, language environment, and dependent library versions."
   ]
  },
  {
   "cell_type": "code",
   "execution_count": 2,
   "id": "b0dbe92a-ed37-4a39-98bb-ce5c4ee07bc0",
   "metadata": {
    "execution": {
     "iopub.execute_input": "2025-02-23T00:56:59.434556Z",
     "iopub.status.busy": "2025-02-23T00:56:59.434441Z",
     "iopub.status.idle": "2025-02-23T00:56:59.451047Z",
     "shell.execute_reply": "2025-02-23T00:56:59.450666Z",
     "shell.execute_reply.started": "2025-02-23T00:56:59.434548Z"
    }
   },
   "outputs": [
    {
     "name": "stdout",
     "output_type": "stream",
     "text": [
      "Last updated: 2025-02-22T16:56:59.435226-08:00\n",
      "\n",
      "Python implementation: CPython\n",
      "Python version       : 3.13.2\n",
      "IPython version      : 8.32.0\n",
      "\n",
      "Compiler    : Clang 16.0.0 (clang-1600.0.26.6)\n",
      "OS          : Darwin\n",
      "Release     : 23.6.0\n",
      "Machine     : arm64\n",
      "Processor   : arm\n",
      "CPU cores   : 14\n",
      "Architecture: 64bit\n",
      "\n",
      "networkx  : 3.4.2\n",
      "pyvis     : 0.3.2\n",
      "watermark : 2.5.0\n",
      "pandas    : 2.2.3\n",
      "seaborn   : 0.13.2\n",
      "matplotlib: 3.10.0\n",
      "scipy     : 1.15.2\n",
      "\n"
     ]
    }
   ],
   "source": [
    "%load_ext watermark\n",
    "%watermark\n",
    "%watermark --iversions"
   ]
  },
  {
   "cell_type": "markdown",
   "id": "2447b630-0913-4791-b2aa-3f8828433fc7",
   "metadata": {},
   "source": [
    "Configure `pandas`"
   ]
  },
  {
   "cell_type": "code",
   "execution_count": 3,
   "id": "afe2ea5f-cba2-4588-a9ad-6699d02cfe87",
   "metadata": {
    "execution": {
     "iopub.execute_input": "2025-02-23T00:56:59.451834Z",
     "iopub.status.busy": "2025-02-23T00:56:59.451718Z",
     "iopub.status.idle": "2025-02-23T00:56:59.454091Z",
     "shell.execute_reply": "2025-02-23T00:56:59.453773Z",
     "shell.execute_reply.started": "2025-02-23T00:56:59.451818Z"
    }
   },
   "outputs": [],
   "source": [
    "pd.set_option(\"display.max_rows\", None)"
   ]
  },
  {
   "cell_type": "markdown",
   "id": "acf7d589-2af6-4fc5-a2a9-165850db7677",
   "metadata": {},
   "source": [
    "## load the money transfer data"
   ]
  },
  {
   "cell_type": "markdown",
   "id": "a479bf3c-6b43-4796-9f65-0e6211920189",
   "metadata": {},
   "source": [
    "Load the OCCRP data for the \"Azerbaijani Laundromat\" leaked bank transactions <https://github.com/cj2001/senzing_occrp_mapping_demo/blob/main/occrp_17k.csv>"
   ]
  },
  {
   "cell_type": "code",
   "execution_count": 4,
   "id": "164cfe7e-a6e9-49e9-8b02-248cd288c1d8",
   "metadata": {
    "execution": {
     "iopub.execute_input": "2025-02-23T00:56:59.454496Z",
     "iopub.status.busy": "2025-02-23T00:56:59.454429Z",
     "iopub.status.idle": "2025-02-23T00:56:59.497467Z",
     "shell.execute_reply": "2025-02-23T00:56:59.497059Z",
     "shell.execute_reply.started": "2025-02-23T00:56:59.454490Z"
    }
   },
   "outputs": [],
   "source": [
    "occrp_file: pathlib.Path = pathlib.Path(\"occrp_17k.csv\")\n",
    "df_orig: pd.DataFrame = pd.read_csv(occrp_file)"
   ]
  },
  {
   "cell_type": "code",
   "execution_count": 5,
   "id": "5474d93d-e6b3-4050-9069-30e5852c8702",
   "metadata": {
    "execution": {
     "iopub.execute_input": "2025-02-23T00:56:59.498022Z",
     "iopub.status.busy": "2025-02-23T00:56:59.497938Z",
     "iopub.status.idle": "2025-02-23T00:56:59.506316Z",
     "shell.execute_reply": "2025-02-23T00:56:59.506082Z",
     "shell.execute_reply.started": "2025-02-23T00:56:59.498011Z"
    }
   },
   "outputs": [
    {
     "data": {
      "text/html": [
       "<div>\n",
       "<style scoped>\n",
       "    .dataframe tbody tr th:only-of-type {\n",
       "        vertical-align: middle;\n",
       "    }\n",
       "\n",
       "    .dataframe tbody tr th {\n",
       "        vertical-align: top;\n",
       "    }\n",
       "\n",
       "    .dataframe thead th {\n",
       "        text-align: right;\n",
       "    }\n",
       "</style>\n",
       "<table border=\"1\" class=\"dataframe\">\n",
       "  <thead>\n",
       "    <tr style=\"text-align: right;\">\n",
       "      <th></th>\n",
       "      <th>payer_name</th>\n",
       "      <th>payer_jurisdiction</th>\n",
       "      <th>payer_account</th>\n",
       "      <th>source_file</th>\n",
       "      <th>amount_orig</th>\n",
       "      <th>id</th>\n",
       "      <th>beneficiary_type</th>\n",
       "      <th>beneficiary_core</th>\n",
       "      <th>amount_orig_currency</th>\n",
       "      <th>beneficiary_name</th>\n",
       "      <th>...</th>\n",
       "      <th>beneficiary_name_norm</th>\n",
       "      <th>payer_core</th>\n",
       "      <th>beneficiary_account</th>\n",
       "      <th>purpose</th>\n",
       "      <th>date</th>\n",
       "      <th>amount_usd</th>\n",
       "      <th>amount_eur</th>\n",
       "      <th>payer_type</th>\n",
       "      <th>payer_name_norm</th>\n",
       "      <th>payer_bank_country</th>\n",
       "    </tr>\n",
       "  </thead>\n",
       "  <tbody>\n",
       "    <tr>\n",
       "      <th>0</th>\n",
       "      <td>AZARBAYCAN METANOL KOMPANI MMC</td>\n",
       "      <td>AZ</td>\n",
       "      <td>33817018409333311204</td>\n",
       "      <td>pdf/LCM ALLIANCE Account statement 30.06.12-31...</td>\n",
       "      <td>535470.00</td>\n",
       "      <td>6049</td>\n",
       "      <td>Company</td>\n",
       "      <td>True</td>\n",
       "      <td>USD</td>\n",
       "      <td>LCM ALLIANCE LLP</td>\n",
       "      <td>...</td>\n",
       "      <td>LCM ALLIANCE LLP</td>\n",
       "      <td>False</td>\n",
       "      <td>EE27 3300 3335 0561 0002</td>\n",
       "      <td>1206295100052180 OCT4121800021 ADVANCE PAYM FO...</td>\n",
       "      <td>2012-06-30</td>\n",
       "      <td>535470</td>\n",
       "      <td>$431,762.31</td>\n",
       "      <td>Company</td>\n",
       "      <td>AZARBAYCAN METANOL KOMPANI MMC</td>\n",
       "      <td>33</td>\n",
       "    </tr>\n",
       "    <tr>\n",
       "      <th>1</th>\n",
       "      <td>LCM ALLIANCE LLP</td>\n",
       "      <td>GB</td>\n",
       "      <td>EE27 3300 3335 0561 0002</td>\n",
       "      <td>pdf/LCM ALLIANCE Account statement 30.06.12-31...</td>\n",
       "      <td>-535000.00</td>\n",
       "      <td>6050</td>\n",
       "      <td>Company</td>\n",
       "      <td>False</td>\n",
       "      <td>USD</td>\n",
       "      <td>MOBILA LLP</td>\n",
       "      <td>...</td>\n",
       "      <td>MOBILA LLP</td>\n",
       "      <td>True</td>\n",
       "      <td>333504500003</td>\n",
       "      <td>1207035026699176 INVOICE.No 6215 DD 25.05.2012</td>\n",
       "      <td>2012-07-03</td>\n",
       "      <td>535000</td>\n",
       "      <td>$423,688.44</td>\n",
       "      <td>Company</td>\n",
       "      <td>LCM ALLIANCE LLP</td>\n",
       "      <td>EE</td>\n",
       "    </tr>\n",
       "    <tr>\n",
       "      <th>2</th>\n",
       "      <td>SKN ELECTRICAL SERVICES LIMITEDACCO</td>\n",
       "      <td>GB</td>\n",
       "      <td>20100374548222</td>\n",
       "      <td>pdf/METASTAR Account statement 30.06.12-31.12....</td>\n",
       "      <td>90535.19</td>\n",
       "      <td>10623</td>\n",
       "      <td>Company</td>\n",
       "      <td>True</td>\n",
       "      <td>USD</td>\n",
       "      <td>METASTAR INVEST LLP</td>\n",
       "      <td>...</td>\n",
       "      <td>METASTAR INVEST LLP</td>\n",
       "      <td>False</td>\n",
       "      <td>EE77 3300 3334 8704 0004</td>\n",
       "      <td>1207065103089249   /FEE/USD4,81</td>\n",
       "      <td>2012-07-06</td>\n",
       "      <td>90536</td>\n",
       "      <td>$71,698.53</td>\n",
       "      <td>Company</td>\n",
       "      <td>SKN ELECTRICAL SERVICES LIMITED</td>\n",
       "      <td>20</td>\n",
       "    </tr>\n",
       "    <tr>\n",
       "      <th>3</th>\n",
       "      <td>METASTAR INVEST LLP</td>\n",
       "      <td>GB</td>\n",
       "      <td>EE77 3300 3334 8704 0004</td>\n",
       "      <td>pdf/METASTAR Account statement 30.06.12-31.12....</td>\n",
       "      <td>-90520.00</td>\n",
       "      <td>15589</td>\n",
       "      <td>Company</td>\n",
       "      <td>False</td>\n",
       "      <td>USD</td>\n",
       "      <td>INMAXO CAPITAL CORP</td>\n",
       "      <td>...</td>\n",
       "      <td>INMAXO CAPITAL CORP.</td>\n",
       "      <td>True</td>\n",
       "      <td>333455870002</td>\n",
       "      <td>1207095022358525 DOGOVOR ZAYMA</td>\n",
       "      <td>2012-07-09</td>\n",
       "      <td>90520</td>\n",
       "      <td>$71,686.50</td>\n",
       "      <td>Company</td>\n",
       "      <td>METASTAR INVEST LLP</td>\n",
       "      <td>EE</td>\n",
       "    </tr>\n",
       "    <tr>\n",
       "      <th>4</th>\n",
       "      <td>METASTAR INVEST LLP</td>\n",
       "      <td>GB</td>\n",
       "      <td>EE77 3300 3334 8704 0004</td>\n",
       "      <td>pdf/METASTAR Account statement 30.06.12-31.12....</td>\n",
       "      <td>-60.00</td>\n",
       "      <td>10624</td>\n",
       "      <td>Company</td>\n",
       "      <td>False</td>\n",
       "      <td>USD</td>\n",
       "      <td>INMAXO CAPITAL CORP</td>\n",
       "      <td>...</td>\n",
       "      <td>INMAXO CAPITAL CORP.</td>\n",
       "      <td>True</td>\n",
       "      <td>333455870002</td>\n",
       "      <td>1207135024578077 DOGOVOR ZAYMA</td>\n",
       "      <td>2012-07-13</td>\n",
       "      <td>60</td>\n",
       "      <td>$47.52</td>\n",
       "      <td>Company</td>\n",
       "      <td>METASTAR INVEST LLP</td>\n",
       "      <td>EE</td>\n",
       "    </tr>\n",
       "  </tbody>\n",
       "</table>\n",
       "<p>5 rows × 23 columns</p>\n",
       "</div>"
      ],
      "text/plain": [
       "                            payer_name payer_jurisdiction  \\\n",
       "0       AZARBAYCAN METANOL KOMPANI MMC                 AZ   \n",
       "1                     LCM ALLIANCE LLP                 GB   \n",
       "2  SKN ELECTRICAL SERVICES LIMITEDACCO                 GB   \n",
       "3                  METASTAR INVEST LLP                 GB   \n",
       "4                  METASTAR INVEST LLP                 GB   \n",
       "\n",
       "              payer_account  \\\n",
       "0      33817018409333311204   \n",
       "1  EE27 3300 3335 0561 0002   \n",
       "2            20100374548222   \n",
       "3  EE77 3300 3334 8704 0004   \n",
       "4  EE77 3300 3334 8704 0004   \n",
       "\n",
       "                                         source_file  amount_orig     id  \\\n",
       "0  pdf/LCM ALLIANCE Account statement 30.06.12-31...    535470.00   6049   \n",
       "1  pdf/LCM ALLIANCE Account statement 30.06.12-31...   -535000.00   6050   \n",
       "2  pdf/METASTAR Account statement 30.06.12-31.12....     90535.19  10623   \n",
       "3  pdf/METASTAR Account statement 30.06.12-31.12....    -90520.00  15589   \n",
       "4  pdf/METASTAR Account statement 30.06.12-31.12....       -60.00  10624   \n",
       "\n",
       "  beneficiary_type  beneficiary_core amount_orig_currency  \\\n",
       "0          Company              True                  USD   \n",
       "1          Company             False                  USD   \n",
       "2          Company              True                  USD   \n",
       "3          Company             False                  USD   \n",
       "4          Company             False                  USD   \n",
       "\n",
       "      beneficiary_name  ... beneficiary_name_norm payer_core  \\\n",
       "0     LCM ALLIANCE LLP  ...      LCM ALLIANCE LLP      False   \n",
       "1           MOBILA LLP  ...            MOBILA LLP       True   \n",
       "2  METASTAR INVEST LLP  ...   METASTAR INVEST LLP      False   \n",
       "3  INMAXO CAPITAL CORP  ...  INMAXO CAPITAL CORP.       True   \n",
       "4  INMAXO CAPITAL CORP  ...  INMAXO CAPITAL CORP.       True   \n",
       "\n",
       "        beneficiary_account  \\\n",
       "0  EE27 3300 3335 0561 0002   \n",
       "1              333504500003   \n",
       "2  EE77 3300 3334 8704 0004   \n",
       "3              333455870002   \n",
       "4              333455870002   \n",
       "\n",
       "                                             purpose        date amount_usd  \\\n",
       "0  1206295100052180 OCT4121800021 ADVANCE PAYM FO...  2012-06-30     535470   \n",
       "1     1207035026699176 INVOICE.No 6215 DD 25.05.2012  2012-07-03     535000   \n",
       "2                    1207065103089249   /FEE/USD4,81  2012-07-06      90536   \n",
       "3                     1207095022358525 DOGOVOR ZAYMA  2012-07-09      90520   \n",
       "4                     1207135024578077 DOGOVOR ZAYMA  2012-07-13         60   \n",
       "\n",
       "    amount_eur payer_type                  payer_name_norm payer_bank_country  \n",
       "0  $431,762.31    Company   AZARBAYCAN METANOL KOMPANI MMC                 33  \n",
       "1  $423,688.44    Company                 LCM ALLIANCE LLP                 EE  \n",
       "2   $71,698.53    Company  SKN ELECTRICAL SERVICES LIMITED                 20  \n",
       "3   $71,686.50    Company              METASTAR INVEST LLP                 EE  \n",
       "4       $47.52    Company              METASTAR INVEST LLP                 EE  \n",
       "\n",
       "[5 rows x 23 columns]"
      ]
     },
     "execution_count": 5,
     "metadata": {},
     "output_type": "execute_result"
    }
   ],
   "source": [
    "df_orig.head()"
   ]
  },
  {
   "cell_type": "code",
   "execution_count": 6,
   "id": "816d33f3-0a9d-4d89-923d-e0c2f2360d45",
   "metadata": {
    "execution": {
     "iopub.execute_input": "2025-02-23T00:56:59.507958Z",
     "iopub.status.busy": "2025-02-23T00:56:59.507849Z",
     "iopub.status.idle": "2025-02-23T00:56:59.510107Z",
     "shell.execute_reply": "2025-02-23T00:56:59.509861Z",
     "shell.execute_reply.started": "2025-02-23T00:56:59.507948Z"
    }
   },
   "outputs": [
    {
     "data": {
      "text/plain": [
       "Index(['payer_name', 'payer_jurisdiction', 'payer_account', 'source_file',\n",
       "       'amount_orig', 'id', 'beneficiary_type', 'beneficiary_core',\n",
       "       'amount_orig_currency', 'beneficiary_name', 'beneficiary_jurisdiction',\n",
       "       'investigation', 'beneficiary_bank_country', 'beneficiary_name_norm',\n",
       "       'payer_core', 'beneficiary_account', 'purpose', 'date', 'amount_usd',\n",
       "       'amount_eur', 'payer_type', 'payer_name_norm', 'payer_bank_country'],\n",
       "      dtype='object')"
      ]
     },
     "execution_count": 6,
     "metadata": {},
     "output_type": "execute_result"
    }
   ],
   "source": [
    "df_orig.columns"
   ]
  },
  {
   "cell_type": "markdown",
   "id": "4210a479-1a33-4416-a734-248edf592ac0",
   "metadata": {},
   "source": [
    "reduce the dataframe to just the slice needed for this analysis"
   ]
  },
  {
   "cell_type": "code",
   "execution_count": 7,
   "id": "364b82ce-b57b-4a6b-9501-eff3ebae3c85",
   "metadata": {
    "execution": {
     "iopub.execute_input": "2025-02-23T00:56:59.510466Z",
     "iopub.status.busy": "2025-02-23T00:56:59.510411Z",
     "iopub.status.idle": "2025-02-23T00:56:59.521622Z",
     "shell.execute_reply": "2025-02-23T00:56:59.521348Z",
     "shell.execute_reply.started": "2025-02-23T00:56:59.510460Z"
    }
   },
   "outputs": [
    {
     "data": {
      "text/html": [
       "<div>\n",
       "<style scoped>\n",
       "    .dataframe tbody tr th:only-of-type {\n",
       "        vertical-align: middle;\n",
       "    }\n",
       "\n",
       "    .dataframe tbody tr th {\n",
       "        vertical-align: top;\n",
       "    }\n",
       "\n",
       "    .dataframe thead th {\n",
       "        text-align: right;\n",
       "    }\n",
       "</style>\n",
       "<table border=\"1\" class=\"dataframe\">\n",
       "  <thead>\n",
       "    <tr style=\"text-align: right;\">\n",
       "      <th></th>\n",
       "      <th>date</th>\n",
       "      <th>amount_orig</th>\n",
       "      <th>payer_name</th>\n",
       "      <th>beneficiary_name</th>\n",
       "      <th>purpose</th>\n",
       "    </tr>\n",
       "  </thead>\n",
       "  <tbody>\n",
       "    <tr>\n",
       "      <th>0</th>\n",
       "      <td>2012-06-30</td>\n",
       "      <td>535470.00</td>\n",
       "      <td>AZARBAYCAN METANOL KOMPANI MMC</td>\n",
       "      <td>LCM ALLIANCE LLP</td>\n",
       "      <td>1206295100052180 OCT4121800021 ADVANCE PAYM FO...</td>\n",
       "    </tr>\n",
       "    <tr>\n",
       "      <th>2</th>\n",
       "      <td>2012-07-06</td>\n",
       "      <td>90535.19</td>\n",
       "      <td>SKN ELECTRICAL SERVICES LIMITEDACCO</td>\n",
       "      <td>METASTAR INVEST LLP</td>\n",
       "      <td>1207065103089249   /FEE/USD4,81</td>\n",
       "    </tr>\n",
       "    <tr>\n",
       "      <th>5</th>\n",
       "      <td>2012-07-13</td>\n",
       "      <td>189352.15</td>\n",
       "      <td>INMAXO CAPITAL CORP.</td>\n",
       "      <td>METASTAR INVEST LLP</td>\n",
       "      <td>CONTRACT N 001 DD 24.12.2009</td>\n",
       "    </tr>\n",
       "    <tr>\n",
       "      <th>6</th>\n",
       "      <td>2012-07-13</td>\n",
       "      <td>225850.00</td>\n",
       "      <td>INMAXO CAPITAL CORP.</td>\n",
       "      <td>METASTAR INVEST LLP</td>\n",
       "      <td>1207135026233261 CONTRACT N 001 DD 24.12.2009</td>\n",
       "    </tr>\n",
       "    <tr>\n",
       "      <th>21</th>\n",
       "      <td>2012-07-16</td>\n",
       "      <td>150000.00</td>\n",
       "      <td>MOBILA LLP</td>\n",
       "      <td>METASTAR INVEST LLP</td>\n",
       "      <td>1207165026198353 INVOICE.No 69 DD 13.07.2012</td>\n",
       "    </tr>\n",
       "  </tbody>\n",
       "</table>\n",
       "</div>"
      ],
      "text/plain": [
       "         date  amount_orig                           payer_name  \\\n",
       "0  2012-06-30    535470.00       AZARBAYCAN METANOL KOMPANI MMC   \n",
       "2  2012-07-06     90535.19  SKN ELECTRICAL SERVICES LIMITEDACCO   \n",
       "5  2012-07-13    189352.15                 INMAXO CAPITAL CORP.   \n",
       "6  2012-07-13    225850.00                 INMAXO CAPITAL CORP.   \n",
       "21 2012-07-16    150000.00                           MOBILA LLP   \n",
       "\n",
       "       beneficiary_name                                            purpose  \n",
       "0      LCM ALLIANCE LLP  1206295100052180 OCT4121800021 ADVANCE PAYM FO...  \n",
       "2   METASTAR INVEST LLP                    1207065103089249   /FEE/USD4,81  \n",
       "5   METASTAR INVEST LLP                       CONTRACT N 001 DD 24.12.2009  \n",
       "6   METASTAR INVEST LLP      1207135026233261 CONTRACT N 001 DD 24.12.2009  \n",
       "21  METASTAR INVEST LLP       1207165026198353 INVOICE.No 69 DD 13.07.2012  "
      ]
     },
     "execution_count": 7,
     "metadata": {},
     "output_type": "execute_result"
    }
   ],
   "source": [
    "cols_keep: typing.List[ str ] = [\n",
    "    \"date\",\n",
    "    \"amount_orig\",\n",
    "    \"payer_name\",\n",
    "    \"beneficiary_name\",\n",
    "    \"purpose\",\n",
    "    ]\n",
    "\n",
    "diff: typing.Set[ str ] = set(df_orig.columns) - set(cols_keep)\n",
    "    \n",
    "df: pd.DataFrame = df_orig.drop(\n",
    "    diff,\n",
    "    axis = 1,\n",
    "    inplace = False,\n",
    ").sort_values(by = \"date\").reindex(columns = cols_keep)\n",
    "\n",
    "df = df[df[\"amount_orig\"] >= 0]\n",
    "df.date = pd.to_datetime(df.date)\n",
    "\n",
    "df.head()"
   ]
  },
  {
   "cell_type": "code",
   "execution_count": 8,
   "id": "f3af5540-a8f1-4143-8891-451e387d7b4f",
   "metadata": {
    "execution": {
     "iopub.execute_input": "2025-02-23T00:56:59.522362Z",
     "iopub.status.busy": "2025-02-23T00:56:59.522200Z",
     "iopub.status.idle": "2025-02-23T00:56:59.533631Z",
     "shell.execute_reply": "2025-02-23T00:56:59.533169Z",
     "shell.execute_reply.started": "2025-02-23T00:56:59.522354Z"
    }
   },
   "outputs": [],
   "source": [
    "azeri_file: pathlib.Path = pathlib.Path(\"azeri.csv\")\n",
    "df.to_csv(azeri_file, sep = \"\\t\", encoding = \"utf-8\")"
   ]
  },
  {
   "cell_type": "markdown",
   "id": "285e8463-d41c-4896-85c1-be36f1edf995",
   "metadata": {},
   "source": [
    "## descriptive statistics"
   ]
  },
  {
   "cell_type": "code",
   "execution_count": 9,
   "id": "ba0e121a-e0e2-47d2-bf68-cb5856d7149d",
   "metadata": {
    "execution": {
     "iopub.execute_input": "2025-02-23T00:56:59.534119Z",
     "iopub.status.busy": "2025-02-23T00:56:59.534048Z",
     "iopub.status.idle": "2025-02-23T00:56:59.542126Z",
     "shell.execute_reply": "2025-02-23T00:56:59.541852Z",
     "shell.execute_reply.started": "2025-02-23T00:56:59.534112Z"
    }
   },
   "outputs": [
    {
     "data": {
      "text/html": [
       "<div>\n",
       "<style scoped>\n",
       "    .dataframe tbody tr th:only-of-type {\n",
       "        vertical-align: middle;\n",
       "    }\n",
       "\n",
       "    .dataframe tbody tr th {\n",
       "        vertical-align: top;\n",
       "    }\n",
       "\n",
       "    .dataframe thead th {\n",
       "        text-align: right;\n",
       "    }\n",
       "</style>\n",
       "<table border=\"1\" class=\"dataframe\">\n",
       "  <thead>\n",
       "    <tr style=\"text-align: right;\">\n",
       "      <th></th>\n",
       "      <th>date</th>\n",
       "      <th>amount_orig</th>\n",
       "      <th>payer_name</th>\n",
       "      <th>beneficiary_name</th>\n",
       "      <th>purpose</th>\n",
       "    </tr>\n",
       "  </thead>\n",
       "  <tbody>\n",
       "    <tr>\n",
       "      <th>count</th>\n",
       "      <td>4069</td>\n",
       "      <td>4.069000e+03</td>\n",
       "      <td>4069</td>\n",
       "      <td>4069</td>\n",
       "      <td>4069</td>\n",
       "    </tr>\n",
       "    <tr>\n",
       "      <th>mean</th>\n",
       "      <td>2013-06-24 13:09:11.191939072</td>\n",
       "      <td>7.512028e+05</td>\n",
       "      <td>NaN</td>\n",
       "      <td>NaN</td>\n",
       "      <td>NaN</td>\n",
       "    </tr>\n",
       "    <tr>\n",
       "      <th>min</th>\n",
       "      <td>2012-06-30 00:00:00</td>\n",
       "      <td>6.600000e-01</td>\n",
       "      <td>NaN</td>\n",
       "      <td>NaN</td>\n",
       "      <td>NaN</td>\n",
       "    </tr>\n",
       "    <tr>\n",
       "      <th>max</th>\n",
       "      <td>2014-12-31 00:00:00</td>\n",
       "      <td>2.055997e+07</td>\n",
       "      <td>NaN</td>\n",
       "      <td>NaN</td>\n",
       "      <td>NaN</td>\n",
       "    </tr>\n",
       "    <tr>\n",
       "      <th>std</th>\n",
       "      <td>NaN</td>\n",
       "      <td>1.206048e+06</td>\n",
       "      <td>NaN</td>\n",
       "      <td>NaN</td>\n",
       "      <td>NaN</td>\n",
       "    </tr>\n",
       "    <tr>\n",
       "      <th>freq</th>\n",
       "      <td>NaN</td>\n",
       "      <td>NaN</td>\n",
       "      <td>530</td>\n",
       "      <td>1708</td>\n",
       "      <td>37</td>\n",
       "    </tr>\n",
       "    <tr>\n",
       "      <th>unique</th>\n",
       "      <td>NaN</td>\n",
       "      <td>NaN</td>\n",
       "      <td>437</td>\n",
       "      <td>4</td>\n",
       "      <td>3781</td>\n",
       "    </tr>\n",
       "  </tbody>\n",
       "</table>\n",
       "</div>"
      ],
      "text/plain": [
       "                                 date   amount_orig payer_name  \\\n",
       "count                            4069  4.069000e+03       4069   \n",
       "mean    2013-06-24 13:09:11.191939072  7.512028e+05        NaN   \n",
       "min               2012-06-30 00:00:00  6.600000e-01        NaN   \n",
       "max               2014-12-31 00:00:00  2.055997e+07        NaN   \n",
       "std                               NaN  1.206048e+06        NaN   \n",
       "freq                              NaN           NaN        530   \n",
       "unique                            NaN           NaN        437   \n",
       "\n",
       "       beneficiary_name purpose  \n",
       "count              4069    4069  \n",
       "mean                NaN     NaN  \n",
       "min                 NaN     NaN  \n",
       "max                 NaN     NaN  \n",
       "std                 NaN     NaN  \n",
       "freq               1708      37  \n",
       "unique                4    3781  "
      ]
     },
     "execution_count": 9,
     "metadata": {},
     "output_type": "execute_result"
    }
   ],
   "source": [
    "df.describe(include = \"all\").loc[[ \"count\", \"mean\", \"min\", \"max\", \"std\", \"freq\", \"unique\", ]]"
   ]
  },
  {
   "cell_type": "markdown",
   "id": "ae0ce45c-ee39-41ae-b41b-7125f344146a",
   "metadata": {},
   "source": [
    "## network visualization"
   ]
  },
  {
   "cell_type": "code",
   "execution_count": 10,
   "id": "0c2b45a1-ca50-4658-b461-9be9e3a3da9f",
   "metadata": {
    "execution": {
     "iopub.execute_input": "2025-02-23T00:56:59.542728Z",
     "iopub.status.busy": "2025-02-23T00:56:59.542580Z",
     "iopub.status.idle": "2025-02-23T00:56:59.550933Z",
     "shell.execute_reply": "2025-02-23T00:56:59.550674Z",
     "shell.execute_reply.started": "2025-02-23T00:56:59.542718Z"
    }
   },
   "outputs": [],
   "source": [
    "graph: nx.DiGraph = nx.DiGraph()\n",
    "\n",
    "net: pyvis.network.Network = pyvis.network.Network(\n",
    "    notebook = True,\n",
    "    cdn_resources = \"in_line\",\n",
    "    height = \"900px\", \n",
    "    width = \"100%\",\n",
    ")\n",
    "\n",
    "edge_xact: dict = defaultdict(list)"
   ]
  },
  {
   "cell_type": "code",
   "execution_count": 11,
   "id": "0df20808-a6f1-4d8d-af88-3bf22d45a1c6",
   "metadata": {
    "execution": {
     "iopub.execute_input": "2025-02-23T00:56:59.551351Z",
     "iopub.status.busy": "2025-02-23T00:56:59.551274Z",
     "iopub.status.idle": "2025-02-23T00:56:59.553703Z",
     "shell.execute_reply": "2025-02-23T00:56:59.553486Z",
     "shell.execute_reply.started": "2025-02-23T00:56:59.551344Z"
    }
   },
   "outputs": [],
   "source": [
    "def render_graph (\n",
    "    graph: nx.DiGraph,\n",
    "    ) -> pyvis.network.Network:\n",
    "    \"\"\"\n",
    "    Generate a `PyVis` network visualization from the DiGraph\n",
    "    \"\"\"\n",
    "    net: pyvis.network.Network = pyvis.network.Network(\n",
    "        notebook = True,\n",
    "        cdn_resources = \"in_line\",\n",
    "        height = \"900px\", \n",
    "        width = \"100%\",\n",
    "    )\n",
    "\n",
    "    # calculate the _betweenness centrality_ measures for each country\n",
    "    for node_id, rank in nx.betweenness_centrality(graph, weight = \"weight\").items():\n",
    "        graph.nodes[node_id][\"value\"] = rank\n",
    "    \n",
    "    # load the network and adjust attributes for visualization\n",
    "    net.from_nx(graph)\n",
    "\n",
    "    for node in net.nodes:\n",
    "        node[\"label\"] = node[\"name\"]\n",
    "        node[\"title\"] = node[\"name\"]\n",
    "        node[\"color\"] = \"#BDC561\"\n",
    "\n",
    "    for edge in net.edges:\n",
    "        #edge[\"value\"] = edge[\"width\"]\n",
    "        pass\n",
    "\n",
    "    return net"
   ]
  },
  {
   "cell_type": "markdown",
   "id": "334867d5-2dc2-44b4-9eff-025e4c2e8a47",
   "metadata": {},
   "source": [
    "construct graphs both in `NetworkX` for analysis and `PyVis` for visualization"
   ]
  },
  {
   "cell_type": "code",
   "execution_count": 12,
   "id": "228420d8-9aad-49d4-a88a-42f978b9698d",
   "metadata": {
    "execution": {
     "iopub.execute_input": "2025-02-23T00:56:59.554110Z",
     "iopub.status.busy": "2025-02-23T00:56:59.554021Z",
     "iopub.status.idle": "2025-02-23T00:56:59.629729Z",
     "shell.execute_reply": "2025-02-23T00:56:59.629414Z",
     "shell.execute_reply.started": "2025-02-23T00:56:59.554103Z"
    }
   },
   "outputs": [],
   "source": [
    "node_names: list = []\n",
    "\n",
    "for index, row in df.iterrows():\n",
    "    src_label: str = row[\"payer_name\"]\n",
    "    dst_label: str = row[\"beneficiary_name\"]\n",
    "\n",
    "    if src_label not in node_names:\n",
    "        node_names.append(src_label)\n",
    "        src_id: int = node_names.index(src_label)\n",
    "\n",
    "        graph.add_node(\n",
    "            src_id,\n",
    "            name = src_label,\n",
    "        )            \n",
    "    else:\n",
    "        src_id = node_names.index(src_label)\n",
    "\n",
    "\n",
    "    if dst_label not in node_names:\n",
    "        node_names.append(dst_label)\n",
    "        dst_id: int = node_names.index(dst_label)\n",
    "\n",
    "        graph.add_node(\n",
    "            dst_id,\n",
    "            name = dst_label,\n",
    "        )\n",
    "    else:\n",
    "        dst_id = node_names.index(dst_label)\n",
    "\n",
    "    graph.add_edge(\n",
    "        src_id,\n",
    "        dst_id,\n",
    "    )\n",
    "\n",
    "    edge_xact[ (src_id, dst_id) ].append({\n",
    "        \"amount\": row[\"amount_orig\"],\n",
    "        \"date\": datetime.fromisoformat(str(row[\"date\"])),\n",
    "    })    "
   ]
  },
  {
   "cell_type": "markdown",
   "id": "d6143c26-da3f-4bd0-9e3a-866e9fe09104",
   "metadata": {},
   "source": [
    "visualize the network of shell corps involved"
   ]
  },
  {
   "cell_type": "code",
   "execution_count": 13,
   "id": "f0ad2d29-411c-49fe-94d1-68118807194b",
   "metadata": {
    "execution": {
     "iopub.execute_input": "2025-02-23T00:56:59.630266Z",
     "iopub.status.busy": "2025-02-23T00:56:59.630167Z",
     "iopub.status.idle": "2025-02-23T00:56:59.698958Z",
     "shell.execute_reply": "2025-02-23T00:56:59.698485Z",
     "shell.execute_reply.started": "2025-02-23T00:56:59.630256Z"
    }
   },
   "outputs": [
    {
     "name": "stdout",
     "output_type": "stream",
     "text": [
      "occrp.html\n"
     ]
    },
    {
     "data": {
      "text/html": [
       "\n",
       "        <iframe\n",
       "            width=\"100%\"\n",
       "            height=\"900px\"\n",
       "            src=\"occrp.html\"\n",
       "            frameborder=\"0\"\n",
       "            allowfullscreen\n",
       "            \n",
       "        ></iframe>\n",
       "        "
      ],
      "text/plain": [
       "<IPython.lib.display.IFrame at 0x11c31aa50>"
      ]
     },
     "execution_count": 13,
     "metadata": {},
     "output_type": "execute_result"
    }
   ],
   "source": [
    "net: pyvis.network.Network = render_graph(graph)\n",
    "\n",
    "net.force_atlas_2based()\n",
    "net.show_buttons(filter_ = [\"physics\"])\n",
    "\n",
    "#net.toggle_physics(False)\n",
    "net.show(\"occrp.html\")"
   ]
  },
  {
   "cell_type": "markdown",
   "id": "a3b14286-f1c0-4895-97d0-fcd0fc85272e",
   "metadata": {},
   "source": [
    "## inter-arrival modeling"
   ]
  },
  {
   "cell_type": "markdown",
   "id": "c3a68ea6-6ef5-46a7-a4ce-f2fee601ce65",
   "metadata": {},
   "source": [
    "describe the distributions of transaction inter-arrival times and amounts"
   ]
  },
  {
   "cell_type": "code",
   "execution_count": 14,
   "id": "b7222874-cf87-4e1f-abda-a2e70531aebf",
   "metadata": {
    "execution": {
     "iopub.execute_input": "2025-02-23T00:56:59.699863Z",
     "iopub.status.busy": "2025-02-23T00:56:59.699602Z",
     "iopub.status.idle": "2025-02-23T00:56:59.707374Z",
     "shell.execute_reply": "2025-02-23T00:56:59.707079Z",
     "shell.execute_reply.started": "2025-02-23T00:56:59.699852Z"
    },
    "scrolled": true
   },
   "outputs": [
    {
     "data": {
      "text/html": [
       "<div>\n",
       "<style scoped>\n",
       "    .dataframe tbody tr th:only-of-type {\n",
       "        vertical-align: middle;\n",
       "    }\n",
       "\n",
       "    .dataframe tbody tr th {\n",
       "        vertical-align: top;\n",
       "    }\n",
       "\n",
       "    .dataframe thead th {\n",
       "        text-align: right;\n",
       "    }\n",
       "</style>\n",
       "<table border=\"1\" class=\"dataframe\">\n",
       "  <thead>\n",
       "    <tr style=\"text-align: right;\">\n",
       "      <th></th>\n",
       "      <th>src_id</th>\n",
       "      <th>dst_id</th>\n",
       "      <th>median_amount</th>\n",
       "      <th>total_amount</th>\n",
       "      <th>inter_arrival</th>\n",
       "    </tr>\n",
       "  </thead>\n",
       "  <tbody>\n",
       "    <tr>\n",
       "      <th>0</th>\n",
       "      <td>0</td>\n",
       "      <td>1</td>\n",
       "      <td>109510.00</td>\n",
       "      <td>1511916.50</td>\n",
       "      <td>39.750000</td>\n",
       "    </tr>\n",
       "    <tr>\n",
       "      <th>1</th>\n",
       "      <td>2</td>\n",
       "      <td>3</td>\n",
       "      <td>10101.00</td>\n",
       "      <td>110063.19</td>\n",
       "      <td>59.500000</td>\n",
       "    </tr>\n",
       "    <tr>\n",
       "      <th>2</th>\n",
       "      <td>4</td>\n",
       "      <td>3</td>\n",
       "      <td>189352.15</td>\n",
       "      <td>415231.08</td>\n",
       "      <td>1.500000</td>\n",
       "    </tr>\n",
       "    <tr>\n",
       "      <th>3</th>\n",
       "      <td>5</td>\n",
       "      <td>3</td>\n",
       "      <td>300000.00</td>\n",
       "      <td>4729714.00</td>\n",
       "      <td>1.916667</td>\n",
       "    </tr>\n",
       "    <tr>\n",
       "      <th>4</th>\n",
       "      <td>6</td>\n",
       "      <td>3</td>\n",
       "      <td>50000.00</td>\n",
       "      <td>12747647.00</td>\n",
       "      <td>3.629310</td>\n",
       "    </tr>\n",
       "  </tbody>\n",
       "</table>\n",
       "</div>"
      ],
      "text/plain": [
       "   src_id  dst_id  median_amount  total_amount  inter_arrival\n",
       "0       0       1      109510.00    1511916.50      39.750000\n",
       "1       2       3       10101.00     110063.19      59.500000\n",
       "2       4       3      189352.15     415231.08       1.500000\n",
       "3       5       3      300000.00    4729714.00       1.916667\n",
       "4       6       3       50000.00   12747647.00       3.629310"
      ]
     },
     "execution_count": 14,
     "metadata": {},
     "output_type": "execute_result"
    }
   ],
   "source": [
    "summary_data: list = []\n",
    "\n",
    "for edge, dat in edge_xact.items():\n",
    "    if len(dat) > 1:\n",
    "        dates: list = sorted([\n",
    "            xact[\"date\"]\n",
    "            for xact in dat\n",
    "        ], reverse = False)\n",
    "\n",
    "        inter_arrival: list = [\n",
    "            (pair[1] - pair[0]).days\n",
    "            for pair in itertools.pairwise(dates)\n",
    "        ]\n",
    "\n",
    "        amounts: list = [\n",
    "            xact[\"amount\"]\n",
    "            for xact in dat\n",
    "        ]\n",
    "\n",
    "        summary_data.append({\n",
    "            \"src_id\": edge[0],\n",
    "            \"dst_id\": edge[1],\n",
    "            \"median_amount\": statistics.median(amounts),\n",
    "            \"total_amount\": sum(amounts),\n",
    "            \"inter_arrival\": statistics.mean(inter_arrival),\n",
    "        })\n",
    "\n",
    "df_summary: pd.DataFrame = pd.DataFrame.from_dict(\n",
    "    summary_data,\n",
    "    orient = \"columns\"\n",
    ")\n",
    "\n",
    "df_summary.head()"
   ]
  },
  {
   "cell_type": "code",
   "execution_count": 15,
   "id": "5c9b347e-2f18-4f59-b882-7d119e0f6bcf",
   "metadata": {
    "execution": {
     "iopub.execute_input": "2025-02-23T00:56:59.707767Z",
     "iopub.status.busy": "2025-02-23T00:56:59.707688Z",
     "iopub.status.idle": "2025-02-23T00:56:59.714646Z",
     "shell.execute_reply": "2025-02-23T00:56:59.714372Z",
     "shell.execute_reply.started": "2025-02-23T00:56:59.707760Z"
    }
   },
   "outputs": [
    {
     "data": {
      "text/html": [
       "<div>\n",
       "<style scoped>\n",
       "    .dataframe tbody tr th:only-of-type {\n",
       "        vertical-align: middle;\n",
       "    }\n",
       "\n",
       "    .dataframe tbody tr th {\n",
       "        vertical-align: top;\n",
       "    }\n",
       "\n",
       "    .dataframe thead th {\n",
       "        text-align: right;\n",
       "    }\n",
       "</style>\n",
       "<table border=\"1\" class=\"dataframe\">\n",
       "  <thead>\n",
       "    <tr style=\"text-align: right;\">\n",
       "      <th></th>\n",
       "      <th>src_id</th>\n",
       "      <th>dst_id</th>\n",
       "      <th>median_amount</th>\n",
       "      <th>total_amount</th>\n",
       "      <th>inter_arrival</th>\n",
       "    </tr>\n",
       "  </thead>\n",
       "  <tbody>\n",
       "    <tr>\n",
       "      <th>count</th>\n",
       "      <td>252.000000</td>\n",
       "      <td>252.000000</td>\n",
       "      <td>2.520000e+02</td>\n",
       "      <td>2.520000e+02</td>\n",
       "      <td>252.000000</td>\n",
       "    </tr>\n",
       "    <tr>\n",
       "      <th>mean</th>\n",
       "      <td>173.626984</td>\n",
       "      <td>40.829365</td>\n",
       "      <td>3.798608e+05</td>\n",
       "      <td>1.161657e+07</td>\n",
       "      <td>21.156845</td>\n",
       "    </tr>\n",
       "    <tr>\n",
       "      <th>std</th>\n",
       "      <td>126.250130</td>\n",
       "      <td>101.164882</td>\n",
       "      <td>5.301957e+05</td>\n",
       "      <td>8.014517e+07</td>\n",
       "      <td>32.745006</td>\n",
       "    </tr>\n",
       "    <tr>\n",
       "      <th>min</th>\n",
       "      <td>0.000000</td>\n",
       "      <td>1.000000</td>\n",
       "      <td>1.100000e+02</td>\n",
       "      <td>2.200000e+02</td>\n",
       "      <td>0.000000</td>\n",
       "    </tr>\n",
       "    <tr>\n",
       "      <th>25%</th>\n",
       "      <td>64.750000</td>\n",
       "      <td>1.000000</td>\n",
       "      <td>6.717762e+04</td>\n",
       "      <td>3.476025e+05</td>\n",
       "      <td>3.000000</td>\n",
       "    </tr>\n",
       "    <tr>\n",
       "      <th>50%</th>\n",
       "      <td>157.500000</td>\n",
       "      <td>1.000000</td>\n",
       "      <td>1.963890e+05</td>\n",
       "      <td>1.408894e+06</td>\n",
       "      <td>8.708333</td>\n",
       "    </tr>\n",
       "    <tr>\n",
       "      <th>75%</th>\n",
       "      <td>268.000000</td>\n",
       "      <td>3.000000</td>\n",
       "      <td>4.762237e+05</td>\n",
       "      <td>4.850007e+06</td>\n",
       "      <td>25.569444</td>\n",
       "    </tr>\n",
       "    <tr>\n",
       "      <th>max</th>\n",
       "      <td>433.000000</td>\n",
       "      <td>302.000000</td>\n",
       "      <td>4.000000e+06</td>\n",
       "      <td>1.239991e+09</td>\n",
       "      <td>211.000000</td>\n",
       "    </tr>\n",
       "  </tbody>\n",
       "</table>\n",
       "</div>"
      ],
      "text/plain": [
       "           src_id      dst_id  median_amount  total_amount  inter_arrival\n",
       "count  252.000000  252.000000   2.520000e+02  2.520000e+02     252.000000\n",
       "mean   173.626984   40.829365   3.798608e+05  1.161657e+07      21.156845\n",
       "std    126.250130  101.164882   5.301957e+05  8.014517e+07      32.745006\n",
       "min      0.000000    1.000000   1.100000e+02  2.200000e+02       0.000000\n",
       "25%     64.750000    1.000000   6.717762e+04  3.476025e+05       3.000000\n",
       "50%    157.500000    1.000000   1.963890e+05  1.408894e+06       8.708333\n",
       "75%    268.000000    3.000000   4.762237e+05  4.850007e+06      25.569444\n",
       "max    433.000000  302.000000   4.000000e+06  1.239991e+09     211.000000"
      ]
     },
     "execution_count": 15,
     "metadata": {},
     "output_type": "execute_result"
    }
   ],
   "source": [
    "df_summary.describe()"
   ]
  },
  {
   "cell_type": "code",
   "execution_count": 16,
   "id": "2927a9c0-77f9-4d83-8f5a-127215b6fc79",
   "metadata": {
    "execution": {
     "iopub.execute_input": "2025-02-23T00:56:59.715235Z",
     "iopub.status.busy": "2025-02-23T00:56:59.715134Z",
     "iopub.status.idle": "2025-02-23T00:56:59.720160Z",
     "shell.execute_reply": "2025-02-23T00:56:59.719827Z",
     "shell.execute_reply.started": "2025-02-23T00:56:59.715225Z"
    }
   },
   "outputs": [],
   "source": [
    "for index, row in df_summary.iterrows():\n",
    "    src_id: int = row[\"src_id\"]\n",
    "    dst_id: int = row[\"dst_id\"]\n",
    "    total: float = float(row[\"total_amount\"])\n",
    "\n",
    "    if \"total\" not in graph.nodes[src_id]:\n",
    "        graph.nodes[src_id][\"total\"] = total\n",
    "    else:\n",
    "        graph.nodes[src_id][\"total\"] = total\n",
    "\n",
    "    if \"total\" not in graph.nodes[dst_id]:\n",
    "        graph.nodes[dst_id][\"total\"] = total\n",
    "    else:\n",
    "        graph.nodes[dst_id][\"total\"] = total"
   ]
  },
  {
   "cell_type": "markdown",
   "id": "0e360787-8af8-423f-b9ea-07929026e00c",
   "metadata": {},
   "source": [
    "## simple graph analytics"
   ]
  },
  {
   "cell_type": "markdown",
   "id": "8e5d12b2-18f7-4aca-8e76-88b082f8cf54",
   "metadata": {},
   "source": [
    "now we have some descriptive stats to use for modeling a simulation of these kinds of transactions; let's look into other potential parameters for simulation, based on graph analytics"
   ]
  },
  {
   "cell_type": "code",
   "execution_count": 17,
   "id": "eab0c463-1e86-4a15-9662-af5213a27828",
   "metadata": {
    "execution": {
     "iopub.execute_input": "2025-02-23T00:56:59.720628Z",
     "iopub.status.busy": "2025-02-23T00:56:59.720556Z",
     "iopub.status.idle": "2025-02-23T00:56:59.750909Z",
     "shell.execute_reply": "2025-02-23T00:56:59.750656Z",
     "shell.execute_reply.started": "2025-02-23T00:56:59.720621Z"
    },
    "scrolled": true
   },
   "outputs": [
    {
     "data": {
      "text/plain": [
       "4"
      ]
     },
     "execution_count": 17,
     "metadata": {},
     "output_type": "execute_result"
    }
   ],
   "source": [
    "nx.diameter(graph.to_undirected())"
   ]
  },
  {
   "cell_type": "code",
   "execution_count": 18,
   "id": "ea3950d5-853f-4f61-9a61-654941d2f5ef",
   "metadata": {
    "execution": {
     "iopub.execute_input": "2025-02-23T00:56:59.751387Z",
     "iopub.status.busy": "2025-02-23T00:56:59.751285Z",
     "iopub.status.idle": "2025-02-23T00:56:59.753469Z",
     "shell.execute_reply": "2025-02-23T00:56:59.753269Z",
     "shell.execute_reply.started": "2025-02-23T00:56:59.751378Z"
    }
   },
   "outputs": [
    {
     "data": {
      "text/plain": [
       "0.0025297587806772616"
      ]
     },
     "execution_count": 18,
     "metadata": {},
     "output_type": "execute_result"
    }
   ],
   "source": [
    "nx.density(graph)"
   ]
  },
  {
   "cell_type": "code",
   "execution_count": 19,
   "id": "a5939b30-6a60-43fb-8827-ae6abb608c6d",
   "metadata": {
    "execution": {
     "iopub.execute_input": "2025-02-23T00:56:59.754029Z",
     "iopub.status.busy": "2025-02-23T00:56:59.753939Z",
     "iopub.status.idle": "2025-02-23T00:56:59.756055Z",
     "shell.execute_reply": "2025-02-23T00:56:59.755849Z",
     "shell.execute_reply.started": "2025-02-23T00:56:59.754021Z"
    }
   },
   "outputs": [
    {
     "data": {
      "text/plain": [
       "273"
      ]
     },
     "execution_count": 19,
     "metadata": {},
     "output_type": "execute_result"
    }
   ],
   "source": [
    "node_degree: typing.List[ int ] = dict(nx.degree(graph)).values()\n",
    "max(node_degree)"
   ]
  },
  {
   "cell_type": "code",
   "execution_count": 20,
   "id": "4dfdc232-c581-48a4-84bd-a57bf09b226e",
   "metadata": {
    "execution": {
     "iopub.execute_input": "2025-02-23T00:56:59.756493Z",
     "iopub.status.busy": "2025-02-23T00:56:59.756415Z",
     "iopub.status.idle": "2025-02-23T00:56:59.758859Z",
     "shell.execute_reply": "2025-02-23T00:56:59.758623Z",
     "shell.execute_reply.started": "2025-02-23T00:56:59.756482Z"
    }
   },
   "outputs": [
    {
     "name": "stdout",
     "output_type": "stream",
     "text": [
      "  1 273 {'name': 'LCM ALLIANCE LLP', 'value': 0.001608140883686597, 'size': 10, 'total': 2512626.28, 'degree': 273}\n",
      "  3 134 {'name': 'METASTAR INVEST LLP', 'value': 0.0005457133818411895, 'size': 10, 'total': 147406.0, 'degree': 134}\n",
      "302  61 {'name': 'HILUX SERVICES LP', 'value': 0.0007487082146999895, 'size': 10, 'total': 30048.31, 'degree': 61}\n",
      "298  20 {'name': 'POLUX MANAGEMENT LP', 'value': 0.0006880733944954129, 'size': 10, 'total': 50064.89, 'degree': 20}\n",
      " 17   4 {'name': 'GLOBECOM TRADE L.P', 'value': 0.0, 'size': 10, 'total': 3105000.0, 'degree': 4}\n",
      " 66   4 {'name': 'RIVERLANE LLP', 'value': 0.0, 'size': 10, 'total': 5104981.0, 'degree': 4}\n",
      "  7   3 {'name': 'DANSKE BANK A/S EESTI FILIAAL', 'value': 0.0, 'size': 10, 'total': 50000.0, 'degree': 3}\n",
      " 11   3 {'name': 'DEUTDEFFXXX', 'value': 0.0, 'size': 10, 'total': 1565793.0, 'degree': 3}\n",
      "107   3 {'name': 'WILLROCK UNITED LLP', 'value': 0.0, 'size': 10, 'total': 4800000.0, 'degree': 3}\n",
      "170   3 {'name': 'MOLONEY TRADE LLP', 'value': 0.0, 'size': 10, 'total': 15478265.0, 'degree': 3}\n",
      "375   3 {'name': 'REDPARK SALES CORP', 'value': 0.0, 'size': 10, 'total': 211870.0, 'degree': 3}\n"
     ]
    }
   ],
   "source": [
    "for node_id, degree in sorted(nx.degree(graph), key = lambda x: x[1], reverse = True):\n",
    "    graph.nodes[node_id][\"degree\"] = degree\n",
    "\n",
    "    if degree >= 3:\n",
    "        print(f\"{node_id:3} {degree:3}\", graph.nodes[node_id])"
   ]
  },
  {
   "cell_type": "code",
   "execution_count": 21,
   "id": "6d1e4407-fd7c-4826-81b3-70896b30fb5c",
   "metadata": {
    "execution": {
     "iopub.execute_input": "2025-02-23T00:56:59.761902Z",
     "iopub.status.busy": "2025-02-23T00:56:59.761774Z",
     "iopub.status.idle": "2025-02-23T00:56:59.897470Z",
     "shell.execute_reply": "2025-02-23T00:56:59.897202Z",
     "shell.execute_reply.started": "2025-02-23T00:56:59.761894Z"
    }
   },
   "outputs": [
    {
     "data": {
      "image/png": "[encoded data removed]",
      "text/plain": [
       "<Figure size 500x200 with 1 Axes>"
      ]
     },
     "metadata": {},
     "output_type": "display_data"
    }
   ],
   "source": [
    "fig, ax = plt.subplots(figsize = (5, 2))\n",
    "plt.rcParams[\"font.family\"] = \"sans-serif\"\n",
    "\n",
    "y = sns.histplot(node_degree)\n",
    "y.tick_params(axis = \"y\", size = 9, colors = \"gray\")\n",
    "y.bar_label(y.containers[0], padding = 3, color = \"gray\", fontsize = 7)\n",
    "\n",
    "plt.xlabel(\"node degree\", size = 10, fontstyle = \"italic\")\n",
    "plt.ylabel(\"count\", size = 10, fontstyle = \"italic\")\n",
    "\n",
    "sns.despine(bottom = True, left = True)\n",
    "plt.yscale(\"log\")\n",
    "\n",
    "plt.legend([], [], frameon = False);"
   ]
  },
  {
   "cell_type": "code",
   "execution_count": 22,
   "id": "d39521cd-8b73-453e-a15f-0a0319995595",
   "metadata": {
    "execution": {
     "iopub.execute_input": "2025-02-23T00:56:59.897987Z",
     "iopub.status.busy": "2025-02-23T00:56:59.897895Z",
     "iopub.status.idle": "2025-02-23T00:56:59.903096Z",
     "shell.execute_reply": "2025-02-23T00:56:59.902694Z",
     "shell.execute_reply.started": "2025-02-23T00:56:59.897974Z"
    }
   },
   "outputs": [
    {
     "data": {
      "text/html": [
       "<div>\n",
       "<style scoped>\n",
       "    .dataframe tbody tr th:only-of-type {\n",
       "        vertical-align: middle;\n",
       "    }\n",
       "\n",
       "    .dataframe tbody tr th {\n",
       "        vertical-align: top;\n",
       "    }\n",
       "\n",
       "    .dataframe thead th {\n",
       "        text-align: right;\n",
       "    }\n",
       "</style>\n",
       "<table border=\"1\" class=\"dataframe\">\n",
       "  <thead>\n",
       "    <tr style=\"text-align: right;\">\n",
       "      <th></th>\n",
       "      <th>name</th>\n",
       "      <th>value</th>\n",
       "      <th>size</th>\n",
       "      <th>total</th>\n",
       "      <th>degree</th>\n",
       "    </tr>\n",
       "  </thead>\n",
       "  <tbody>\n",
       "    <tr>\n",
       "      <th>0</th>\n",
       "      <td>AZARBAYCAN METANOL KOMPANI MMC</td>\n",
       "      <td>0.000000</td>\n",
       "      <td>10</td>\n",
       "      <td>1511916.50</td>\n",
       "      <td>1</td>\n",
       "    </tr>\n",
       "    <tr>\n",
       "      <th>1</th>\n",
       "      <td>LCM ALLIANCE LLP</td>\n",
       "      <td>0.001608</td>\n",
       "      <td>10</td>\n",
       "      <td>2512626.28</td>\n",
       "      <td>273</td>\n",
       "    </tr>\n",
       "    <tr>\n",
       "      <th>2</th>\n",
       "      <td>SKN ELECTRICAL SERVICES LIMITEDACCO</td>\n",
       "      <td>0.000000</td>\n",
       "      <td>10</td>\n",
       "      <td>110063.19</td>\n",
       "      <td>1</td>\n",
       "    </tr>\n",
       "    <tr>\n",
       "      <th>3</th>\n",
       "      <td>METASTAR INVEST LLP</td>\n",
       "      <td>0.000546</td>\n",
       "      <td>10</td>\n",
       "      <td>147406.00</td>\n",
       "      <td>134</td>\n",
       "    </tr>\n",
       "    <tr>\n",
       "      <th>4</th>\n",
       "      <td>INMAXO CAPITAL CORP.</td>\n",
       "      <td>0.000000</td>\n",
       "      <td>10</td>\n",
       "      <td>415231.08</td>\n",
       "      <td>1</td>\n",
       "    </tr>\n",
       "  </tbody>\n",
       "</table>\n",
       "</div>"
      ],
      "text/plain": [
       "                                  name     value  size       total  degree\n",
       "0       AZARBAYCAN METANOL KOMPANI MMC  0.000000    10  1511916.50       1\n",
       "1                     LCM ALLIANCE LLP  0.001608    10  2512626.28     273\n",
       "2  SKN ELECTRICAL SERVICES LIMITEDACCO  0.000000    10   110063.19       1\n",
       "3                  METASTAR INVEST LLP  0.000546    10   147406.00     134\n",
       "4                 INMAXO CAPITAL CORP.  0.000000    10   415231.08       1"
      ]
     },
     "execution_count": 22,
     "metadata": {},
     "output_type": "execute_result"
    }
   ],
   "source": [
    "nodes_dat: typing.List[ dict ] = [\n",
    "    dat\n",
    "    for _, dat in graph.nodes(data = True)\n",
    "]\n",
    "\n",
    "df_nodes: pd.DataFrame = pd.DataFrame.from_dict(\n",
    "    nodes_dat,\n",
    "    orient = \"columns\"\n",
    ")\n",
    "\n",
    "df_nodes.head()"
   ]
  },
  {
   "cell_type": "code",
   "execution_count": 23,
   "id": "cf366c8a-7875-41e7-8794-c793a0056ee6",
   "metadata": {
    "execution": {
     "iopub.execute_input": "2025-02-23T00:56:59.903754Z",
     "iopub.status.busy": "2025-02-23T00:56:59.903627Z",
     "iopub.status.idle": "2025-02-23T00:56:59.910449Z",
     "shell.execute_reply": "2025-02-23T00:56:59.910180Z",
     "shell.execute_reply.started": "2025-02-23T00:56:59.903745Z"
    }
   },
   "outputs": [
    {
     "data": {
      "text/html": [
       "<div>\n",
       "<style scoped>\n",
       "    .dataframe tbody tr th:only-of-type {\n",
       "        vertical-align: middle;\n",
       "    }\n",
       "\n",
       "    .dataframe tbody tr th {\n",
       "        vertical-align: top;\n",
       "    }\n",
       "\n",
       "    .dataframe thead th {\n",
       "        text-align: right;\n",
       "    }\n",
       "</style>\n",
       "<table border=\"1\" class=\"dataframe\">\n",
       "  <thead>\n",
       "    <tr style=\"text-align: right;\">\n",
       "      <th></th>\n",
       "      <th>value</th>\n",
       "      <th>size</th>\n",
       "      <th>total</th>\n",
       "      <th>degree</th>\n",
       "    </tr>\n",
       "  </thead>\n",
       "  <tbody>\n",
       "    <tr>\n",
       "      <th>count</th>\n",
       "      <td>437.000000</td>\n",
       "      <td>437.0</td>\n",
       "      <td>2.220000e+02</td>\n",
       "      <td>437.000000</td>\n",
       "    </tr>\n",
       "    <tr>\n",
       "      <th>mean</th>\n",
       "      <td>0.000008</td>\n",
       "      <td>10.0</td>\n",
       "      <td>9.382241e+06</td>\n",
       "      <td>2.205950</td>\n",
       "    </tr>\n",
       "    <tr>\n",
       "      <th>std</th>\n",
       "      <td>0.000094</td>\n",
       "      <td>0.0</td>\n",
       "      <td>8.327978e+07</td>\n",
       "      <td>14.766024</td>\n",
       "    </tr>\n",
       "    <tr>\n",
       "      <th>min</th>\n",
       "      <td>0.000000</td>\n",
       "      <td>10.0</td>\n",
       "      <td>2.200000e+02</td>\n",
       "      <td>1.000000</td>\n",
       "    </tr>\n",
       "    <tr>\n",
       "      <th>25%</th>\n",
       "      <td>0.000000</td>\n",
       "      <td>10.0</td>\n",
       "      <td>2.822512e+05</td>\n",
       "      <td>1.000000</td>\n",
       "    </tr>\n",
       "    <tr>\n",
       "      <th>50%</th>\n",
       "      <td>0.000000</td>\n",
       "      <td>10.0</td>\n",
       "      <td>1.005158e+06</td>\n",
       "      <td>1.000000</td>\n",
       "    </tr>\n",
       "    <tr>\n",
       "      <th>75%</th>\n",
       "      <td>0.000000</td>\n",
       "      <td>10.0</td>\n",
       "      <td>3.501175e+06</td>\n",
       "      <td>1.000000</td>\n",
       "    </tr>\n",
       "    <tr>\n",
       "      <th>max</th>\n",
       "      <td>0.001608</td>\n",
       "      <td>10.0</td>\n",
       "      <td>1.239991e+09</td>\n",
       "      <td>273.000000</td>\n",
       "    </tr>\n",
       "  </tbody>\n",
       "</table>\n",
       "</div>"
      ],
      "text/plain": [
       "            value   size         total      degree\n",
       "count  437.000000  437.0  2.220000e+02  437.000000\n",
       "mean     0.000008   10.0  9.382241e+06    2.205950\n",
       "std      0.000094    0.0  8.327978e+07   14.766024\n",
       "min      0.000000   10.0  2.200000e+02    1.000000\n",
       "25%      0.000000   10.0  2.822512e+05    1.000000\n",
       "50%      0.000000   10.0  1.005158e+06    1.000000\n",
       "75%      0.000000   10.0  3.501175e+06    1.000000\n",
       "max      0.001608   10.0  1.239991e+09  273.000000"
      ]
     },
     "execution_count": 23,
     "metadata": {},
     "output_type": "execute_result"
    }
   ],
   "source": [
    "df_nodes.describe()"
   ]
  },
  {
   "cell_type": "code",
   "execution_count": 24,
   "id": "0602912a-faf6-455c-aeb4-0abc4974cc54",
   "metadata": {
    "execution": {
     "iopub.execute_input": "2025-02-23T00:56:59.910906Z",
     "iopub.status.busy": "2025-02-23T00:56:59.910832Z",
     "iopub.status.idle": "2025-02-23T00:57:00.042772Z",
     "shell.execute_reply": "2025-02-23T00:57:00.042493Z",
     "shell.execute_reply.started": "2025-02-23T00:56:59.910898Z"
    }
   },
   "outputs": [
    {
     "data": {
      "image/png": "[encoded data removed]",
      "text/plain": [
       "<Figure size 640x480 with 1 Axes>"
      ]
     },
     "metadata": {},
     "output_type": "display_data"
    }
   ],
   "source": [
    "x: list = df_nodes[\"degree\"].to_list()\n",
    "y: list = df_nodes[\"total\"].to_list()\n",
    "labels: list = df_nodes[\"name\"].to_list()\n",
    "\n",
    "sns.scatterplot(data = df_nodes, x = \"degree\", y = \"total\")\n",
    "\n",
    "plt.yscale(\"log\")\n",
    "plt.xscale(\"log\")\n",
    "\n",
    "for i, label in enumerate(labels):\n",
    "    if x[i] > 2:\n",
    "        plt.annotate(label, (x[i], y[i]), alpha = 0.3, fontsize = 7)\n",
    "\n",
    "plt.show()"
   ]
  },
  {
   "cell_type": "markdown",
   "id": "ad7a9996-2be1-43b8-a23d-8bc84368fc49",
   "metadata": {},
   "source": [
    "insights:\n",
    "  * a sparse graph\n",
    "  * not wide, diameter = 4\n",
    "  * power law distribution on node degree"
   ]
  },
  {
   "cell_type": "markdown",
   "id": "07686732-0a93-47de-9f98-1f1277489030",
   "metadata": {},
   "source": [
    "## components and paths"
   ]
  },
  {
   "cell_type": "code",
   "execution_count": 25,
   "id": "04eccdd0-ca3f-413a-8d14-737726c8f431",
   "metadata": {
    "execution": {
     "iopub.execute_input": "2025-02-23T00:57:00.043268Z",
     "iopub.status.busy": "2025-02-23T00:57:00.043191Z",
     "iopub.status.idle": "2025-02-23T00:57:00.047268Z",
     "shell.execute_reply": "2025-02-23T00:57:00.047032Z",
     "shell.execute_reply.started": "2025-02-23T00:57:00.043261Z"
    }
   },
   "outputs": [
    {
     "name": "stdout",
     "output_type": "stream",
     "text": [
      "{0, 1, 2, 3, 4, 5, 6, 7, 8, 9, 10, 11, 12, 13, 14, 15, 16, 17, 18, 19, 20, 21, 22, 23, 24, 25, 26, 27, 28, 29, 30, 31, 32, 33, 34, 35, 36, 37, 38, 39, 40, 41, 42, 43, 44, 45, 46, 47, 48, 49, 50, 51, 52, 53, 54, 55, 56, 57, 58, 59, 60, 61, 62, 63, 64, 65, 66, 67, 68, 69, 70, 71, 72, 73, 74, 75, 76, 77, 78, 79, 80, 81, 82, 83, 84, 85, 86, 87, 88, 89, 90, 91, 92, 93, 94, 95, 96, 97, 98, 99, 100, 101, 102, 103, 104, 105, 106, 107, 108, 109, 110, 111, 112, 113, 114, 115, 116, 117, 118, 119, 120, 121, 122, 123, 124, 125, 126, 127, 128, 129, 130, 131, 132, 133, 134, 135, 136, 137, 138, 139, 140, 141, 142, 143, 144, 145, 146, 147, 148, 149, 150, 151, 152, 153, 154, 155, 156, 157, 158, 159, 160, 161, 162, 163, 164, 165, 166, 167, 168, 169, 170, 171, 172, 173, 174, 175, 176, 177, 178, 179, 180, 181, 182, 183, 184, 185, 186, 187, 188, 189, 190, 191, 192, 193, 194, 195, 196, 197, 198, 199, 200, 201, 202, 203, 204, 205, 206, 207, 208, 209, 210, 211, 212, 213, 214, 215, 216, 217, 218, 219, 220, 221, 222, 223, 224, 225, 226, 227, 228, 229, 230, 231, 232, 233, 234, 235, 236, 237, 238, 239, 240, 241, 242, 243, 244, 245, 246, 247, 248, 249, 250, 251, 252, 253, 254, 255, 256, 257, 258, 259, 260, 261, 262, 263, 264, 265, 266, 267, 268, 269, 270, 271, 272, 273, 274, 275, 276, 277, 278, 279, 280, 281, 282, 283, 284, 285, 286, 287, 288, 289, 290, 291, 292, 293, 294, 295, 296, 297, 298, 299, 300, 301, 302, 303, 304, 305, 306, 307, 308, 309, 310, 311, 312, 313, 314, 315, 316, 317, 318, 319, 320, 321, 322, 323, 324, 325, 326, 327, 328, 329, 330, 331, 332, 333, 334, 335, 336, 337, 338, 339, 340, 341, 342, 343, 344, 345, 346, 347, 348, 349, 350, 351, 352, 353, 354, 355, 356, 357, 358, 359, 360, 361, 362, 363, 364, 365, 366, 367, 368, 369, 370, 371, 372, 373, 374, 375, 376, 377, 378, 379, 380, 381, 382, 383, 384, 385, 386, 387, 388, 389, 390, 391, 392, 393, 394, 395, 396, 397, 398, 399, 400, 401, 402, 403, 404, 405, 406, 407, 408, 409, 410, 411, 412, 413, 414, 415, 416, 417, 418, 419, 420, 421, 422, 423, 424, 425, 426, 427, 428, 429, 430, 431, 432, 433, 434, 435, 436}\n"
     ]
    }
   ],
   "source": [
    "for clique in nx.connected_components(graph.to_undirected()):\n",
    "    print(clique)"
   ]
  },
  {
   "cell_type": "code",
   "execution_count": 26,
   "id": "ea07af77-f5f4-4ff3-8c24-75c5e973f11a",
   "metadata": {
    "execution": {
     "iopub.execute_input": "2025-02-23T00:57:00.047785Z",
     "iopub.status.busy": "2025-02-23T00:57:00.047705Z",
     "iopub.status.idle": "2025-02-23T00:57:00.123198Z",
     "shell.execute_reply": "2025-02-23T00:57:00.122921Z",
     "shell.execute_reply.started": "2025-02-23T00:57:00.047778Z"
    }
   },
   "outputs": [],
   "source": [
    "path_counts: typing.List[ int ] = [\n",
    "    len(path[1]) + 1\n",
    "    for path in nx.all_pairs_all_shortest_paths(graph)\n",
    "]"
   ]
  },
  {
   "cell_type": "code",
   "execution_count": 27,
   "id": "a3131783-74bb-457c-b4a1-db045e2e8c89",
   "metadata": {
    "execution": {
     "iopub.execute_input": "2025-02-23T00:57:00.123669Z",
     "iopub.status.busy": "2025-02-23T00:57:00.123589Z",
     "iopub.status.idle": "2025-02-23T00:57:00.193685Z",
     "shell.execute_reply": "2025-02-23T00:57:00.193427Z",
     "shell.execute_reply.started": "2025-02-23T00:57:00.123659Z"
    },
    "scrolled": true
   },
   "outputs": [
    {
     "data": {
      "image/png": "[encoded data removed]",
      "text/plain": [
       "<Figure size 500x200 with 1 Axes>"
      ]
     },
     "metadata": {},
     "output_type": "display_data"
    }
   ],
   "source": [
    "fig, ax = plt.subplots(figsize = (5, 2))\n",
    "plt.rcParams[\"font.family\"] = \"sans-serif\"\n",
    "\n",
    "y = sns.histplot(path_counts)\n",
    "y.tick_params(axis = \"y\", size = 9, colors = \"gray\")\n",
    "y.bar_label(y.containers[0], padding = 3, color = \"gray\", fontsize = 7)\n",
    "\n",
    "plt.xlabel(\"path length\", size = 10, fontstyle = \"italic\")\n",
    "plt.ylabel(\"count\", size = 10, fontstyle = \"italic\")\n",
    "\n",
    "plt.axvline(x = statistics.median(path_counts), color = \"red\", lw = 5, alpha = 0.3)\n",
    "\n",
    "plt.gca().xaxis.set_major_formatter(FuncFormatter(lambda x, _: int(x)))\n",
    "y.set(xticks = range(min(path_counts), max(path_counts) + 1))\n",
    "\n",
    "sns.despine(bottom = True, left = True)\n",
    "plt.yscale(\"log\")\n",
    "\n",
    "plt.legend([], [], frameon = False);"
   ]
  },
  {
   "cell_type": "markdown",
   "id": "27b89ca4-e0f5-4f90-a891-18496f909b43",
   "metadata": {},
   "source": [
    "insights:\n",
    "\n",
    "  * fully connected graph, avg path length = 4"
   ]
  },
  {
   "cell_type": "markdown",
   "id": "e3b6bc9b-3020-43d7-afd4-f738ef92f2d4",
   "metadata": {},
   "source": [
    "## flow analysis"
   ]
  },
  {
   "cell_type": "code",
   "execution_count": 28,
   "id": "d5832592-44ff-4e92-a8a0-7bdc38c83260",
   "metadata": {
    "execution": {
     "iopub.execute_input": "2025-02-23T00:57:00.194204Z",
     "iopub.status.busy": "2025-02-23T00:57:00.194108Z",
     "iopub.status.idle": "2025-02-23T00:57:00.200212Z",
     "shell.execute_reply": "2025-02-23T00:57:00.199646Z",
     "shell.execute_reply.started": "2025-02-23T00:57:00.194196Z"
    }
   },
   "outputs": [
    {
     "data": {
      "text/plain": [
       "0.9896265560165975"
      ]
     },
     "execution_count": 28,
     "metadata": {},
     "output_type": "execute_result"
    }
   ],
   "source": [
    "nx.flow_hierarchy(graph)"
   ]
  },
  {
   "cell_type": "code",
   "execution_count": 29,
   "id": "a62ba335-b535-4710-969f-a765549a5855",
   "metadata": {
    "execution": {
     "iopub.execute_input": "2025-02-23T00:57:00.201371Z",
     "iopub.status.busy": "2025-02-23T00:57:00.200882Z",
     "iopub.status.idle": "2025-02-23T00:57:00.232657Z",
     "shell.execute_reply": "2025-02-23T00:57:00.232226Z",
     "shell.execute_reply.started": "2025-02-23T00:57:00.201360Z"
    }
   },
   "outputs": [
    {
     "name": "stdout",
     "output_type": "stream",
     "text": [
      "17 {'name': 'GLOBECOM TRADE L.P', 'value': 0.0, 'size': 10, 'total': 3105000.0, 'degree': 4}\n",
      "66 {'name': 'RIVERLANE LLP', 'value': 0.0, 'size': 10, 'total': 5104981.0, 'degree': 4}\n"
     ]
    }
   ],
   "source": [
    "for node_id in nx.center(graph.to_undirected()):\n",
    "    print(node_id, graph.nodes[node_id])"
   ]
  },
  {
   "cell_type": "code",
   "execution_count": 30,
   "id": "590be1f0-9872-4c40-a307-630e0f306c40",
   "metadata": {
    "execution": {
     "iopub.execute_input": "2025-02-23T00:57:00.233146Z",
     "iopub.status.busy": "2025-02-23T00:57:00.233067Z",
     "iopub.status.idle": "2025-02-23T00:57:00.235190Z",
     "shell.execute_reply": "2025-02-23T00:57:00.234943Z",
     "shell.execute_reply.started": "2025-02-23T00:57:00.233139Z"
    }
   },
   "outputs": [
    {
     "data": {
      "text/plain": [
       "437"
      ]
     },
     "execution_count": 30,
     "metadata": {},
     "output_type": "execute_result"
    }
   ],
   "source": [
    "len(graph.nodes)"
   ]
  },
  {
   "cell_type": "code",
   "execution_count": 31,
   "id": "d4914c31-2670-43cc-ae97-9926794927c4",
   "metadata": {
    "execution": {
     "iopub.execute_input": "2025-02-23T00:57:00.235632Z",
     "iopub.status.busy": "2025-02-23T00:57:00.235557Z",
     "iopub.status.idle": "2025-02-23T00:57:00.266066Z",
     "shell.execute_reply": "2025-02-23T00:57:00.265759Z",
     "shell.execute_reply.started": "2025-02-23T00:57:00.235625Z"
    }
   },
   "outputs": [
    {
     "data": {
      "text/plain": [
       "423"
      ]
     },
     "execution_count": 31,
     "metadata": {},
     "output_type": "execute_result"
    }
   ],
   "source": [
    "len(list(nx.periphery(graph.to_undirected())))"
   ]
  },
  {
   "cell_type": "code",
   "execution_count": 32,
   "id": "6129dbe8-3e18-4c3d-aed3-7e357483e213",
   "metadata": {
    "execution": {
     "iopub.execute_input": "2025-02-23T00:57:00.266739Z",
     "iopub.status.busy": "2025-02-23T00:57:00.266627Z",
     "iopub.status.idle": "2025-02-23T00:57:00.296626Z",
     "shell.execute_reply": "2025-02-23T00:57:00.296293Z",
     "shell.execute_reply.started": "2025-02-23T00:57:00.266726Z"
    }
   },
   "outputs": [
    {
     "name": "stdout",
     "output_type": "stream",
     "text": [
      "  1 {'name': 'LCM ALLIANCE LLP', 'value': 0.001608140883686597, 'size': 10, 'total': 2512626.28, 'degree': 273}\n",
      "302 {'name': 'HILUX SERVICES LP', 'value': 0.0007487082146999895, 'size': 10, 'total': 30048.31, 'degree': 61}\n",
      "298 {'name': 'POLUX MANAGEMENT LP', 'value': 0.0006880733944954129, 'size': 10, 'total': 50064.89, 'degree': 20}\n",
      "  3 {'name': 'METASTAR INVEST LLP', 'value': 0.0005457133818411895, 'size': 10, 'total': 147406.0, 'degree': 134}\n",
      " 66 {'name': 'RIVERLANE LLP', 'value': 0.0, 'size': 10, 'total': 5104981.0, 'degree': 4}\n",
      "  7 {'name': 'DANSKE BANK A/S EESTI FILIAAL', 'value': 0.0, 'size': 10, 'total': 50000.0, 'degree': 3}\n",
      "170 {'name': 'MOLONEY TRADE LLP', 'value': 0.0, 'size': 10, 'total': 15478265.0, 'degree': 3}\n",
      " 11 {'name': 'DEUTDEFFXXX', 'value': 0.0, 'size': 10, 'total': 1565793.0, 'degree': 3}\n",
      "107 {'name': 'WILLROCK UNITED LLP', 'value': 0.0, 'size': 10, 'total': 4800000.0, 'degree': 3}\n",
      "205 {'name': 'HARDWARE SYSTEM LLP', 'value': 0.0, 'size': 10, 'total': 170000.0, 'degree': 2}\n",
      " 17 {'name': 'GLOBECOM TRADE L.P', 'value': 0.0, 'size': 10, 'total': 3105000.0, 'degree': 4}\n",
      "241 {'name': 'BONDWEST LLP', 'value': 0.0, 'size': 10, 'total': 7200000.0, 'degree': 2}\n",
      "147 {'name': 'DELFRONT IMPORT LLP', 'value': 0.0, 'size': 10, 'total': 18845446.0, 'degree': 2}\n",
      "375 {'name': 'REDPARK SALES CORP', 'value': 0.0, 'size': 10, 'total': 211870.0, 'degree': 3}\n"
     ]
    }
   ],
   "source": [
    "non_periph: set = set(graph.nodes) - set(nx.periphery(graph.to_undirected()))\n",
    "\n",
    "details: dict = {\n",
    "    node_id: graph.nodes[node_id]\n",
    "    for node_id in non_periph\n",
    "}\n",
    "\n",
    "for node_id, dat in sorted(details.items(), key = lambda pair: pair[1][\"value\"], reverse = True):\n",
    "    print(f\"{node_id:3}\", dat)"
   ]
  },
  {
   "cell_type": "markdown",
   "id": "57a9d17e-3aac-41e2-bad6-6ddb50b025be",
   "metadata": {},
   "source": [
    "let's keep track of these intermediary nodes in particular, which don't rank as high in centrality -- what is flowing through them?"
   ]
  },
  {
   "cell_type": "code",
   "execution_count": 33,
   "id": "b27368e5-6839-4d1b-9fad-5613e103de90",
   "metadata": {
    "execution": {
     "iopub.execute_input": "2025-02-23T00:57:00.297303Z",
     "iopub.status.busy": "2025-02-23T00:57:00.297191Z",
     "iopub.status.idle": "2025-02-23T00:57:00.299459Z",
     "shell.execute_reply": "2025-02-23T00:57:00.299139Z",
     "shell.execute_reply.started": "2025-02-23T00:57:00.297292Z"
    }
   },
   "outputs": [],
   "source": [
    "intermed: typing.Set[ int ] = non_periph - set([ 1, 302, 298, 3, ])"
   ]
  },
  {
   "cell_type": "markdown",
   "id": "04b7bb4c-ce5a-4113-ab40-e0c975884ee1",
   "metadata": {},
   "source": [
    "insights:\n",
    "\n",
    "  * 10 intermediary nodes don't rank as high in centrality as the 4 main shell companies mentioned in the investigative journalism articles\n",
    "  * these 10 are in the computed \"center\" of the graph\n",
    "  * what patterns of transactions flow through these?"
   ]
  },
  {
   "cell_type": "markdown",
   "id": "431c83cc-99dc-4621-ab00-3208868cb45a",
   "metadata": {
    "collapsed": true,
    "execution": {
     "iopub.execute_input": "2025-02-22T18:05:25.422591Z",
     "iopub.status.busy": "2025-02-22T18:05:25.421835Z",
     "iopub.status.idle": "2025-02-22T18:05:25.431535Z",
     "shell.execute_reply": "2025-02-22T18:05:25.430982Z",
     "shell.execute_reply.started": "2025-02-22T18:05:25.422555Z"
    },
    "jupyter": {
     "outputs_hidden": true
    }
   },
   "source": [
    "## triadic census"
   ]
  },
  {
   "cell_type": "code",
   "execution_count": 34,
   "id": "dacd2eb0-4fe2-4282-9a40-585453141818",
   "metadata": {
    "execution": {
     "iopub.execute_input": "2025-02-23T00:57:00.300004Z",
     "iopub.status.busy": "2025-02-23T00:57:00.299934Z",
     "iopub.status.idle": "2025-02-23T00:57:00.400212Z",
     "shell.execute_reply": "2025-02-23T00:57:00.399959Z",
     "shell.execute_reply.started": "2025-02-23T00:57:00.299997Z"
    }
   },
   "outputs": [
    {
     "name": "stdout",
     "output_type": "stream",
     "text": [
      "triad   003: 13652536 occurrences\n",
      "triad   012:  113313 occurrences\n",
      "triad  021U:   46815 occurrences\n",
      "triad   102:     425 occurrences\n",
      "triad  111D:     411 occurrences\n",
      "triad  120D:      33 occurrences\n",
      "triad  021D:      19 occurrences\n",
      "triad  021C:      15 occurrences\n",
      "triad  030T:       2 occurrences\n",
      "triad  111U:       1 occurrences\n"
     ]
    }
   ],
   "source": [
    "for triad, occurrences in sorted(nx.triadic_census(graph).items(), key = lambda x: x[1], reverse = True):\n",
    "    if occurrences > 0:\n",
    "        print(f\"triad {triad:>5}: {occurrences:7d} occurrences\")"
   ]
  },
  {
   "cell_type": "markdown",
   "id": "f275b154-6320-4928-bfa4-89feb3fd1538",
   "metadata": {
    "execution": {
     "iopub.execute_input": "2025-02-22T23:57:23.373603Z",
     "iopub.status.busy": "2025-02-22T23:57:23.373208Z",
     "iopub.status.idle": "2025-02-22T23:57:23.378425Z",
     "shell.execute_reply": "2025-02-22T23:57:23.377409Z",
     "shell.execute_reply.started": "2025-02-22T23:57:23.373581Z"
    }
   },
   "source": [
    "<img\n",
    " src=\"https://figures.semanticscholar.org/6ebe86cdf25f3b58dd98dd9c1c00c3f5c2491734/2-Figure1-1.png\"\n",
    " style=\"height:500px\"\n",
    "/>"
   ]
  },
  {
   "cell_type": "markdown",
   "id": "7d625455-67d3-4d92-b4c6-8ecfdce20bfc",
   "metadata": {},
   "source": [
    "insights:\n",
    "\n",
    "  * do the many `021U` triads indicate \"burst in beneficiaries\" AML tradecraft pattern?"
   ]
  },
  {
   "cell_type": "markdown",
   "id": "44a18916-c7b0-413c-af3e-d3e7580e8276",
   "metadata": {},
   "source": [
    "## analyze cycles"
   ]
  },
  {
   "cell_type": "code",
   "execution_count": 35,
   "id": "54c25cf8-e647-461d-9e4f-9afc30276b58",
   "metadata": {
    "execution": {
     "iopub.execute_input": "2025-02-23T00:57:00.400800Z",
     "iopub.status.busy": "2025-02-23T00:57:00.400660Z",
     "iopub.status.idle": "2025-02-23T00:57:00.404407Z",
     "shell.execute_reply": "2025-02-23T00:57:00.404091Z",
     "shell.execute_reply.started": "2025-02-23T00:57:00.400772Z"
    }
   },
   "outputs": [],
   "source": [
    "cycles: dict = {\n",
    "    tuple(cycle): len(cycle)\n",
    "    for cycle in nx.cycle_basis(graph.to_undirected())\n",
    "}"
   ]
  },
  {
   "cell_type": "code",
   "execution_count": 36,
   "id": "6b094e58-f27c-4de9-83be-cf7e9bd0e87f",
   "metadata": {
    "execution": {
     "iopub.execute_input": "2025-02-23T00:57:00.404822Z",
     "iopub.status.busy": "2025-02-23T00:57:00.404748Z",
     "iopub.status.idle": "2025-02-23T00:57:00.407605Z",
     "shell.execute_reply": "2025-02-23T00:57:00.407398Z",
     "shell.execute_reply.started": "2025-02-23T00:57:00.404815Z"
    },
    "scrolled": true
   },
   "outputs": [
    {
     "name": "stdout",
     "output_type": "stream",
     "text": [
      "\n",
      "  5 (147, 1, 3, 375, 302)\n",
      "147 {'name': 'DELFRONT IMPORT LLP', 'value': 0.0, 'size': 10, 'total': 18845446.0, 'degree': 2}\n",
      "  1 {'name': 'LCM ALLIANCE LLP', 'value': 0.001608140883686597, 'size': 10, 'total': 2512626.28, 'degree': 273}\n",
      "  3 {'name': 'METASTAR INVEST LLP', 'value': 0.0005457133818411895, 'size': 10, 'total': 147406.0, 'degree': 134}\n",
      "375 {'name': 'REDPARK SALES CORP', 'value': 0.0, 'size': 10, 'total': 211870.0, 'degree': 3}\n",
      "302 {'name': 'HILUX SERVICES LP', 'value': 0.0007487082146999895, 'size': 10, 'total': 30048.31, 'degree': 61}\n",
      "\n",
      "  5 (205, 1, 3, 375, 302)\n",
      "205 {'name': 'HARDWARE SYSTEM LLP', 'value': 0.0, 'size': 10, 'total': 170000.0, 'degree': 2}\n",
      "  1 {'name': 'LCM ALLIANCE LLP', 'value': 0.001608140883686597, 'size': 10, 'total': 2512626.28, 'degree': 273}\n",
      "  3 {'name': 'METASTAR INVEST LLP', 'value': 0.0005457133818411895, 'size': 10, 'total': 147406.0, 'degree': 134}\n",
      "375 {'name': 'REDPARK SALES CORP', 'value': 0.0, 'size': 10, 'total': 211870.0, 'degree': 3}\n",
      "302 {'name': 'HILUX SERVICES LP', 'value': 0.0007487082146999895, 'size': 10, 'total': 30048.31, 'degree': 61}\n",
      "\n",
      "  5 (241, 1, 3, 375, 302)\n",
      "241 {'name': 'BONDWEST LLP', 'value': 0.0, 'size': 10, 'total': 7200000.0, 'degree': 2}\n",
      "  1 {'name': 'LCM ALLIANCE LLP', 'value': 0.001608140883686597, 'size': 10, 'total': 2512626.28, 'degree': 273}\n",
      "  3 {'name': 'METASTAR INVEST LLP', 'value': 0.0005457133818411895, 'size': 10, 'total': 147406.0, 'degree': 134}\n",
      "375 {'name': 'REDPARK SALES CORP', 'value': 0.0, 'size': 10, 'total': 211870.0, 'degree': 3}\n",
      "302 {'name': 'HILUX SERVICES LP', 'value': 0.0007487082146999895, 'size': 10, 'total': 30048.31, 'degree': 61}\n",
      "\n",
      "  4 (7, 3, 375, 302)\n",
      "  7 {'name': 'DANSKE BANK A/S EESTI FILIAAL', 'value': 0.0, 'size': 10, 'total': 50000.0, 'degree': 3}\n",
      "  3 {'name': 'METASTAR INVEST LLP', 'value': 0.0005457133818411895, 'size': 10, 'total': 147406.0, 'degree': 134}\n",
      "375 {'name': 'REDPARK SALES CORP', 'value': 0.0, 'size': 10, 'total': 211870.0, 'degree': 3}\n",
      "302 {'name': 'HILUX SERVICES LP', 'value': 0.0007487082146999895, 'size': 10, 'total': 30048.31, 'degree': 61}\n",
      "\n",
      "  4 (11, 3, 375, 302)\n",
      " 11 {'name': 'DEUTDEFFXXX', 'value': 0.0, 'size': 10, 'total': 1565793.0, 'degree': 3}\n",
      "  3 {'name': 'METASTAR INVEST LLP', 'value': 0.0005457133818411895, 'size': 10, 'total': 147406.0, 'degree': 134}\n",
      "375 {'name': 'REDPARK SALES CORP', 'value': 0.0, 'size': 10, 'total': 211870.0, 'degree': 3}\n",
      "302 {'name': 'HILUX SERVICES LP', 'value': 0.0007487082146999895, 'size': 10, 'total': 30048.31, 'degree': 61}\n",
      "\n",
      "  4 (17, 3, 375, 302)\n",
      " 17 {'name': 'GLOBECOM TRADE L.P', 'value': 0.0, 'size': 10, 'total': 3105000.0, 'degree': 4}\n",
      "  3 {'name': 'METASTAR INVEST LLP', 'value': 0.0005457133818411895, 'size': 10, 'total': 147406.0, 'degree': 134}\n",
      "375 {'name': 'REDPARK SALES CORP', 'value': 0.0, 'size': 10, 'total': 211870.0, 'degree': 3}\n",
      "302 {'name': 'HILUX SERVICES LP', 'value': 0.0007487082146999895, 'size': 10, 'total': 30048.31, 'degree': 61}\n",
      "\n",
      "  4 (66, 3, 375, 302)\n",
      " 66 {'name': 'RIVERLANE LLP', 'value': 0.0, 'size': 10, 'total': 5104981.0, 'degree': 4}\n",
      "  3 {'name': 'METASTAR INVEST LLP', 'value': 0.0005457133818411895, 'size': 10, 'total': 147406.0, 'degree': 134}\n",
      "375 {'name': 'REDPARK SALES CORP', 'value': 0.0, 'size': 10, 'total': 211870.0, 'degree': 3}\n",
      "302 {'name': 'HILUX SERVICES LP', 'value': 0.0007487082146999895, 'size': 10, 'total': 30048.31, 'degree': 61}\n",
      "\n",
      "  4 (107, 3, 375, 302)\n",
      "107 {'name': 'WILLROCK UNITED LLP', 'value': 0.0, 'size': 10, 'total': 4800000.0, 'degree': 3}\n",
      "  3 {'name': 'METASTAR INVEST LLP', 'value': 0.0005457133818411895, 'size': 10, 'total': 147406.0, 'degree': 134}\n",
      "375 {'name': 'REDPARK SALES CORP', 'value': 0.0, 'size': 10, 'total': 211870.0, 'degree': 3}\n",
      "302 {'name': 'HILUX SERVICES LP', 'value': 0.0007487082146999895, 'size': 10, 'total': 30048.31, 'degree': 61}\n",
      "\n",
      "  4 (170, 3, 375, 302)\n",
      "170 {'name': 'MOLONEY TRADE LLP', 'value': 0.0, 'size': 10, 'total': 15478265.0, 'degree': 3}\n",
      "  3 {'name': 'METASTAR INVEST LLP', 'value': 0.0005457133818411895, 'size': 10, 'total': 147406.0, 'degree': 134}\n",
      "375 {'name': 'REDPARK SALES CORP', 'value': 0.0, 'size': 10, 'total': 211870.0, 'degree': 3}\n",
      "302 {'name': 'HILUX SERVICES LP', 'value': 0.0007487082146999895, 'size': 10, 'total': 30048.31, 'degree': 61}\n",
      "\n",
      "  4 (298, 1, 3, 375)\n",
      "298 {'name': 'POLUX MANAGEMENT LP', 'value': 0.0006880733944954129, 'size': 10, 'total': 50064.89, 'degree': 20}\n",
      "  1 {'name': 'LCM ALLIANCE LLP', 'value': 0.001608140883686597, 'size': 10, 'total': 2512626.28, 'degree': 273}\n",
      "  3 {'name': 'METASTAR INVEST LLP', 'value': 0.0005457133818411895, 'size': 10, 'total': 147406.0, 'degree': 134}\n",
      "375 {'name': 'REDPARK SALES CORP', 'value': 0.0, 'size': 10, 'total': 211870.0, 'degree': 3}\n",
      "\n",
      "  3 (298, 384, 302)\n",
      "298 {'name': 'POLUX MANAGEMENT LP', 'value': 0.0006880733944954129, 'size': 10, 'total': 50064.89, 'degree': 20}\n",
      "384 {'name': 'SDT TRADE LLP', 'value': 0.0, 'size': 10, 'total': 9776690.0, 'degree': 2}\n",
      "302 {'name': 'HILUX SERVICES LP', 'value': 0.0007487082146999895, 'size': 10, 'total': 30048.31, 'degree': 61}\n",
      "\n",
      "  3 (298, 380, 302)\n",
      "298 {'name': 'POLUX MANAGEMENT LP', 'value': 0.0006880733944954129, 'size': 10, 'total': 50064.89, 'degree': 20}\n",
      "380 {'name': 'FABERLEX LP', 'value': 0.0, 'size': 10, 'total': 220.0, 'degree': 2}\n",
      "302 {'name': 'HILUX SERVICES LP', 'value': 0.0007487082146999895, 'size': 10, 'total': 30048.31, 'degree': 61}\n",
      "\n",
      "  3 (298, 379, 302)\n",
      "298 {'name': 'POLUX MANAGEMENT LP', 'value': 0.0006880733944954129, 'size': 10, 'total': 50064.89, 'degree': 20}\n",
      "379 {'name': 'GENTECH (FZE)', 'value': 0.0, 'size': 10, 'total': 100000.0, 'degree': 2}\n",
      "302 {'name': 'HILUX SERVICES LP', 'value': 0.0007487082146999895, 'size': 10, 'total': 30048.31, 'degree': 61}\n",
      "\n",
      "  3 (298, 375, 302)\n",
      "298 {'name': 'POLUX MANAGEMENT LP', 'value': 0.0006880733944954129, 'size': 10, 'total': 50064.89, 'degree': 20}\n",
      "375 {'name': 'REDPARK SALES CORP', 'value': 0.0, 'size': 10, 'total': 211870.0, 'degree': 3}\n",
      "302 {'name': 'HILUX SERVICES LP', 'value': 0.0007487082146999895, 'size': 10, 'total': 30048.31, 'degree': 61}\n",
      "\n",
      "  3 (1, 207, 3)\n",
      "  1 {'name': 'LCM ALLIANCE LLP', 'value': 0.001608140883686597, 'size': 10, 'total': 2512626.28, 'degree': 273}\n",
      "207 {'name': 'EVERMAIR PROJECTS LP', 'value': 0.0, 'size': 10, 'total': 3839114.0, 'degree': 2}\n",
      "  3 {'name': 'METASTAR INVEST LLP', 'value': 0.0005457133818411895, 'size': 10, 'total': 147406.0, 'degree': 134}\n",
      "\n",
      "  3 (1, 192, 3)\n",
      "  1 {'name': 'LCM ALLIANCE LLP', 'value': 0.001608140883686597, 'size': 10, 'total': 2512626.28, 'degree': 273}\n",
      "192 {'name': 'KG COMMERCE LLP', 'value': 0.0, 'size': 10, 'total': 2835794.0, 'degree': 2}\n",
      "  3 {'name': 'METASTAR INVEST LLP', 'value': 0.0005457133818411895, 'size': 10, 'total': 147406.0, 'degree': 134}\n",
      "\n",
      "  3 (1, 190, 3)\n",
      "  1 {'name': 'LCM ALLIANCE LLP', 'value': 0.001608140883686597, 'size': 10, 'total': 2512626.28, 'degree': 273}\n",
      "190 {'name': 'INFOCREST LLP', 'value': 0.0, 'size': 10, 'total': 2720928.0, 'degree': 2}\n",
      "  3 {'name': 'METASTAR INVEST LLP', 'value': 0.0005457133818411895, 'size': 10, 'total': 147406.0, 'degree': 134}\n",
      "\n",
      "  3 (1, 157, 3)\n",
      "  1 {'name': 'LCM ALLIANCE LLP', 'value': 0.001608140883686597, 'size': 10, 'total': 2512626.28, 'degree': 273}\n",
      "157 {'name': 'LARKSTONE LIMITED', 'value': 0.0, 'size': 10, 'total': 31912153.23, 'degree': 2}\n",
      "  3 {'name': 'METASTAR INVEST LLP', 'value': 0.0005457133818411895, 'size': 10, 'total': 147406.0, 'degree': 134}\n",
      "\n",
      "  3 (1, 120, 3)\n",
      "  1 {'name': 'LCM ALLIANCE LLP', 'value': 0.001608140883686597, 'size': 10, 'total': 2512626.28, 'degree': 273}\n",
      "120 {'name': 'LUXBORG L. P.', 'value': 0.0, 'size': 10, 'total': 345000.0, 'degree': 2}\n",
      "  3 {'name': 'METASTAR INVEST LLP', 'value': 0.0005457133818411895, 'size': 10, 'total': 147406.0, 'degree': 134}\n",
      "\n",
      "  3 (1, 119, 3)\n",
      "  1 {'name': 'LCM ALLIANCE LLP', 'value': 0.001608140883686597, 'size': 10, 'total': 2512626.28, 'degree': 273}\n",
      "119 {'name': 'AVROMED COMPANY LLP', 'value': 0.0, 'size': 10, 'total': 690000.0, 'degree': 2}\n",
      "  3 {'name': 'METASTAR INVEST LLP', 'value': 0.0005457133818411895, 'size': 10, 'total': 147406.0, 'degree': 134}\n",
      "\n",
      "  3 (1, 84, 3)\n",
      "  1 {'name': 'LCM ALLIANCE LLP', 'value': 0.001608140883686597, 'size': 10, 'total': 2512626.28, 'degree': 273}\n",
      " 84 {'name': 'NAI NORTH AMERICAN INDUSTRIAL S.A.', 'value': 0.0, 'size': 10, 'total': 1392549.64, 'degree': 2}\n",
      "  3 {'name': 'METASTAR INVEST LLP', 'value': 0.0005457133818411895, 'size': 10, 'total': 147406.0, 'degree': 134}\n",
      "\n",
      "  3 (1, 67, 3)\n",
      "  1 {'name': 'LCM ALLIANCE LLP', 'value': 0.001608140883686597, 'size': 10, 'total': 2512626.28, 'degree': 273}\n",
      " 67 {'name': 'WAN DE BERGER SERVICES LTD', 'value': 0.0, 'size': 10, 'total': 272500.0, 'degree': 2}\n",
      "  3 {'name': 'METASTAR INVEST LLP', 'value': 0.0005457133818411895, 'size': 10, 'total': 147406.0, 'degree': 134}\n",
      "\n",
      "  3 (1, 61, 3)\n",
      "  1 {'name': 'LCM ALLIANCE LLP', 'value': 0.001608140883686597, 'size': 10, 'total': 2512626.28, 'degree': 273}\n",
      " 61 {'name': 'HEKTOR INVEST LIMITED', 'value': 0.0, 'size': 10, 'total': 5378800.0, 'degree': 2}\n",
      "  3 {'name': 'METASTAR INVEST LLP', 'value': 0.0005457133818411895, 'size': 10, 'total': 147406.0, 'degree': 134}\n",
      "\n",
      "  3 (1, 50, 3)\n",
      "  1 {'name': 'LCM ALLIANCE LLP', 'value': 0.001608140883686597, 'size': 10, 'total': 2512626.28, 'degree': 273}\n",
      " 50 {'name': 'MONDOTECH LLP', 'value': 0.0, 'size': 10, 'total': 1454175.0, 'degree': 2}\n",
      "  3 {'name': 'METASTAR INVEST LLP', 'value': 0.0005457133818411895, 'size': 10, 'total': 147406.0, 'degree': 134}\n",
      "\n",
      "  3 (1, 49, 3)\n",
      "  1 {'name': 'LCM ALLIANCE LLP', 'value': 0.001608140883686597, 'size': 10, 'total': 2512626.28, 'degree': 273}\n",
      " 49 {'name': 'DOCKWOOD ALLIANCE LLP', 'value': 0.0, 'size': 10, 'total': 886497.5, 'degree': 2}\n",
      "  3 {'name': 'METASTAR INVEST LLP', 'value': 0.0005457133818411895, 'size': 10, 'total': 147406.0, 'degree': 134}\n",
      "\n",
      "  3 (1, 44, 3)\n",
      "  1 {'name': 'LCM ALLIANCE LLP', 'value': 0.001608140883686597, 'size': 10, 'total': 2512626.28, 'degree': 273}\n",
      " 44 {'name': 'BSMAX LLP', 'value': 0.0, 'size': 10, 'total': 22200.0, 'degree': 2}\n",
      "  3 {'name': 'METASTAR INVEST LLP', 'value': 0.0005457133818411895, 'size': 10, 'total': 147406.0, 'degree': 134}\n",
      "\n",
      "  3 (1, 32, 3)\n",
      "  1 {'name': 'LCM ALLIANCE LLP', 'value': 0.001608140883686597, 'size': 10, 'total': 2512626.28, 'degree': 273}\n",
      " 32 {'name': 'JETMAX CONTRACTS LLP', 'value': 0.0, 'size': 10, 'total': 577000.0, 'degree': 2}\n",
      "  3 {'name': 'METASTAR INVEST LLP', 'value': 0.0005457133818411895, 'size': 10, 'total': 147406.0, 'degree': 134}\n",
      "\n",
      "  3 (1, 14, 3)\n",
      "  1 {'name': 'LCM ALLIANCE LLP', 'value': 0.001608140883686597, 'size': 10, 'total': 2512626.28, 'degree': 273}\n",
      " 14 {'name': 'SOVER DEVELOPMENT LLP', 'value': 0.0, 'size': 10, 'total': 44025124.0, 'degree': 2}\n",
      "  3 {'name': 'METASTAR INVEST LLP', 'value': 0.0005457133818411895, 'size': 10, 'total': 147406.0, 'degree': 134}\n",
      "\n",
      "  3 (1, 12, 3)\n",
      "  1 {'name': 'LCM ALLIANCE LLP', 'value': 0.001608140883686597, 'size': 10, 'total': 2512626.28, 'degree': 273}\n",
      " 12 {'name': 'OVERTON SALES LLP', 'value': 0.0, 'size': 10, 'total': 3747628.0, 'degree': 2}\n",
      "  3 {'name': 'METASTAR INVEST LLP', 'value': 0.0005457133818411895, 'size': 10, 'total': 147406.0, 'degree': 134}\n",
      "\n",
      "  3 (1, 10, 3)\n",
      "  1 {'name': 'LCM ALLIANCE LLP', 'value': 0.001608140883686597, 'size': 10, 'total': 2512626.28, 'degree': 273}\n",
      " 10 {'name': 'BONINVEST LLP', 'value': 0.0, 'size': 10, 'total': 18926816.67, 'degree': 2}\n",
      "  3 {'name': 'METASTAR INVEST LLP', 'value': 0.0005457133818411895, 'size': 10, 'total': 147406.0, 'degree': 134}\n",
      "\n",
      "  3 (1, 9, 3)\n",
      "  1 {'name': 'LCM ALLIANCE LLP', 'value': 0.001608140883686597, 'size': 10, 'total': 2512626.28, 'degree': 273}\n",
      "  9 {'name': 'MUROVA SYSTEMS LLP', 'value': 0.0, 'size': 10, 'total': 515000.0, 'degree': 2}\n",
      "  3 {'name': 'METASTAR INVEST LLP', 'value': 0.0005457133818411895, 'size': 10, 'total': 147406.0, 'degree': 134}\n",
      "\n",
      "  3 (1, 8, 3)\n",
      "  1 {'name': 'LCM ALLIANCE LLP', 'value': 0.001608140883686597, 'size': 10, 'total': 2512626.28, 'degree': 273}\n",
      "  8 {'name': 'JETFIELD NETWORKS LIMITED', 'value': 0.0, 'size': 10, 'total': 13106357.0, 'degree': 2}\n",
      "  3 {'name': 'METASTAR INVEST LLP', 'value': 0.0005457133818411895, 'size': 10, 'total': 147406.0, 'degree': 134}\n",
      "\n",
      "  3 (1, 6, 3)\n",
      "  1 {'name': 'LCM ALLIANCE LLP', 'value': 0.001608140883686597, 'size': 10, 'total': 2512626.28, 'degree': 273}\n",
      "  6 {'name': 'LOTA SALES LLP', 'value': 0.0, 'size': 10, 'total': 5497887.0, 'degree': 2}\n",
      "  3 {'name': 'METASTAR INVEST LLP', 'value': 0.0005457133818411895, 'size': 10, 'total': 147406.0, 'degree': 134}\n",
      "\n",
      "  3 (1, 5, 3)\n",
      "  1 {'name': 'LCM ALLIANCE LLP', 'value': 0.001608140883686597, 'size': 10, 'total': 2512626.28, 'degree': 273}\n",
      "  5 {'name': 'MOBILA LLP', 'value': 0.0, 'size': 10, 'total': 1000000.0, 'degree': 2}\n",
      "  3 {'name': 'METASTAR INVEST LLP', 'value': 0.0005457133818411895, 'size': 10, 'total': 147406.0, 'degree': 134}\n",
      "\n",
      "  3 (7, 1, 3)\n",
      "  7 {'name': 'DANSKE BANK A/S EESTI FILIAAL', 'value': 0.0, 'size': 10, 'total': 50000.0, 'degree': 3}\n",
      "  1 {'name': 'LCM ALLIANCE LLP', 'value': 0.001608140883686597, 'size': 10, 'total': 2512626.28, 'degree': 273}\n",
      "  3 {'name': 'METASTAR INVEST LLP', 'value': 0.0005457133818411895, 'size': 10, 'total': 147406.0, 'degree': 134}\n",
      "\n",
      "  3 (11, 1, 3)\n",
      " 11 {'name': 'DEUTDEFFXXX', 'value': 0.0, 'size': 10, 'total': 1565793.0, 'degree': 3}\n",
      "  1 {'name': 'LCM ALLIANCE LLP', 'value': 0.001608140883686597, 'size': 10, 'total': 2512626.28, 'degree': 273}\n",
      "  3 {'name': 'METASTAR INVEST LLP', 'value': 0.0005457133818411895, 'size': 10, 'total': 147406.0, 'degree': 134}\n",
      "\n",
      "  3 (17, 1, 3)\n",
      " 17 {'name': 'GLOBECOM TRADE L.P', 'value': 0.0, 'size': 10, 'total': 3105000.0, 'degree': 4}\n",
      "  1 {'name': 'LCM ALLIANCE LLP', 'value': 0.001608140883686597, 'size': 10, 'total': 2512626.28, 'degree': 273}\n",
      "  3 {'name': 'METASTAR INVEST LLP', 'value': 0.0005457133818411895, 'size': 10, 'total': 147406.0, 'degree': 134}\n",
      "\n",
      "  3 (66, 1, 3)\n",
      " 66 {'name': 'RIVERLANE LLP', 'value': 0.0, 'size': 10, 'total': 5104981.0, 'degree': 4}\n",
      "  1 {'name': 'LCM ALLIANCE LLP', 'value': 0.001608140883686597, 'size': 10, 'total': 2512626.28, 'degree': 273}\n",
      "  3 {'name': 'METASTAR INVEST LLP', 'value': 0.0005457133818411895, 'size': 10, 'total': 147406.0, 'degree': 134}\n",
      "\n",
      "  3 (107, 1, 3)\n",
      "107 {'name': 'WILLROCK UNITED LLP', 'value': 0.0, 'size': 10, 'total': 4800000.0, 'degree': 3}\n",
      "  1 {'name': 'LCM ALLIANCE LLP', 'value': 0.001608140883686597, 'size': 10, 'total': 2512626.28, 'degree': 273}\n",
      "  3 {'name': 'METASTAR INVEST LLP', 'value': 0.0005457133818411895, 'size': 10, 'total': 147406.0, 'degree': 134}\n",
      "\n",
      "  3 (170, 1, 3)\n",
      "170 {'name': 'MOLONEY TRADE LLP', 'value': 0.0, 'size': 10, 'total': 15478265.0, 'degree': 3}\n",
      "  1 {'name': 'LCM ALLIANCE LLP', 'value': 0.001608140883686597, 'size': 10, 'total': 2512626.28, 'degree': 273}\n",
      "  3 {'name': 'METASTAR INVEST LLP', 'value': 0.0005457133818411895, 'size': 10, 'total': 147406.0, 'degree': 134}\n",
      "\n",
      "  3 (298, 299, 302)\n",
      "298 {'name': 'POLUX MANAGEMENT LP', 'value': 0.0006880733944954129, 'size': 10, 'total': 50064.89, 'degree': 20}\n",
      "299 {'name': 'BAKTELEKOM MMC', 'value': 0.0, 'size': 10, 'total': 1239990617.0, 'degree': 2}\n",
      "302 {'name': 'HILUX SERVICES LP', 'value': 0.0007487082146999895, 'size': 10, 'total': 30048.31, 'degree': 61}\n",
      "\n",
      "  3 (17, 298, 302)\n",
      " 17 {'name': 'GLOBECOM TRADE L.P', 'value': 0.0, 'size': 10, 'total': 3105000.0, 'degree': 4}\n",
      "298 {'name': 'POLUX MANAGEMENT LP', 'value': 0.0006880733944954129, 'size': 10, 'total': 50064.89, 'degree': 20}\n",
      "302 {'name': 'HILUX SERVICES LP', 'value': 0.0007487082146999895, 'size': 10, 'total': 30048.31, 'degree': 61}\n",
      "\n",
      "  3 (66, 298, 302)\n",
      " 66 {'name': 'RIVERLANE LLP', 'value': 0.0, 'size': 10, 'total': 5104981.0, 'degree': 4}\n",
      "298 {'name': 'POLUX MANAGEMENT LP', 'value': 0.0006880733944954129, 'size': 10, 'total': 50064.89, 'degree': 20}\n",
      "302 {'name': 'HILUX SERVICES LP', 'value': 0.0007487082146999895, 'size': 10, 'total': 30048.31, 'degree': 61}\n"
     ]
    }
   ],
   "source": [
    "for cycle, cycle_len in sorted(cycles.items(), key = lambda x: x[1], reverse = True):\n",
    "    if cycle_len > 1:\n",
    "        print(f\"\\n{cycle_len:3}\", cycle)\n",
    "\n",
    "        for node_id in cycle:\n",
    "            print(f\"{node_id:3}\", graph.nodes[node_id])"
   ]
  },
  {
   "cell_type": "code",
   "execution_count": 37,
   "id": "b2a6c1f1-ce1a-48f8-b9de-51c34eb897b2",
   "metadata": {
    "execution": {
     "iopub.execute_input": "2025-02-23T00:57:00.408170Z",
     "iopub.status.busy": "2025-02-23T00:57:00.408039Z",
     "iopub.status.idle": "2025-02-23T00:57:00.409689Z",
     "shell.execute_reply": "2025-02-23T00:57:00.409429Z",
     "shell.execute_reply.started": "2025-02-23T00:57:00.408161Z"
    }
   },
   "outputs": [],
   "source": [
    "cycle_len: typing.List[ int ] = cycles.values()"
   ]
  },
  {
   "cell_type": "code",
   "execution_count": 38,
   "id": "dd3f9bc4-9c55-43e1-87d7-735f1dd97ffc",
   "metadata": {
    "execution": {
     "iopub.execute_input": "2025-02-23T00:57:00.410054Z",
     "iopub.status.busy": "2025-02-23T00:57:00.409995Z",
     "iopub.status.idle": "2025-02-23T00:57:00.477029Z",
     "shell.execute_reply": "2025-02-23T00:57:00.476771Z",
     "shell.execute_reply.started": "2025-02-23T00:57:00.410047Z"
    }
   },
   "outputs": [
    {
     "data": {
      "image/png": "[encoded data removed]",
      "text/plain": [
       "<Figure size 500x200 with 1 Axes>"
      ]
     },
     "metadata": {},
     "output_type": "display_data"
    }
   ],
   "source": [
    "fig, ax = plt.subplots(figsize = (5, 2))\n",
    "plt.rcParams[\"font.family\"] = \"sans-serif\"\n",
    "\n",
    "y = sns.histplot(cycle_len)\n",
    "y.tick_params(axis = \"y\", size = 9, colors = \"gray\")\n",
    "y.bar_label(y.containers[0], padding = 3, color = \"gray\", fontsize = 7)\n",
    "\n",
    "plt.xlabel(\"cycle len\", size = 10, fontstyle = \"italic\")\n",
    "plt.ylabel(\"count\", size = 10, fontstyle = \"italic\")\n",
    "\n",
    "plt.axvline(x = statistics.median(cycle_len), color = \"red\", lw = 5, alpha = 0.3)\n",
    "\n",
    "plt.gca().xaxis.set_major_formatter(FuncFormatter(lambda x, _: int(x)))\n",
    "y.set(xticks = range(min(path_counts), max(path_counts) + 1))\n",
    "\n",
    "sns.despine(bottom = True, left = True)\n",
    "plt.yscale(\"log\")\n",
    "\n",
    "plt.legend([], [], frameon = False);"
   ]
  },
  {
   "cell_type": "markdown",
   "id": "b9b5f0f2-9051-4a39-9b3e-aedca759af26",
   "metadata": {},
   "source": [
    "insights:\n",
    "\n",
    "  * again, the same intermediaries tend to be involved in cycles\n",
    "  * 3-cycle = 33\n",
    "  * 4-cycle = 7\n",
    "  * 5-cycle = 3"
   ]
  },
  {
   "cell_type": "markdown",
   "id": "605f098a-1c12-42bf-a14e-0318ef87bdac",
   "metadata": {},
   "source": [
    "## summary"
   ]
  },
  {
   "cell_type": "markdown",
   "id": "078a36e7-378d-4a5e-a56d-1fcd24af2e1f",
   "metadata": {},
   "source": [
    "take-aways:\n",
    "\n",
    " * this is a relatively sparse graph with `diameter = 4`\n",
    " * power law distribution on node degree, `max node degree = 273`\n",
    " * fully connected, `avg path length = 4`\n",
    " * 423 nodes of 437 total are in the periphery, while 10 are in the computed \"center\"\n",
    " * `3-cycle = 33`, `4-cycle = 7`, `5-cycle = 3`\n",
    "\n",
    "questions:\n",
    "\n",
    " * do the many `021U` triads indicate \"burst in beneficiaries\" AML tradecraft pattern?"
   ]
  },
  {
   "cell_type": "markdown",
   "id": "e7ef6090-fb33-4827-9458-c4dcd1183ba9",
   "metadata": {},
   "source": [
    "OCCRP analysis and the subsequent investigative journalism articles mention the 4 top shell companies involved in the \"Azerbaijani Laundromat\", in order of centrality: LCM, Hilux, Polux, MetaStar. \n",
    "\n",
    "NetworkX identifies 423 nodes out of a 437 total as \"peripheral\", so then what kind of patterns occur involving the other intermediate shell companies?\n",
    "\n",
    "The remaining 10 shell companies of interest about tradecraft patterns are located approximately at the computed \"center\" of the graph, and these tend to be involved in cycles:\n",
    "\n",
    "  * \"DANSKE BANK A/S EESTI FILIAAL\"\n",
    "  * \"RIVERLANE LLP\"\n",
    "  * \"GLOBECOM TRADE L.P\"\n",
    "  * \"MOLONEY TRADE LLP\"\n",
    "  * \"DEUTDEFFXXX\"\n",
    "  * \"WILLROCK UNITED LLP\"\n",
    "  * \"HARDWARE SYSTEM LLP\"\n",
    "  * \"BONDWEST LLP\"\n",
    "  * \"DELFRONT IMPORT LLP\"\n",
    "  * \"REDPARK SALES CORP\"\n",
    "\n",
    "Note that the leaked transaction data came from an Estonian branch of Danske Bank, which is one of these intermediary nodes identified: \"DANSKE BANK A/S EESTI FILIAAL\" https://thebanks.eu/banks/13002"
   ]
  }
 ],
 "metadata": {
  "kernelspec": {
   "display_name": "Python 3 (ipykernel)",
   "language": "python",
   "name": "python3"
  },
  "language_info": {
   "codemirror_mode": {
    "name": "ipython",
    "version": 3
   },
   "file_extension": ".py",
   "mimetype": "text/x-python",
   "name": "python",
   "nbconvert_exporter": "python",
   "pygments_lexer": "ipython3",
   "version": "3.13.2"
  }
 },
 "nbformat": 4,
 "nbformat_minor": 5
}
